{
  "cells": [
    {
      "cell_type": "markdown",
      "metadata": {
        "id": "view-in-github",
        "colab_type": "text"
      },
      "source": [
        "<a href=\"https://colab.research.google.com/github/mznamira015/Basic-Intro-to-Analytics-and-ML-with-Python/blob/main/lab4DM.ipynb\" target=\"_parent\"><img src=\"https://colab.research.google.com/assets/colab-badge.svg\" alt=\"Open In Colab\"/></a>"
      ]
    },
    {
      "cell_type": "code",
      "execution_count": null,
      "metadata": {
        "colab": {
          "base_uri": "https://localhost:8080/"
        },
        "id": "eN0OWG3Ie-yK",
        "outputId": "9950f9d9-5cfe-4222-e065-7ceda50e73ad"
      },
      "outputs": [
        {
          "name": "stdout",
          "output_type": "stream",
          "text": [
            "[  5.  14.  17.  37.  54.  59.  59.  65.  68.  79.  94. 111. 119. 119.\n",
            " 125. 142.]\n"
          ]
        }
      ],
      "source": [
        "import numpy as np\n",
        "\n",
        "# original image matrix\n",
        "img_matrix = [[3, 4, 2, 8], [7, 3, 1, 3], [2, 5, 6, 7],  [4, 1, 3, 7]]\n",
        "\n",
        "# desired range for image matrix\n",
        "new_min = 1\n",
        "new_max = 20\n",
        "\n",
        "# calculate the probability and cumulative probability\n",
        "img_matrix = np.array(img_matrix)\n",
        "probability = (img_matrix - np.min(img_matrix)) / (np.max(img_matrix) - np.min(img_matrix))\n",
        "cumulative_probability = probability.cumsum()\n",
        "\n",
        "# enhance the image matrix\n",
        "range = (new_max - new_min)+1\n",
        "enhanced_img_matrix = np.floor( (range* cumulative_probability ))\n",
        "\n",
        "print(enhanced_img_matrix)\n"
      ]
    },
    {
      "cell_type": "code",
      "execution_count": 3,
      "metadata": {
        "colab": {
          "base_uri": "https://localhost:8080/"
        },
        "id": "VCSAO8ztzLmg",
        "outputId": "b32823d8-f265-40bf-db5a-51aa2870978b"
      },
      "outputs": [
        {
          "output_type": "stream",
          "name": "stdout",
          "text": [
            "The original  image matrix is : [[3 4 2 8]\n",
            " [7 3 1 3]\n",
            " [2 5 6 7]\n",
            " [4 1 3 7]]\n",
            "0.125\n",
            "0.125\n",
            "0.25\n",
            "0.125\n",
            "0.0625\n",
            "0.0625\n",
            "0.1875\n",
            "0.0625\n",
            "[0.125]\n",
            "[0.25]\n",
            "[0.5]\n",
            "[0.625]\n",
            "[0.6875]\n",
            "[0.75]\n",
            "[0.9375]\n",
            "[1.]\n",
            "[20.]\n"
          ]
        }
      ],
      "source": [
        "import numpy as np\n",
        "\n",
        "# original image matrix\n",
        "img_matrix = [[3, 4, 2, 8], [7, 3, 1, 3], [2, 5, 6, 7],  [4, 1, 3, 7]]\n",
        "\n",
        "# desired range for image matrix\n",
        "new_min = 1\n",
        "new_max = 20\n",
        "\n",
        "# calculate the probability and cumulative probability\n",
        "img_matrix = np.array(img_matrix)\n",
        "# printing original list\n",
        "print(\"The original  image matrix is : \" + str(img_matrix))\n",
        "c = 16\n",
        "\n",
        "res=dict()\n",
        "a=[]\n",
        "for i in img_matrix:\n",
        "    a.extend(i)\n",
        "b=set(a)\n",
        "for i in b:\n",
        "    res[i]=a.count(i)\n",
        "    probability = ( res[i] /float(c) )\n",
        "    print(probability)\n",
        "for i in b:\n",
        "    probability = ( res[i] /float(c) )\n",
        "    cumulative_probability += probability\n",
        "    print(cumulative_probability)\n",
        "\n",
        "# enhance the image matrix\n",
        "range = (new_max - new_min)+1\n",
        "enhanced_img_matrix = np.floor( (range* cumulative_probability ))\n",
        "\n",
        "print(enhanced_img_matrix)\n"
      ]
    }
  ],
  "metadata": {
    "colab": {
      "provenance": [],
      "authorship_tag": "ABX9TyMXBvOsaKN0PP1fjyrNeKZb",
      "include_colab_link": true
    },
    "kernelspec": {
      "display_name": "Python 3",
      "name": "python3"
    },
    "language_info": {
      "name": "python"
    }
  },
  "nbformat": 4,
  "nbformat_minor": 0
}