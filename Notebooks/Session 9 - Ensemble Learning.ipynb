{
 "cells": [
  {
   "cell_type": "markdown",
   "id": "9c24efd8",
   "metadata": {},
   "source": [
    "# Ensemble Learning"
   ]
  },
  {
   "cell_type": "markdown",
   "id": "6b76f5b6",
   "metadata": {},
   "source": [
    "In last two sections we looked into using ML to either predict a number, or to classify a data into whether it belongs to one group or other. In both the cases, our approach was - use a model, identify how well the accuracy of the model is, and then try to understand the model. But now we live in the age of big data and megaprocessing powers. Today our basic computers pack such a power that we can process gigabytes of data, and then we have the concepts of cloud computing distributed processing. So why limit ourselves to the choice of one model. We can actually build our predictions from a model which is a combination of several models, each suggesting a prediction, and the final prediction is a weighted aggregation of all the individual predictions by the individial models. That is where the true power of machine learning lies - Ensemble learning, where we use, instead of a single model, a group of models, to give us our predictions. This session will introduce three such ensemble lerning approaches:\n",
    "1. Random Forests\n",
    "2. Stacking\n",
    "3. Boosting\n",
    "\n",
    "## Random Forests\n",
    "\n",
    "Random forests are one of the more common types of ensemble learning algorithms. The concept of random forest derives from trees. We previously used tree based methods to make predictions of spending amount of customers, or to make predictions of whether a loan application is likely to default or not. A forest is a collection of trees! So basically, instead of a single tree, we fit multiple trees with the data. But how can you fit multiple trees using the same algorithm for the same data?\n",
    "\n",
    "Simple! We first start with a subset of the training dataset, both in terms of columns and rows. Which means, from the full training dataset, we take some random rows of data where also some random columns are selected. Then we fit a tree. We do this many times (100s, or 1000s), each time selected a subset of rows and columns, and each time fitting a single tree model. So we end up with 100s or 1000s of trees, a forest. Then for our prediction, instead of choosing from one single tree, we take the prediction of single datapoint for each and every single tree, and then we average the 100s or 1000s of prediction together to get our predicted value. Sounds familiar? This is basically the concept of the wisdom of the crowds - some models will be very extreme, but when all the models' outputs are brought together, the prediction becomes. Also the beauty of the random forest approach is that helps in preventing overfitting in models - since each tree is fitted differently in some different form of data, one of two of the trees might overfit, but overall, other trees will reduce the domination of the overfitted trees."
   ]
  },
  {
   "cell_type": "markdown",
   "id": "7977d8ef",
   "metadata": {},
   "source": [
    "Enough about the theory. If you want to know more about random forests, one good video would be - https://www.youtube.com/watch?v=J4Wdy0Wc_xQ&t=248s"
   ]
  },
  {
   "cell_type": "markdown",
   "id": "060d3cc2",
   "metadata": {},
   "source": [
    "Lets start by loading our usual libraries and then the data"
   ]
  },
  {
   "cell_type": "code",
   "execution_count": 1,
   "id": "c88d1cc8",
   "metadata": {},
   "outputs": [
    {
     "data": {
      "text/html": [
       "<div>\n",
       "<style scoped>\n",
       "    .dataframe tbody tr th:only-of-type {\n",
       "        vertical-align: middle;\n",
       "    }\n",
       "\n",
       "    .dataframe tbody tr th {\n",
       "        vertical-align: top;\n",
       "    }\n",
       "\n",
       "    .dataframe thead th {\n",
       "        text-align: right;\n",
       "    }\n",
       "</style>\n",
       "<table border=\"1\" class=\"dataframe\">\n",
       "  <thead>\n",
       "    <tr style=\"text-align: right;\">\n",
       "      <th></th>\n",
       "      <th>person_age</th>\n",
       "      <th>person_income</th>\n",
       "      <th>person_home_ownership</th>\n",
       "      <th>person_emp_length</th>\n",
       "      <th>loan_intent</th>\n",
       "      <th>loan_grade</th>\n",
       "      <th>loan_amnt</th>\n",
       "      <th>loan_int_rate</th>\n",
       "      <th>loan_status</th>\n",
       "      <th>loan_percent_income</th>\n",
       "      <th>cb_person_default_on_file</th>\n",
       "      <th>cb_person_cred_hist_length</th>\n",
       "    </tr>\n",
       "  </thead>\n",
       "  <tbody>\n",
       "    <tr>\n",
       "      <th>0</th>\n",
       "      <td>22</td>\n",
       "      <td>59000</td>\n",
       "      <td>RENT</td>\n",
       "      <td>123.0</td>\n",
       "      <td>PERSONAL</td>\n",
       "      <td>D</td>\n",
       "      <td>35000</td>\n",
       "      <td>16.02</td>\n",
       "      <td>1</td>\n",
       "      <td>0.59</td>\n",
       "      <td>Y</td>\n",
       "      <td>3</td>\n",
       "    </tr>\n",
       "    <tr>\n",
       "      <th>1</th>\n",
       "      <td>21</td>\n",
       "      <td>9600</td>\n",
       "      <td>OWN</td>\n",
       "      <td>5.0</td>\n",
       "      <td>EDUCATION</td>\n",
       "      <td>B</td>\n",
       "      <td>1000</td>\n",
       "      <td>11.14</td>\n",
       "      <td>0</td>\n",
       "      <td>0.10</td>\n",
       "      <td>N</td>\n",
       "      <td>2</td>\n",
       "    </tr>\n",
       "    <tr>\n",
       "      <th>2</th>\n",
       "      <td>25</td>\n",
       "      <td>9600</td>\n",
       "      <td>MORTGAGE</td>\n",
       "      <td>1.0</td>\n",
       "      <td>MEDICAL</td>\n",
       "      <td>C</td>\n",
       "      <td>5500</td>\n",
       "      <td>12.87</td>\n",
       "      <td>1</td>\n",
       "      <td>0.57</td>\n",
       "      <td>N</td>\n",
       "      <td>3</td>\n",
       "    </tr>\n",
       "    <tr>\n",
       "      <th>3</th>\n",
       "      <td>23</td>\n",
       "      <td>65500</td>\n",
       "      <td>RENT</td>\n",
       "      <td>4.0</td>\n",
       "      <td>MEDICAL</td>\n",
       "      <td>C</td>\n",
       "      <td>35000</td>\n",
       "      <td>15.23</td>\n",
       "      <td>1</td>\n",
       "      <td>0.53</td>\n",
       "      <td>N</td>\n",
       "      <td>2</td>\n",
       "    </tr>\n",
       "    <tr>\n",
       "      <th>4</th>\n",
       "      <td>24</td>\n",
       "      <td>54400</td>\n",
       "      <td>RENT</td>\n",
       "      <td>8.0</td>\n",
       "      <td>MEDICAL</td>\n",
       "      <td>C</td>\n",
       "      <td>35000</td>\n",
       "      <td>14.27</td>\n",
       "      <td>1</td>\n",
       "      <td>0.55</td>\n",
       "      <td>Y</td>\n",
       "      <td>4</td>\n",
       "    </tr>\n",
       "  </tbody>\n",
       "</table>\n",
       "</div>"
      ],
      "text/plain": [
       "   person_age  person_income person_home_ownership  person_emp_length  \\\n",
       "0          22          59000                  RENT              123.0   \n",
       "1          21           9600                   OWN                5.0   \n",
       "2          25           9600              MORTGAGE                1.0   \n",
       "3          23          65500                  RENT                4.0   \n",
       "4          24          54400                  RENT                8.0   \n",
       "\n",
       "  loan_intent loan_grade  loan_amnt  loan_int_rate  loan_status  \\\n",
       "0    PERSONAL          D      35000          16.02            1   \n",
       "1   EDUCATION          B       1000          11.14            0   \n",
       "2     MEDICAL          C       5500          12.87            1   \n",
       "3     MEDICAL          C      35000          15.23            1   \n",
       "4     MEDICAL          C      35000          14.27            1   \n",
       "\n",
       "   loan_percent_income cb_person_default_on_file  cb_person_cred_hist_length  \n",
       "0                 0.59                         Y                           3  \n",
       "1                 0.10                         N                           2  \n",
       "2                 0.57                         N                           3  \n",
       "3                 0.53                         N                           2  \n",
       "4                 0.55                         Y                           4  "
      ]
     },
     "execution_count": 1,
     "metadata": {},
     "output_type": "execute_result"
    }
   ],
   "source": [
    "# Starting with Pandas\n",
    "import pandas as pd\n",
    "\n",
    "# The setting up the place for visualizations\n",
    "pd.plotting.register_matplotlib_converters()\n",
    "\n",
    "import matplotlib.pyplot as plt\n",
    "\n",
    "%matplotlib inline\n",
    "\n",
    "import seaborn as sns\n",
    "\n",
    "# Importing the sys library for installing packages when we will need them\n",
    "import sys\n",
    "\n",
    "# Importing numpy if we need to work with numeric calculations\n",
    "import numpy as np\n",
    "\n",
    "# Finally loading the data - for this session we will stick with the Credit Default dataset\n",
    "loandata = pd.read_csv(\"/Users/muhammadsaqifulalam/Dropbox/My Mac (FVFD1URVP3XY)/Desktop/credit_risk_dataset.csv\")\n",
    "\n",
    "# Taking a peek at the data\n",
    "loandata.head()"
   ]
  },
  {
   "cell_type": "markdown",
   "id": "fd494fc1",
   "metadata": {},
   "source": [
    "Now based on our learning from the previous session we will clean the data accordingly, kick out the outliers of the income, age and employment lenght, and then drop the missing values and the duplicates"
   ]
  },
  {
   "cell_type": "code",
   "execution_count": 2,
   "id": "6c582176",
   "metadata": {},
   "outputs": [
    {
     "data": {
      "text/plain": [
       "(28488, 12)"
      ]
     },
     "execution_count": 2,
     "metadata": {},
     "output_type": "execute_result"
    }
   ],
   "source": [
    "# Removing the outliers in one go\n",
    "loandata = loandata[(loandata[\"person_income\"] <= 1000000) & (loandata[\"person_age\"] <= 80) & (loandata[\"person_emp_length\"] <= 60)]\n",
    "\n",
    "# Dropping the imssing values\n",
    "loandata = loandata.dropna()\n",
    "\n",
    "# Dropping duplicates\n",
    "loandata = loandata.drop_duplicates()\n",
    "\n",
    "# Finally, checking what is the dimensions of the data\n",
    "loandata.shape"
   ]
  },
  {
   "cell_type": "markdown",
   "id": "525988fd",
   "metadata": {},
   "source": [
    "Next, we rebalance the dataset, to create a dataset where one third of the applications defaulted, and two thirds did not default"
   ]
  },
  {
   "cell_type": "code",
   "execution_count": 3,
   "id": "e3920b83",
   "metadata": {},
   "outputs": [
    {
     "data": {
      "text/html": [
       "<div>\n",
       "<style scoped>\n",
       "    .dataframe tbody tr th:only-of-type {\n",
       "        vertical-align: middle;\n",
       "    }\n",
       "\n",
       "    .dataframe tbody tr th {\n",
       "        vertical-align: top;\n",
       "    }\n",
       "\n",
       "    .dataframe thead th {\n",
       "        text-align: right;\n",
       "    }\n",
       "</style>\n",
       "<table border=\"1\" class=\"dataframe\">\n",
       "  <thead>\n",
       "    <tr style=\"text-align: right;\">\n",
       "      <th></th>\n",
       "      <th>person_age</th>\n",
       "      <th>person_income</th>\n",
       "      <th>person_home_ownership</th>\n",
       "      <th>person_emp_length</th>\n",
       "      <th>loan_intent</th>\n",
       "      <th>loan_grade</th>\n",
       "      <th>loan_amnt</th>\n",
       "      <th>loan_int_rate</th>\n",
       "      <th>loan_status</th>\n",
       "      <th>loan_percent_income</th>\n",
       "      <th>cb_person_default_on_file</th>\n",
       "      <th>cb_person_cred_hist_length</th>\n",
       "    </tr>\n",
       "  </thead>\n",
       "  <tbody>\n",
       "    <tr>\n",
       "      <th>0</th>\n",
       "      <td>26</td>\n",
       "      <td>75000</td>\n",
       "      <td>MORTGAGE</td>\n",
       "      <td>4.0</td>\n",
       "      <td>DEBTCONSOLIDATION</td>\n",
       "      <td>B</td>\n",
       "      <td>21000</td>\n",
       "      <td>11.48</td>\n",
       "      <td>0</td>\n",
       "      <td>0.28</td>\n",
       "      <td>N</td>\n",
       "      <td>4</td>\n",
       "    </tr>\n",
       "    <tr>\n",
       "      <th>1</th>\n",
       "      <td>21</td>\n",
       "      <td>40000</td>\n",
       "      <td>MORTGAGE</td>\n",
       "      <td>5.0</td>\n",
       "      <td>MEDICAL</td>\n",
       "      <td>A</td>\n",
       "      <td>9000</td>\n",
       "      <td>7.51</td>\n",
       "      <td>0</td>\n",
       "      <td>0.23</td>\n",
       "      <td>N</td>\n",
       "      <td>4</td>\n",
       "    </tr>\n",
       "    <tr>\n",
       "      <th>2</th>\n",
       "      <td>23</td>\n",
       "      <td>45480</td>\n",
       "      <td>MORTGAGE</td>\n",
       "      <td>7.0</td>\n",
       "      <td>DEBTCONSOLIDATION</td>\n",
       "      <td>C</td>\n",
       "      <td>4400</td>\n",
       "      <td>13.16</td>\n",
       "      <td>1</td>\n",
       "      <td>0.10</td>\n",
       "      <td>N</td>\n",
       "      <td>3</td>\n",
       "    </tr>\n",
       "    <tr>\n",
       "      <th>3</th>\n",
       "      <td>24</td>\n",
       "      <td>70399</td>\n",
       "      <td>RENT</td>\n",
       "      <td>0.0</td>\n",
       "      <td>DEBTCONSOLIDATION</td>\n",
       "      <td>A</td>\n",
       "      <td>1000</td>\n",
       "      <td>8.59</td>\n",
       "      <td>0</td>\n",
       "      <td>0.01</td>\n",
       "      <td>N</td>\n",
       "      <td>2</td>\n",
       "    </tr>\n",
       "    <tr>\n",
       "      <th>4</th>\n",
       "      <td>22</td>\n",
       "      <td>36000</td>\n",
       "      <td>RENT</td>\n",
       "      <td>3.0</td>\n",
       "      <td>EDUCATION</td>\n",
       "      <td>A</td>\n",
       "      <td>4000</td>\n",
       "      <td>5.42</td>\n",
       "      <td>0</td>\n",
       "      <td>0.11</td>\n",
       "      <td>N</td>\n",
       "      <td>2</td>\n",
       "    </tr>\n",
       "  </tbody>\n",
       "</table>\n",
       "</div>"
      ],
      "text/plain": [
       "   person_age  person_income person_home_ownership  person_emp_length  \\\n",
       "0          26          75000              MORTGAGE                4.0   \n",
       "1          21          40000              MORTGAGE                5.0   \n",
       "2          23          45480              MORTGAGE                7.0   \n",
       "3          24          70399                  RENT                0.0   \n",
       "4          22          36000                  RENT                3.0   \n",
       "\n",
       "         loan_intent loan_grade  loan_amnt  loan_int_rate  loan_status  \\\n",
       "0  DEBTCONSOLIDATION          B      21000          11.48            0   \n",
       "1            MEDICAL          A       9000           7.51            0   \n",
       "2  DEBTCONSOLIDATION          C       4400          13.16            1   \n",
       "3  DEBTCONSOLIDATION          A       1000           8.59            0   \n",
       "4          EDUCATION          A       4000           5.42            0   \n",
       "\n",
       "   loan_percent_income cb_person_default_on_file  cb_person_cred_hist_length  \n",
       "0                 0.28                         N                           4  \n",
       "1                 0.23                         N                           4  \n",
       "2                 0.10                         N                           3  \n",
       "3                 0.01                         N                           2  \n",
       "4                 0.11                         N                           2  "
      ]
     },
     "execution_count": 3,
     "metadata": {},
     "output_type": "execute_result"
    }
   ],
   "source": [
    "# Taking out the defaulters\n",
    "defs = loandata[loandata[\"loan_status\"] == 1]\n",
    "\n",
    "# Taking out the non-defaulters\n",
    "nondefs_full = loandata[loandata[\"loan_status\"] == 0]\n",
    "\n",
    "# Created a sample of non defs who are twice the size of defs\n",
    "nondefs_sample = nondefs_full.sample(n = (2 * len(defs)))\n",
    "\n",
    "# Joining the datasets together\n",
    "finaldata = pd.concat([defs, nondefs_sample])\n",
    "\n",
    "# Shuffling the whole dataset\n",
    "finaldata = finaldata.sample(n = len(finaldata))\n",
    "\n",
    "# Removing the index column auto craeted when we sampled\n",
    "finaldata = finaldata.reset_index(drop = True)\n",
    "\n",
    "# Finally taking a peek at the new final dataset\n",
    "finaldata.head()"
   ]
  },
  {
   "cell_type": "code",
   "execution_count": 4,
   "id": "c38c1403",
   "metadata": {},
   "outputs": [
    {
     "data": {
      "text/plain": [
       "0.3333333333333333"
      ]
     },
     "execution_count": 4,
     "metadata": {},
     "output_type": "execute_result"
    }
   ],
   "source": [
    "# Confirming that the rebalancing was successful\n",
    "finaldata.loan_status.mean()"
   ]
  },
  {
   "cell_type": "markdown",
   "id": "00dceeb6",
   "metadata": {},
   "source": [
    "Now, we will prepare the dataset by one hot encoding and then scaling using min max scaler"
   ]
  },
  {
   "cell_type": "code",
   "execution_count": 5,
   "id": "01cf8e12",
   "metadata": {},
   "outputs": [
    {
     "data": {
      "text/html": [
       "<div>\n",
       "<style scoped>\n",
       "    .dataframe tbody tr th:only-of-type {\n",
       "        vertical-align: middle;\n",
       "    }\n",
       "\n",
       "    .dataframe tbody tr th {\n",
       "        vertical-align: top;\n",
       "    }\n",
       "\n",
       "    .dataframe thead th {\n",
       "        text-align: right;\n",
       "    }\n",
       "</style>\n",
       "<table border=\"1\" class=\"dataframe\">\n",
       "  <thead>\n",
       "    <tr style=\"text-align: right;\">\n",
       "      <th></th>\n",
       "      <th>person_age</th>\n",
       "      <th>person_income</th>\n",
       "      <th>person_emp_length</th>\n",
       "      <th>loan_amnt</th>\n",
       "      <th>loan_int_rate</th>\n",
       "      <th>loan_status</th>\n",
       "      <th>loan_percent_income</th>\n",
       "      <th>cb_person_cred_hist_length</th>\n",
       "      <th>person_home_ownership_MORTGAGE</th>\n",
       "      <th>person_home_ownership_OTHER</th>\n",
       "      <th>...</th>\n",
       "      <th>loan_intent_VENTURE</th>\n",
       "      <th>loan_grade_A</th>\n",
       "      <th>loan_grade_B</th>\n",
       "      <th>loan_grade_C</th>\n",
       "      <th>loan_grade_D</th>\n",
       "      <th>loan_grade_E</th>\n",
       "      <th>loan_grade_F</th>\n",
       "      <th>loan_grade_G</th>\n",
       "      <th>cb_person_default_on_file_N</th>\n",
       "      <th>cb_person_default_on_file_Y</th>\n",
       "    </tr>\n",
       "  </thead>\n",
       "  <tbody>\n",
       "    <tr>\n",
       "      <th>0</th>\n",
       "      <td>0.100000</td>\n",
       "      <td>0.079241</td>\n",
       "      <td>0.097561</td>\n",
       "      <td>0.594203</td>\n",
       "      <td>0.340449</td>\n",
       "      <td>0.0</td>\n",
       "      <td>0.337349</td>\n",
       "      <td>0.071429</td>\n",
       "      <td>1.0</td>\n",
       "      <td>0.0</td>\n",
       "      <td>...</td>\n",
       "      <td>0.0</td>\n",
       "      <td>0.0</td>\n",
       "      <td>1.0</td>\n",
       "      <td>0.0</td>\n",
       "      <td>0.0</td>\n",
       "      <td>0.0</td>\n",
       "      <td>0.0</td>\n",
       "      <td>0.0</td>\n",
       "      <td>1.0</td>\n",
       "      <td>0.0</td>\n",
       "    </tr>\n",
       "    <tr>\n",
       "      <th>1</th>\n",
       "      <td>0.016667</td>\n",
       "      <td>0.040179</td>\n",
       "      <td>0.121951</td>\n",
       "      <td>0.246377</td>\n",
       "      <td>0.117416</td>\n",
       "      <td>0.0</td>\n",
       "      <td>0.277108</td>\n",
       "      <td>0.071429</td>\n",
       "      <td>1.0</td>\n",
       "      <td>0.0</td>\n",
       "      <td>...</td>\n",
       "      <td>0.0</td>\n",
       "      <td>1.0</td>\n",
       "      <td>0.0</td>\n",
       "      <td>0.0</td>\n",
       "      <td>0.0</td>\n",
       "      <td>0.0</td>\n",
       "      <td>0.0</td>\n",
       "      <td>0.0</td>\n",
       "      <td>1.0</td>\n",
       "      <td>0.0</td>\n",
       "    </tr>\n",
       "    <tr>\n",
       "      <th>2</th>\n",
       "      <td>0.050000</td>\n",
       "      <td>0.046295</td>\n",
       "      <td>0.170732</td>\n",
       "      <td>0.113043</td>\n",
       "      <td>0.434831</td>\n",
       "      <td>1.0</td>\n",
       "      <td>0.120482</td>\n",
       "      <td>0.035714</td>\n",
       "      <td>1.0</td>\n",
       "      <td>0.0</td>\n",
       "      <td>...</td>\n",
       "      <td>0.0</td>\n",
       "      <td>0.0</td>\n",
       "      <td>0.0</td>\n",
       "      <td>1.0</td>\n",
       "      <td>0.0</td>\n",
       "      <td>0.0</td>\n",
       "      <td>0.0</td>\n",
       "      <td>0.0</td>\n",
       "      <td>1.0</td>\n",
       "      <td>0.0</td>\n",
       "    </tr>\n",
       "    <tr>\n",
       "      <th>3</th>\n",
       "      <td>0.066667</td>\n",
       "      <td>0.074106</td>\n",
       "      <td>0.000000</td>\n",
       "      <td>0.014493</td>\n",
       "      <td>0.178090</td>\n",
       "      <td>0.0</td>\n",
       "      <td>0.012048</td>\n",
       "      <td>0.000000</td>\n",
       "      <td>0.0</td>\n",
       "      <td>0.0</td>\n",
       "      <td>...</td>\n",
       "      <td>0.0</td>\n",
       "      <td>1.0</td>\n",
       "      <td>0.0</td>\n",
       "      <td>0.0</td>\n",
       "      <td>0.0</td>\n",
       "      <td>0.0</td>\n",
       "      <td>0.0</td>\n",
       "      <td>0.0</td>\n",
       "      <td>1.0</td>\n",
       "      <td>0.0</td>\n",
       "    </tr>\n",
       "    <tr>\n",
       "      <th>4</th>\n",
       "      <td>0.033333</td>\n",
       "      <td>0.035714</td>\n",
       "      <td>0.073171</td>\n",
       "      <td>0.101449</td>\n",
       "      <td>0.000000</td>\n",
       "      <td>0.0</td>\n",
       "      <td>0.132530</td>\n",
       "      <td>0.000000</td>\n",
       "      <td>0.0</td>\n",
       "      <td>0.0</td>\n",
       "      <td>...</td>\n",
       "      <td>0.0</td>\n",
       "      <td>1.0</td>\n",
       "      <td>0.0</td>\n",
       "      <td>0.0</td>\n",
       "      <td>0.0</td>\n",
       "      <td>0.0</td>\n",
       "      <td>0.0</td>\n",
       "      <td>0.0</td>\n",
       "      <td>1.0</td>\n",
       "      <td>0.0</td>\n",
       "    </tr>\n",
       "  </tbody>\n",
       "</table>\n",
       "<p>5 rows × 27 columns</p>\n",
       "</div>"
      ],
      "text/plain": [
       "   person_age  person_income  person_emp_length  loan_amnt  loan_int_rate  \\\n",
       "0    0.100000       0.079241           0.097561   0.594203       0.340449   \n",
       "1    0.016667       0.040179           0.121951   0.246377       0.117416   \n",
       "2    0.050000       0.046295           0.170732   0.113043       0.434831   \n",
       "3    0.066667       0.074106           0.000000   0.014493       0.178090   \n",
       "4    0.033333       0.035714           0.073171   0.101449       0.000000   \n",
       "\n",
       "   loan_status  loan_percent_income  cb_person_cred_hist_length  \\\n",
       "0          0.0             0.337349                    0.071429   \n",
       "1          0.0             0.277108                    0.071429   \n",
       "2          1.0             0.120482                    0.035714   \n",
       "3          0.0             0.012048                    0.000000   \n",
       "4          0.0             0.132530                    0.000000   \n",
       "\n",
       "   person_home_ownership_MORTGAGE  person_home_ownership_OTHER  ...  \\\n",
       "0                             1.0                          0.0  ...   \n",
       "1                             1.0                          0.0  ...   \n",
       "2                             1.0                          0.0  ...   \n",
       "3                             0.0                          0.0  ...   \n",
       "4                             0.0                          0.0  ...   \n",
       "\n",
       "   loan_intent_VENTURE  loan_grade_A  loan_grade_B  loan_grade_C  \\\n",
       "0                  0.0           0.0           1.0           0.0   \n",
       "1                  0.0           1.0           0.0           0.0   \n",
       "2                  0.0           0.0           0.0           1.0   \n",
       "3                  0.0           1.0           0.0           0.0   \n",
       "4                  0.0           1.0           0.0           0.0   \n",
       "\n",
       "   loan_grade_D  loan_grade_E  loan_grade_F  loan_grade_G  \\\n",
       "0           0.0           0.0           0.0           0.0   \n",
       "1           0.0           0.0           0.0           0.0   \n",
       "2           0.0           0.0           0.0           0.0   \n",
       "3           0.0           0.0           0.0           0.0   \n",
       "4           0.0           0.0           0.0           0.0   \n",
       "\n",
       "   cb_person_default_on_file_N  cb_person_default_on_file_Y  \n",
       "0                          1.0                          0.0  \n",
       "1                          1.0                          0.0  \n",
       "2                          1.0                          0.0  \n",
       "3                          1.0                          0.0  \n",
       "4                          1.0                          0.0  \n",
       "\n",
       "[5 rows x 27 columns]"
      ]
     },
     "execution_count": 5,
     "metadata": {},
     "output_type": "execute_result"
    }
   ],
   "source": [
    "# One hot encoding to transform the categorical variables to numeric counterparts\n",
    "finaldata_dummies = pd.get_dummies(finaldata)\n",
    "\n",
    "# Importing the Min Max scaler from Sklearn\n",
    "from sklearn.preprocessing import MinMaxScaler\n",
    "\n",
    "# Creating the scaler object\n",
    "scaler = MinMaxScaler()\n",
    "\n",
    "# Fitting the scaler to the data to craete a scaled array\n",
    "scaled = scaler.fit_transform(finaldata_dummies)\n",
    "\n",
    "# Converting the scaled array to our dataset\n",
    "finaldata_scaled = pd.DataFrame(scaled, columns = finaldata_dummies.columns)\n",
    "\n",
    "# Taking a peek at the data\n",
    "finaldata_scaled.head()"
   ]
  },
  {
   "cell_type": "markdown",
   "id": "a4ac834b",
   "metadata": {},
   "source": [
    "Phew! Quite a lot of steps to get ourselves prepared for the analysis of this data. But that is good, it shows how much we have covered in the last few sessions, when we did all these things. We are left with one last step, before we jump in fitting our models. We need to create the Train and Test Splits. Lets do them next"
   ]
  },
  {
   "cell_type": "code",
   "execution_count": 6,
   "id": "a3cfc733",
   "metadata": {},
   "outputs": [
    {
     "name": "stdout",
     "output_type": "stream",
     "text": [
      "(12992, 26) (5569, 26) 12992 5569\n"
     ]
    }
   ],
   "source": [
    "# Importing the train test splittter\n",
    "from sklearn.model_selection import train_test_split\n",
    "\n",
    "# Dropping the loan status from the final data to make it the X set\n",
    "X = finaldata_scaled.drop(\"loan_status\", axis = 1)\n",
    "\n",
    "# Creating the Y by just taking the loan status\n",
    "Y = finaldata_scaled[\"loan_status\"]\n",
    "\n",
    "# Creating the X and Y test and train\n",
    "X_train, X_test, Y_train, Y_test = train_test_split(X, Y, test_size = 0.3)\n",
    "\n",
    "# Checking whether we got the desired results\n",
    "print(X_train.shape, X_test.shape, len(Y_train), len(Y_test))"
   ]
  },
  {
   "cell_type": "markdown",
   "id": "9627ef2f",
   "metadata": {},
   "source": [
    "Now we are fully equipped to fit our random forest model. The steps to run this models is exactly the same as any other ML models we have seen using the SKlearn library. This is the beauty of Sklearn in python, it standardizes ML in a way that you can easily go through many models without much of a change in preparations"
   ]
  },
  {
   "cell_type": "code",
   "execution_count": 7,
   "id": "972a0317",
   "metadata": {},
   "outputs": [
    {
     "name": "stdout",
     "output_type": "stream",
     "text": [
      "[0. 0. 0. 0. 0.] [[0.87 0.13]\n",
      " [0.81 0.19]\n",
      " [0.52 0.48]\n",
      " [0.75 0.25]\n",
      " [0.99 0.01]]\n"
     ]
    }
   ],
   "source": [
    "# Loading the Random Forest function\n",
    "from sklearn.ensemble import RandomForestClassifier\n",
    "\n",
    "# Creating a forest object with 100 trees\n",
    "rf100 = RandomForestClassifier(n_estimators = 100)\n",
    "\n",
    "# Fitting the model\n",
    "rf100.fit(X_train, Y_train)\n",
    "\n",
    "# Making top 5 predictions of the X_test, and also the probabilities\n",
    "print(rf100.predict(X_test.head()), rf100.predict_proba(X_test.head()))"
   ]
  },
  {
   "cell_type": "markdown",
   "id": "f6f7c2ed",
   "metadata": {},
   "source": [
    "Next, we can check both the confusion matrix and the accuracy, precision and recall to decide on the model performance"
   ]
  },
  {
   "cell_type": "code",
   "execution_count": 8,
   "id": "ca8dc97f",
   "metadata": {},
   "outputs": [
    {
     "data": {
      "text/plain": [
       "<sklearn.metrics._plot.confusion_matrix.ConfusionMatrixDisplay at 0x7fca47ddbcd0>"
      ]
     },
     "execution_count": 8,
     "metadata": {},
     "output_type": "execute_result"
    },
    {
     "data": {
      "image/png": "[encoded data removed]",
      "text/plain": [
       "<Figure size 640x480 with 2 Axes>"
      ]
     },
     "metadata": {},
     "output_type": "display_data"
    }
   ],
   "source": [
    "# Importing the functions to create the confusion matrix and to plot it\n",
    "from sklearn.metrics import confusion_matrix, ConfusionMatrixDisplay\n",
    "\n",
    "# Creating the Matrix\n",
    "cm = confusion_matrix(y_true = Y_test, y_pred = rf100.predict(X_test))\n",
    "\n",
    "# Plotting the Matrix\n",
    "ConfusionMatrixDisplay(cm).plot()"
   ]
  },
  {
   "cell_type": "code",
   "execution_count": 9,
   "id": "6ce59d0c",
   "metadata": {},
   "outputs": [
    {
     "name": "stdout",
     "output_type": "stream",
     "text": [
      "              precision    recall  f1-score   support\n",
      "\n",
      "         0.0       0.88      0.98      0.93      3710\n",
      "         1.0       0.94      0.74      0.83      1859\n",
      "\n",
      "    accuracy                           0.90      5569\n",
      "   macro avg       0.91      0.86      0.88      5569\n",
      "weighted avg       0.90      0.90      0.89      5569\n",
      "\n"
     ]
    }
   ],
   "source": [
    "# Importing the function to get accuracy, precision and recall\n",
    "from sklearn.metrics import classification_report\n",
    "\n",
    "# Creating and printing the report\n",
    "print(classification_report(y_true = Y_test, y_pred = rf100.predict(X_test)))"
   ]
  },
  {
   "cell_type": "markdown",
   "id": "bb941708",
   "metadata": {},
   "source": [
    "So we can see that the model is overall more accurate (from 84% before to 90% now). But the challenge is in Recall, which has gone down from the single tree model, though there is a very high increase in precision, almost 20%. Whats happening here is that when we are putting many trees together, the algorithm is undestanding its easier to make sure we dont call any non defaulters to be a potential defaulter. Also this is an indication that the previous model we trained (a single tree) could be overfitting.\n",
    "\n",
    "Now, a question can be, how large should the forest be - 10 trees? 50 trees? 100? 250? 500? 1000? The beauty of programming is we can check exactly that, using a for loop"
   ]
  },
  {
   "cell_type": "code",
   "execution_count": 10,
   "id": "a4466faf",
   "metadata": {},
   "outputs": [
    {
     "name": "stdout",
     "output_type": "stream",
     "text": [
      "0.8980068234871611 0.9436426116838488 0.7385691231845078\n"
     ]
    }
   ],
   "source": [
    "# Lets create a report object, where we store the classification report\n",
    "report = classification_report(y_true = Y_test, y_pred = rf100.predict(X_test), output_dict = True)\n",
    "\n",
    "# As you can see, we have added a new parameter, which will give us the output in the form of a dictionary, similar\n",
    "# to that of a dataframe, from where we can call for the certain variables.\n",
    "\n",
    "# Printing Accuracy, Precision of 1 and Recall of 1\n",
    "print(report[\"accuracy\"], report[\"1.0\"][\"precision\"], report[\"1.0\"][\"recall\"])"
   ]
  },
  {
   "cell_type": "markdown",
   "id": "b3016603",
   "metadata": {},
   "source": [
    "So the logic is, if we can get these numbers separately, we can try out the following looped approach:\n",
    "1. Create a list of number of trees we want to create\n",
    "2. Loop through the number of trees to create the forests\n",
    "3. For each of the forest, calculate Accuracy, Precision and Recall\n",
    "4. Create a dataframe with all these information, to check at which point the Accuract, Precision and Recall are the most desirable"
   ]
  },
  {
   "cell_type": "code",
   "execution_count": 11,
   "id": "f3744a0c",
   "metadata": {},
   "outputs": [],
   "source": [
    "# Creating the list of the trees\n",
    "tree_size = [10, 50, 100, 250, 500, 1000]\n",
    "\n",
    "# Creating the empty lists\n",
    "accuracy = []\n",
    "precision = []\n",
    "recall = []\n",
    "\n",
    "# Creating the loop\n",
    "for tree in tree_size:\n",
    "    rf = RandomForestClassifier(n_estimators = tree)\n",
    "    rf.fit(X_train, Y_train)\n",
    "    predictions = rf.predict(X_test)\n",
    "    report = classification_report(y_true = Y_test, y_pred = predictions, output_dict = True)\n",
    "    accuracy.append(report[\"accuracy\"])\n",
    "    precision.append(report[\"1.0\"][\"precision\"])\n",
    "    recall.append(report[\"1.0\"][\"recall\"])\n"
   ]
  },
  {
   "cell_type": "code",
   "execution_count": 12,
   "id": "e203c9e4",
   "metadata": {},
   "outputs": [
    {
     "data": {
      "text/html": [
       "<div>\n",
       "<style scoped>\n",
       "    .dataframe tbody tr th:only-of-type {\n",
       "        vertical-align: middle;\n",
       "    }\n",
       "\n",
       "    .dataframe tbody tr th {\n",
       "        vertical-align: top;\n",
       "    }\n",
       "\n",
       "    .dataframe thead th {\n",
       "        text-align: right;\n",
       "    }\n",
       "</style>\n",
       "<table border=\"1\" class=\"dataframe\">\n",
       "  <thead>\n",
       "    <tr style=\"text-align: right;\">\n",
       "      <th></th>\n",
       "      <th>tree_size</th>\n",
       "      <th>accuracy</th>\n",
       "      <th>precision</th>\n",
       "      <th>recall</th>\n",
       "    </tr>\n",
       "  </thead>\n",
       "  <tbody>\n",
       "    <tr>\n",
       "      <th>0</th>\n",
       "      <td>10</td>\n",
       "      <td>0.889208</td>\n",
       "      <td>0.925926</td>\n",
       "      <td>0.726197</td>\n",
       "    </tr>\n",
       "    <tr>\n",
       "      <th>1</th>\n",
       "      <td>50</td>\n",
       "      <td>0.895493</td>\n",
       "      <td>0.940041</td>\n",
       "      <td>0.733728</td>\n",
       "    </tr>\n",
       "    <tr>\n",
       "      <th>2</th>\n",
       "      <td>100</td>\n",
       "      <td>0.896391</td>\n",
       "      <td>0.938440</td>\n",
       "      <td>0.738031</td>\n",
       "    </tr>\n",
       "    <tr>\n",
       "      <th>3</th>\n",
       "      <td>250</td>\n",
       "      <td>0.896750</td>\n",
       "      <td>0.940329</td>\n",
       "      <td>0.737493</td>\n",
       "    </tr>\n",
       "    <tr>\n",
       "      <th>4</th>\n",
       "      <td>500</td>\n",
       "      <td>0.898725</td>\n",
       "      <td>0.949965</td>\n",
       "      <td>0.735342</td>\n",
       "    </tr>\n",
       "    <tr>\n",
       "      <th>5</th>\n",
       "      <td>1000</td>\n",
       "      <td>0.898546</td>\n",
       "      <td>0.945592</td>\n",
       "      <td>0.738569</td>\n",
       "    </tr>\n",
       "  </tbody>\n",
       "</table>\n",
       "</div>"
      ],
      "text/plain": [
       "   tree_size  accuracy  precision    recall\n",
       "0         10  0.889208   0.925926  0.726197\n",
       "1         50  0.895493   0.940041  0.733728\n",
       "2        100  0.896391   0.938440  0.738031\n",
       "3        250  0.896750   0.940329  0.737493\n",
       "4        500  0.898725   0.949965  0.735342\n",
       "5       1000  0.898546   0.945592  0.738569"
      ]
     },
     "execution_count": 12,
     "metadata": {},
     "output_type": "execute_result"
    }
   ],
   "source": [
    "# Combining the tree numbers with the other metrics\n",
    "dict = {\"tree_size\" : tree_size, \"accuracy\" : accuracy, \"precision\" : precision, \"recall\" : recall}\n",
    "\n",
    "# Creating the dataframe\n",
    "rf_optim = pd.DataFrame(dict)\n",
    "\n",
    "# Looking at the data\n",
    "rf_optim"
   ]
  },
  {
   "cell_type": "code",
   "execution_count": 13,
   "id": "bb338da3",
   "metadata": {},
   "outputs": [
    {
     "data": {
      "text/plain": [
       "<AxesSubplot:>"
      ]
     },
     "execution_count": 13,
     "metadata": {},
     "output_type": "execute_result"
    },
    {
     "data": {
      "image/png": "[encoded data removed]",
      "text/plain": [
       "<Figure size 640x480 with 1 Axes>"
      ]
     },
     "metadata": {},
     "output_type": "display_data"
    }
   ],
   "source": [
    "# Plotting the outcome of accuracy, precision and recall, to see how the results look like\n",
    "sns.lineplot(data = rf_optim.drop(\"tree_size\", axis = 1))"
   ]
  },
  {
   "cell_type": "markdown",
   "id": "5cb36f23",
   "metadata": {},
   "source": [
    "This chart tells us by the 3rd tree length (100) the results are steady and there is no further gain in any of the metrics. So we can keep our forest to be 100, instead of 1000, as that will increase our processing time without giving us much of a gain in any of our predictive power.\n",
    "\n",
    "So we have not only learned how to fit a forest, but actually how to identify the optimal forest size, and it wasnt that hard!"
   ]
  },
  {
   "cell_type": "markdown",
   "id": "69c9d014",
   "metadata": {},
   "source": [
    "## Boosting"
   ]
  },
  {
   "cell_type": "markdown",
   "id": "72bdc57a",
   "metadata": {},
   "source": [
    "Another method which makes use of processing power in our computers is the boosting algorithm. The concept of boosting is also not very complex. The idea is, first up, the algorithm fits a very simple model, called the Naive Bayes mdoel. Then this model is used to make some preliminary predictions. Then the algorithm will check the how much is the error of these predictions. Then the algorithm will automatically improve the model to reduce the errors. This is like a cycle, where this will go on until there is no more improvement to be gained in the new model. THe final model will be the boosted model. The beauty of boosting is that it creates a model that caters to making the best prediction possible.\n",
    "\n",
    "Some more details about boosting can be seen here - https://www.youtube.com/watch?v=8b1JEDvenQU&list=PLZ5DHV9_5h9vQwAImmNi1RfoTtSuOUjwM&index=17\n",
    "\n",
    "We will start with fitting a simple boosting model, using the fucntion called XGboost in Python. Then next we will step by step look into how we can improve on our boosting model\n"
   ]
  },
  {
   "cell_type": "code",
   "execution_count": 20,
   "id": "9c8f66ea",
   "metadata": {},
   "outputs": [
    {
     "name": "stdout",
     "output_type": "stream",
     "text": [
      "Requirement already satisfied: xgboost in /Users/muhammadsaqifulalam/opt/anaconda3/lib/python3.9/site-packages (1.6.2)\n",
      "Requirement already satisfied: scipy in /Users/muhammadsaqifulalam/opt/anaconda3/lib/python3.9/site-packages (from xgboost) (1.9.1)\n",
      "Requirement already satisfied: numpy in /Users/muhammadsaqifulalam/opt/anaconda3/lib/python3.9/site-packages (from xgboost) (1.23.1)\n",
      "[0 0 0 0 0] [[9.9493110e-01 5.0688880e-03]\n",
      " [8.8661242e-01 1.1338759e-01]\n",
      " [6.8417829e-01 3.1582171e-01]\n",
      " [8.4646964e-01 1.5353036e-01]\n",
      " [9.9979037e-01 2.0964109e-04]]\n"
     ]
    }
   ],
   "source": [
    "# Installing the xgboost libray\n",
    "!{sys.executable} -m pip install xgboost\n",
    "\n",
    "# Importing the xgboost function\n",
    "from xgboost import XGBClassifier\n",
    "\n",
    "# Creating the model object\n",
    "basic_xgb = XGBClassifier()\n",
    "\n",
    "# Fitting the classifier\n",
    "basic_xgb.fit(X_train, Y_train)\n",
    "\n",
    "# Printing some predictions\n",
    "print(basic_xgb.predict(X_test.head()), basic_xgb.predict_proba(X_test.head()))"
   ]
  },
  {
   "cell_type": "markdown",
   "id": "65e15ace",
   "metadata": {},
   "source": [
    "Lets see how the XGboosted model fares with the test dataset"
   ]
  },
  {
   "cell_type": "code",
   "execution_count": 21,
   "id": "bb39bf87",
   "metadata": {},
   "outputs": [
    {
     "data": {
      "text/plain": [
       "<sklearn.metrics._plot.confusion_matrix.ConfusionMatrixDisplay at 0x7fca20755460>"
      ]
     },
     "execution_count": 21,
     "metadata": {},
     "output_type": "execute_result"
    },
    {
     "data": {
      "image/png": "[encoded data removed]",
      "text/plain": [
       "<Figure size 640x480 with 2 Axes>"
      ]
     },
     "metadata": {},
     "output_type": "display_data"
    }
   ],
   "source": [
    "# Generating the full list of predictions\n",
    "preds = basic_xgb.predict(X_test)\n",
    "\n",
    "# Creating a confusion matrix\n",
    "cm = confusion_matrix(y_true = Y_test, y_pred = preds)\n",
    "\n",
    "# Plotting the confusion matrix\n",
    "ConfusionMatrixDisplay(cm).plot()"
   ]
  },
  {
   "cell_type": "code",
   "execution_count": 22,
   "id": "63b4e153",
   "metadata": {},
   "outputs": [
    {
     "name": "stdout",
     "output_type": "stream",
     "text": [
      "              precision    recall  f1-score   support\n",
      "\n",
      "         0.0       0.90      0.97      0.93      3710\n",
      "         1.0       0.92      0.77      0.84      1859\n",
      "\n",
      "    accuracy                           0.90      5569\n",
      "   macro avg       0.91      0.87      0.89      5569\n",
      "weighted avg       0.91      0.90      0.90      5569\n",
      "\n"
     ]
    }
   ],
   "source": [
    "# Printing out the classification report\n",
    "print(classification_report(y_true = Y_test, y_pred = preds))"
   ]
  },
  {
   "cell_type": "markdown",
   "id": "89498db3",
   "metadata": {},
   "source": [
    "From this result we can see that overall accuracy is similar to random forests, but the refcall scores for predicting the true defaulters."
   ]
  },
  {
   "cell_type": "markdown",
   "id": "4bd5426f",
   "metadata": {},
   "source": [
    "Two of the things we can add to the xgboosting is the number of times it needs to run the cycle, and should it stop early if it gets the best possible result. These together can help us fine tune our model a lot of iterations, but also helps us save processing power by reducing the number of cycles required by ending early if the most optimum result is reached. Lets see how we can add them to the xgboost function"
   ]
  },
  {
   "cell_type": "code",
   "execution_count": 24,
   "id": "a5d901a0",
   "metadata": {},
   "outputs": [
    {
     "name": "stdout",
     "output_type": "stream",
     "text": [
      "[0]\tvalidation_0-logloss:0.53281\n",
      "[1]\tvalidation_0-logloss:0.44846\n",
      "[2]\tvalidation_0-logloss:0.39615\n",
      "[3]\tvalidation_0-logloss:0.36273\n",
      "[4]\tvalidation_0-logloss:0.33923\n",
      "[5]\tvalidation_0-logloss:0.32457\n"
     ]
    },
    {
     "name": "stderr",
     "output_type": "stream",
     "text": [
      "/Users/muhammadsaqifulalam/opt/anaconda3/lib/python3.9/site-packages/xgboost/sklearn.py:793: UserWarning: `early_stopping_rounds` in `fit` method is deprecated for better compatibility with scikit-learn, use `early_stopping_rounds` in constructor or`set_params` instead.\n",
      "  warnings.warn(\n"
     ]
    },
    {
     "name": "stdout",
     "output_type": "stream",
     "text": [
      "[6]\tvalidation_0-logloss:0.31420\n",
      "[7]\tvalidation_0-logloss:0.30583\n",
      "[8]\tvalidation_0-logloss:0.30024\n",
      "[9]\tvalidation_0-logloss:0.29238\n",
      "[10]\tvalidation_0-logloss:0.28884\n",
      "[11]\tvalidation_0-logloss:0.28613\n",
      "[12]\tvalidation_0-logloss:0.28279\n",
      "[13]\tvalidation_0-logloss:0.27651\n",
      "[14]\tvalidation_0-logloss:0.27405\n",
      "[15]\tvalidation_0-logloss:0.27248\n",
      "[16]\tvalidation_0-logloss:0.27121\n",
      "[17]\tvalidation_0-logloss:0.26890\n",
      "[18]\tvalidation_0-logloss:0.26862\n",
      "[19]\tvalidation_0-logloss:0.26581\n",
      "[20]\tvalidation_0-logloss:0.26487\n",
      "[21]\tvalidation_0-logloss:0.26220\n",
      "[22]\tvalidation_0-logloss:0.25983\n",
      "[23]\tvalidation_0-logloss:0.25970\n",
      "[24]\tvalidation_0-logloss:0.25789\n",
      "[25]\tvalidation_0-logloss:0.25602\n",
      "[26]\tvalidation_0-logloss:0.25484\n",
      "[27]\tvalidation_0-logloss:0.25424\n",
      "[28]\tvalidation_0-logloss:0.25456\n",
      "[29]\tvalidation_0-logloss:0.25421\n",
      "[30]\tvalidation_0-logloss:0.25381\n",
      "[31]\tvalidation_0-logloss:0.25330\n",
      "[32]\tvalidation_0-logloss:0.25289\n",
      "[33]\tvalidation_0-logloss:0.25254\n",
      "[34]\tvalidation_0-logloss:0.25186\n",
      "[35]\tvalidation_0-logloss:0.25112\n",
      "[36]\tvalidation_0-logloss:0.25081\n",
      "[37]\tvalidation_0-logloss:0.25026\n",
      "[38]\tvalidation_0-logloss:0.24937\n",
      "[39]\tvalidation_0-logloss:0.24935\n",
      "[40]\tvalidation_0-logloss:0.24914\n",
      "[41]\tvalidation_0-logloss:0.24905\n",
      "[42]\tvalidation_0-logloss:0.24886\n",
      "[43]\tvalidation_0-logloss:0.24887\n",
      "[44]\tvalidation_0-logloss:0.24794\n",
      "[45]\tvalidation_0-logloss:0.24772\n",
      "[46]\tvalidation_0-logloss:0.24760\n",
      "[47]\tvalidation_0-logloss:0.24772\n",
      "[48]\tvalidation_0-logloss:0.24842\n",
      "[49]\tvalidation_0-logloss:0.24772\n",
      "[50]\tvalidation_0-logloss:0.24784\n",
      "[51]\tvalidation_0-logloss:0.24675\n",
      "[52]\tvalidation_0-logloss:0.24671\n",
      "[53]\tvalidation_0-logloss:0.24601\n",
      "[54]\tvalidation_0-logloss:0.24641\n",
      "[55]\tvalidation_0-logloss:0.24619\n",
      "[56]\tvalidation_0-logloss:0.24578\n",
      "[57]\tvalidation_0-logloss:0.24565\n",
      "[58]\tvalidation_0-logloss:0.24554\n",
      "[59]\tvalidation_0-logloss:0.24588\n",
      "[60]\tvalidation_0-logloss:0.24569\n",
      "[61]\tvalidation_0-logloss:0.24541\n",
      "[62]\tvalidation_0-logloss:0.24549\n",
      "[63]\tvalidation_0-logloss:0.24550\n",
      "[64]\tvalidation_0-logloss:0.24573\n",
      "[65]\tvalidation_0-logloss:0.24514\n",
      "[66]\tvalidation_0-logloss:0.24530\n",
      "[67]\tvalidation_0-logloss:0.24526\n",
      "[68]\tvalidation_0-logloss:0.24492\n",
      "[69]\tvalidation_0-logloss:0.24463\n",
      "[70]\tvalidation_0-logloss:0.24455\n",
      "[71]\tvalidation_0-logloss:0.24397\n",
      "[72]\tvalidation_0-logloss:0.24351\n",
      "[73]\tvalidation_0-logloss:0.24357\n",
      "[74]\tvalidation_0-logloss:0.24364\n",
      "[75]\tvalidation_0-logloss:0.24355\n",
      "[76]\tvalidation_0-logloss:0.24337\n",
      "[77]\tvalidation_0-logloss:0.24304\n",
      "[78]\tvalidation_0-logloss:0.24280\n",
      "[79]\tvalidation_0-logloss:0.24285\n",
      "[80]\tvalidation_0-logloss:0.24298\n",
      "[81]\tvalidation_0-logloss:0.24301\n",
      "[82]\tvalidation_0-logloss:0.24282\n",
      "[83]\tvalidation_0-logloss:0.24276\n",
      "[84]\tvalidation_0-logloss:0.24308\n",
      "[85]\tvalidation_0-logloss:0.24259\n",
      "[86]\tvalidation_0-logloss:0.24254\n",
      "[87]\tvalidation_0-logloss:0.24274\n",
      "[88]\tvalidation_0-logloss:0.24259\n",
      "[89]\tvalidation_0-logloss:0.24274\n",
      "[90]\tvalidation_0-logloss:0.24289\n",
      "[91]\tvalidation_0-logloss:0.24276\n",
      "[92]\tvalidation_0-logloss:0.24264\n",
      "[93]\tvalidation_0-logloss:0.24254\n",
      "[94]\tvalidation_0-logloss:0.24196\n",
      "[95]\tvalidation_0-logloss:0.24193\n",
      "[96]\tvalidation_0-logloss:0.24235\n",
      "[97]\tvalidation_0-logloss:0.24253\n",
      "[98]\tvalidation_0-logloss:0.24248\n",
      "[99]\tvalidation_0-logloss:0.24261\n",
      "[100]\tvalidation_0-logloss:0.24220\n",
      "[101]\tvalidation_0-logloss:0.24192\n",
      "[102]\tvalidation_0-logloss:0.24216\n",
      "[103]\tvalidation_0-logloss:0.24250\n",
      "[104]\tvalidation_0-logloss:0.24312\n",
      "[105]\tvalidation_0-logloss:0.24352\n",
      "[106]\tvalidation_0-logloss:0.24323\n",
      "[107]\tvalidation_0-logloss:0.24359\n",
      "[108]\tvalidation_0-logloss:0.24374\n",
      "[109]\tvalidation_0-logloss:0.24393\n",
      "[110]\tvalidation_0-logloss:0.24440\n",
      "[111]\tvalidation_0-logloss:0.24431\n",
      "[0 0 0 0 0] [[9.9515051e-01 4.8494698e-03]\n",
      " [8.8839799e-01 1.1160201e-01]\n",
      " [6.8265164e-01 3.1734839e-01]\n",
      " [8.4874338e-01 1.5125661e-01]\n",
      " [9.9983895e-01 1.6104565e-04]]\n"
     ]
    }
   ],
   "source": [
    "# Creating the xgboost model with 1000 iterations\n",
    "finetuned_xgb = XGBClassifier(n_estimators = 1000)\n",
    "\n",
    "# Fitting the model to the data\n",
    "finetuned_xgb.fit(X_train, Y_train, early_stopping_rounds = 10, eval_set = [(X_test, Y_test)])\n",
    "\n",
    "# Generating some predictions\n",
    "print(finetuned_xgb.predict(X_test.head()), finetuned_xgb.predict_proba(X_test.head()))"
   ]
  },
  {
   "cell_type": "code",
   "execution_count": 28,
   "id": "be9d22fb",
   "metadata": {},
   "outputs": [
    {
     "data": {
      "text/plain": [
       "<sklearn.metrics._plot.confusion_matrix.ConfusionMatrixDisplay at 0x7fca214fea60>"
      ]
     },
     "execution_count": 28,
     "metadata": {},
     "output_type": "execute_result"
    },
    {
     "data": {
      "image/png": "[encoded data removed]",
      "text/plain": [
       "<Figure size 640x480 with 2 Axes>"
      ]
     },
     "metadata": {},
     "output_type": "display_data"
    }
   ],
   "source": [
    "# Generating the predictioms\n",
    "preds = finetuned_xgb.predict(X_test)\n",
    "\n",
    "# Checking the confusion matrix for the new model\n",
    "cm = confusion_matrix(y_pred = preds, y_true = Y_test)\n",
    "\n",
    "# Plotting the Confusion matrix\n",
    "ConfusionMatrixDisplay(cm).plot()"
   ]
  },
  {
   "cell_type": "code",
   "execution_count": 29,
   "id": "dfcaee3a",
   "metadata": {},
   "outputs": [
    {
     "name": "stdout",
     "output_type": "stream",
     "text": [
      "              precision    recall  f1-score   support\n",
      "\n",
      "         0.0       0.89      0.97      0.93      3710\n",
      "         1.0       0.93      0.77      0.84      1859\n",
      "\n",
      "    accuracy                           0.90      5569\n",
      "   macro avg       0.91      0.87      0.89      5569\n",
      "weighted avg       0.91      0.90      0.90      5569\n",
      "\n"
     ]
    }
   ],
   "source": [
    "# Printing out the Classification Report\n",
    "print(classification_report(y_true = Y_test, y_pred = preds))"
   ]
  },
  {
   "cell_type": "markdown",
   "id": "87e37a6c",
   "metadata": {},
   "source": [
    "Very similar performance to that of the previous model. Seems like this is the best that both the boosting and the random forests can do. We can finally move on to the final and most powerful ensemble learning approach - Stacking!"
   ]
  },
  {
   "cell_type": "markdown",
   "id": "3eb85f78",
   "metadata": {},
   "source": [
    "## Stacking - Why not have everything?"
   ]
  },
  {
   "cell_type": "markdown",
   "id": "c01fb76f",
   "metadata": {},
   "source": [
    "As the section header puts it, Stacking in a collecting of everything! That means instead of having to chose between a regression, or a tree, or many trees, or boosting, what we can have is a stack of all of these. That is simply the concept of stacking. Here we declare the models we want to fit our data, and then what the stacking algorithm does is first it fits the each of the models individually, and then combines the outcomes of this models with another model to finally make the prediction. The power of stacking is that its the optimal combination of all the models that we have used so far and will focus on taking the best from each of these models, so we really dont miss out on any single front.\n",
    "\n",
    "Lets stack!"
   ]
  },
  {
   "cell_type": "code",
   "execution_count": 38,
   "id": "c03deed4",
   "metadata": {},
   "outputs": [
    {
     "name": "stdout",
     "output_type": "stream",
     "text": [
      "[0. 0. 0. 0. 0.] [[0.93837549 0.06162451]\n",
      " [0.90751876 0.09248124]\n",
      " [0.60451071 0.39548929]\n",
      " [0.82697825 0.17302175]\n",
      " [0.96119389 0.03880611]]\n"
     ]
    }
   ],
   "source": [
    "# First we start by importing the Logit and Tree model. The Random forest and the xgboost model are already loaded\n",
    "from sklearn.linear_model import LogisticRegression\n",
    "from sklearn.tree import DecisionTreeClassifier\n",
    "\n",
    "# Then we importing the stacking function\n",
    "from sklearn.ensemble import StackingClassifier\n",
    "\n",
    "# Next, we create a list of models that we want to stack!\n",
    "estimators = [('logit', LogisticRegression(max_iter = 1000)), ('tree', DecisionTreeClassifier()), ('randomforest', RandomForestClassifier(n_estimators = 100)), ('xgboost', XGBClassifier(n_estimators = 500))]\n",
    "\n",
    "# Finally, with that list, we craete the stacking model object\n",
    "stack = StackingClassifier(estimators = estimators)\n",
    "\n",
    "# Then we mid the model to the data\n",
    "stack.fit(X_train, Y_train)\n",
    "\n",
    "# Finally we can look at some of the predictions\n",
    "print(stack.predict(X_test.head()), stack.predict_proba(X_test.head()))\n"
   ]
  },
  {
   "cell_type": "code",
   "execution_count": 39,
   "id": "894d51a9",
   "metadata": {},
   "outputs": [
    {
     "data": {
      "text/plain": [
       "<sklearn.metrics._plot.confusion_matrix.ConfusionMatrixDisplay at 0x7fca0ba7abe0>"
      ]
     },
     "execution_count": 39,
     "metadata": {},
     "output_type": "execute_result"
    },
    {
     "data": {
      "image/png": "[encoded data removed]",
      "text/plain": [
       "<Figure size 640x480 with 2 Axes>"
      ]
     },
     "metadata": {},
     "output_type": "display_data"
    }
   ],
   "source": [
    "# Now we generate the predictions\n",
    "preds = stack.predict(X_test)\n",
    "\n",
    "# Create the confusion matrix\n",
    "cm = confusion_matrix(y_pred = preds, y_true = Y_test)\n",
    "\n",
    "# Print the cnfusion matrix\n",
    "ConfusionMatrixDisplay(cm).plot()"
   ]
  },
  {
   "cell_type": "code",
   "execution_count": 40,
   "id": "93601322",
   "metadata": {},
   "outputs": [
    {
     "name": "stdout",
     "output_type": "stream",
     "text": [
      "              precision    recall  f1-score   support\n",
      "\n",
      "         0.0       0.90      0.97      0.93      3710\n",
      "         1.0       0.93      0.78      0.85      1859\n",
      "\n",
      "    accuracy                           0.91      5569\n",
      "   macro avg       0.91      0.87      0.89      5569\n",
      "weighted avg       0.91      0.91      0.90      5569\n",
      "\n"
     ]
    }
   ],
   "source": [
    "# And printing the classification metrics report\n",
    "print(classification_report(y_true = Y_test, y_pred = preds))"
   ]
  },
  {
   "cell_type": "markdown",
   "id": "756de0f7",
   "metadata": {},
   "source": [
    "So we can now see that the accuracy have gone up by 1% more, to 91%, which is a big leap from 84% in the last session. Also we have a good precision, 93%, so we are only overkilling 7 out of 100 pplications, but our recall is still a bit low, 78%, which means that we are still going to give 22 out of 100 defaulters the loan.\n",
    "\n",
    "But this is where we can do something more interesting. If you have so far checked, we always have looked into the probabilities of the predictions, and we saw that the way the models decide whether you are a defaulter or not is when the probability crosses 50%. So if the prob of 0 is 30% then the prediction is 1. If the prob of 0 is 60%, then the prediction is 0. But what if the bank wanted to to be more conservative. Say anyone with a 30% chance of being 1 will be considered as a defaulter? We can still check our models performance for that, we will need to manuall create the cutoff point here"
   ]
  },
  {
   "cell_type": "code",
   "execution_count": 47,
   "id": "d500b272",
   "metadata": {},
   "outputs": [
    {
     "data": {
      "text/html": [
       "<div>\n",
       "<style scoped>\n",
       "    .dataframe tbody tr th:only-of-type {\n",
       "        vertical-align: middle;\n",
       "    }\n",
       "\n",
       "    .dataframe tbody tr th {\n",
       "        vertical-align: top;\n",
       "    }\n",
       "\n",
       "    .dataframe thead th {\n",
       "        text-align: right;\n",
       "    }\n",
       "</style>\n",
       "<table border=\"1\" class=\"dataframe\">\n",
       "  <thead>\n",
       "    <tr style=\"text-align: right;\">\n",
       "      <th></th>\n",
       "      <th>Non_dfault</th>\n",
       "      <th>Default</th>\n",
       "    </tr>\n",
       "  </thead>\n",
       "  <tbody>\n",
       "    <tr>\n",
       "      <th>0</th>\n",
       "      <td>0.938375</td>\n",
       "      <td>0.061625</td>\n",
       "    </tr>\n",
       "    <tr>\n",
       "      <th>1</th>\n",
       "      <td>0.907519</td>\n",
       "      <td>0.092481</td>\n",
       "    </tr>\n",
       "    <tr>\n",
       "      <th>2</th>\n",
       "      <td>0.604511</td>\n",
       "      <td>0.395489</td>\n",
       "    </tr>\n",
       "    <tr>\n",
       "      <th>3</th>\n",
       "      <td>0.826978</td>\n",
       "      <td>0.173022</td>\n",
       "    </tr>\n",
       "    <tr>\n",
       "      <th>4</th>\n",
       "      <td>0.961194</td>\n",
       "      <td>0.038806</td>\n",
       "    </tr>\n",
       "  </tbody>\n",
       "</table>\n",
       "</div>"
      ],
      "text/plain": [
       "   Non_dfault   Default\n",
       "0    0.938375  0.061625\n",
       "1    0.907519  0.092481\n",
       "2    0.604511  0.395489\n",
       "3    0.826978  0.173022\n",
       "4    0.961194  0.038806"
      ]
     },
     "execution_count": 47,
     "metadata": {},
     "output_type": "execute_result"
    }
   ],
   "source": [
    "# Instead of gettings the 0/1 predictions, we get the probability of 0 and 1 as predictions\n",
    "prob_preds = stack.predict_proba(X_test)\n",
    "\n",
    "# Then we convert the probability into dataframe with the columns non default (0) amd default (1)\n",
    "prob_preds = pd.DataFrame(prob_preds, columns = [\"Non_dfault\", \"Default\"])\n",
    "\n",
    "# Taking a peek at the pobability prediction \n",
    "prob_preds.head()"
   ]
  },
  {
   "cell_type": "code",
   "execution_count": 51,
   "id": "c1db2262",
   "metadata": {},
   "outputs": [
    {
     "data": {
      "text/html": [
       "<div>\n",
       "<style scoped>\n",
       "    .dataframe tbody tr th:only-of-type {\n",
       "        vertical-align: middle;\n",
       "    }\n",
       "\n",
       "    .dataframe tbody tr th {\n",
       "        vertical-align: top;\n",
       "    }\n",
       "\n",
       "    .dataframe thead th {\n",
       "        text-align: right;\n",
       "    }\n",
       "</style>\n",
       "<table border=\"1\" class=\"dataframe\">\n",
       "  <thead>\n",
       "    <tr style=\"text-align: right;\">\n",
       "      <th></th>\n",
       "      <th>Non_dfault</th>\n",
       "      <th>Default</th>\n",
       "      <th>status</th>\n",
       "    </tr>\n",
       "  </thead>\n",
       "  <tbody>\n",
       "    <tr>\n",
       "      <th>0</th>\n",
       "      <td>0.938375</td>\n",
       "      <td>0.061625</td>\n",
       "      <td>0</td>\n",
       "    </tr>\n",
       "    <tr>\n",
       "      <th>1</th>\n",
       "      <td>0.907519</td>\n",
       "      <td>0.092481</td>\n",
       "      <td>0</td>\n",
       "    </tr>\n",
       "    <tr>\n",
       "      <th>2</th>\n",
       "      <td>0.604511</td>\n",
       "      <td>0.395489</td>\n",
       "      <td>1</td>\n",
       "    </tr>\n",
       "    <tr>\n",
       "      <th>3</th>\n",
       "      <td>0.826978</td>\n",
       "      <td>0.173022</td>\n",
       "      <td>0</td>\n",
       "    </tr>\n",
       "    <tr>\n",
       "      <th>4</th>\n",
       "      <td>0.961194</td>\n",
       "      <td>0.038806</td>\n",
       "      <td>0</td>\n",
       "    </tr>\n",
       "    <tr>\n",
       "      <th>...</th>\n",
       "      <td>...</td>\n",
       "      <td>...</td>\n",
       "      <td>...</td>\n",
       "    </tr>\n",
       "    <tr>\n",
       "      <th>5564</th>\n",
       "      <td>0.949439</td>\n",
       "      <td>0.050561</td>\n",
       "      <td>0</td>\n",
       "    </tr>\n",
       "    <tr>\n",
       "      <th>5565</th>\n",
       "      <td>0.957707</td>\n",
       "      <td>0.042293</td>\n",
       "      <td>0</td>\n",
       "    </tr>\n",
       "    <tr>\n",
       "      <th>5566</th>\n",
       "      <td>0.839116</td>\n",
       "      <td>0.160884</td>\n",
       "      <td>0</td>\n",
       "    </tr>\n",
       "    <tr>\n",
       "      <th>5567</th>\n",
       "      <td>0.935249</td>\n",
       "      <td>0.064751</td>\n",
       "      <td>0</td>\n",
       "    </tr>\n",
       "    <tr>\n",
       "      <th>5568</th>\n",
       "      <td>0.817799</td>\n",
       "      <td>0.182201</td>\n",
       "      <td>0</td>\n",
       "    </tr>\n",
       "  </tbody>\n",
       "</table>\n",
       "<p>5569 rows × 3 columns</p>\n",
       "</div>"
      ],
      "text/plain": [
       "      Non_dfault   Default status\n",
       "0       0.938375  0.061625      0\n",
       "1       0.907519  0.092481      0\n",
       "2       0.604511  0.395489      1\n",
       "3       0.826978  0.173022      0\n",
       "4       0.961194  0.038806      0\n",
       "...          ...       ...    ...\n",
       "5564    0.949439  0.050561      0\n",
       "5565    0.957707  0.042293      0\n",
       "5566    0.839116  0.160884      0\n",
       "5567    0.935249  0.064751      0\n",
       "5568    0.817799  0.182201      0\n",
       "\n",
       "[5569 rows x 3 columns]"
      ]
     },
     "execution_count": 51,
     "metadata": {},
     "output_type": "execute_result"
    }
   ],
   "source": [
    "# Creating a new column, status, which gets to be 1 if the default prob is greater than 0.3, or 0 if its less than or equal to 0.3\n",
    "prob_preds[\"status\"] = pd.cut(prob_preds[\"Default\"], bins = [0, 0.3, 1], labels = [0, 1])\n",
    "\n",
    "# Taking a peek at the added column\n",
    "prob_preds.head()"
   ]
  },
  {
   "cell_type": "code",
   "execution_count": 52,
   "id": "54133b89",
   "metadata": {},
   "outputs": [
    {
     "data": {
      "text/plain": [
       "<sklearn.metrics._plot.confusion_matrix.ConfusionMatrixDisplay at 0x7fca11ce3a90>"
      ]
     },
     "execution_count": 52,
     "metadata": {},
     "output_type": "execute_result"
    },
    {
     "data": {
      "image/png": "[encoded data removed]",
      "text/plain": [
       "<Figure size 640x480 with 2 Axes>"
      ]
     },
     "metadata": {},
     "output_type": "display_data"
    }
   ],
   "source": [
    "# Now lets make the predictions of the model the status of our prob pred table, which we generated from the model\n",
    "preds = prob_preds[\"status\"]\n",
    "\n",
    "# Create the confusion matrix\n",
    "cm = confusion_matrix(y_pred = preds, y_true = Y_test)\n",
    "\n",
    "# Print the cnfusion matrix\n",
    "ConfusionMatrixDisplay(cm).plot()"
   ]
  },
  {
   "cell_type": "code",
   "execution_count": 53,
   "id": "d604b045",
   "metadata": {},
   "outputs": [
    {
     "name": "stdout",
     "output_type": "stream",
     "text": [
      "              precision    recall  f1-score   support\n",
      "\n",
      "         0.0       0.91      0.93      0.92      3710\n",
      "         1.0       0.85      0.81      0.83      1859\n",
      "\n",
      "    accuracy                           0.89      5569\n",
      "   macro avg       0.88      0.87      0.87      5569\n",
      "weighted avg       0.89      0.89      0.89      5569\n",
      "\n"
     ]
    }
   ],
   "source": [
    "# And printing the classification metrics report\n",
    "print(classification_report(y_true = Y_test, y_pred = preds))"
   ]
  },
  {
   "cell_type": "markdown",
   "id": "19736ba4",
   "metadata": {},
   "source": [
    "As we can see from the confusion matrix and the classification report that our precision of predicting default have gone down, that is we are overkilling more, BUT, our recall have increased, we are giving out lesser loans to those who are most likely to predict! So there is a loss of overkilling - not giving out loans to those who are potential non-defaulters, but there is a gain in lesser leakage - those who are defaulters, more of them are being correctly identified.\n",
    "\n",
    "In fact, thanks to programming, we can create a decision landscape here - we can declare anyone as a defaulter from any values from 10% chance of default to 90% chance of default, and then observe the scores of accuracy, precision and recall, to think through where should we set the cut off point. This can easily be achieved through looping!"
   ]
  },
  {
   "cell_type": "code",
   "execution_count": 67,
   "id": "55087fc2",
   "metadata": {},
   "outputs": [
    {
     "data": {
      "text/html": [
       "<div>\n",
       "<style scoped>\n",
       "    .dataframe tbody tr th:only-of-type {\n",
       "        vertical-align: middle;\n",
       "    }\n",
       "\n",
       "    .dataframe tbody tr th {\n",
       "        vertical-align: top;\n",
       "    }\n",
       "\n",
       "    .dataframe thead th {\n",
       "        text-align: right;\n",
       "    }\n",
       "</style>\n",
       "<table border=\"1\" class=\"dataframe\">\n",
       "  <thead>\n",
       "    <tr style=\"text-align: right;\">\n",
       "      <th></th>\n",
       "      <th>Cutoff</th>\n",
       "      <th>Accuracy</th>\n",
       "      <th>Precision</th>\n",
       "      <th>Recall</th>\n",
       "    </tr>\n",
       "  </thead>\n",
       "  <tbody>\n",
       "    <tr>\n",
       "      <th>0</th>\n",
       "      <td>0.1</td>\n",
       "      <td>0.791884</td>\n",
       "      <td>0.629918</td>\n",
       "      <td>0.912856</td>\n",
       "    </tr>\n",
       "    <tr>\n",
       "      <th>1</th>\n",
       "      <td>0.2</td>\n",
       "      <td>0.870174</td>\n",
       "      <td>0.782869</td>\n",
       "      <td>0.845616</td>\n",
       "    </tr>\n",
       "    <tr>\n",
       "      <th>2</th>\n",
       "      <td>0.3</td>\n",
       "      <td>0.889747</td>\n",
       "      <td>0.851100</td>\n",
       "      <td>0.811727</td>\n",
       "    </tr>\n",
       "    <tr>\n",
       "      <th>3</th>\n",
       "      <td>0.4</td>\n",
       "      <td>0.901598</td>\n",
       "      <td>0.898480</td>\n",
       "      <td>0.795051</td>\n",
       "    </tr>\n",
       "    <tr>\n",
       "      <th>4</th>\n",
       "      <td>0.5</td>\n",
       "      <td>0.905549</td>\n",
       "      <td>0.928617</td>\n",
       "      <td>0.776762</td>\n",
       "    </tr>\n",
       "    <tr>\n",
       "      <th>5</th>\n",
       "      <td>0.6</td>\n",
       "      <td>0.906806</td>\n",
       "      <td>0.949664</td>\n",
       "      <td>0.761162</td>\n",
       "    </tr>\n",
       "    <tr>\n",
       "      <th>6</th>\n",
       "      <td>0.7</td>\n",
       "      <td>0.905010</td>\n",
       "      <td>0.964385</td>\n",
       "      <td>0.742873</td>\n",
       "    </tr>\n",
       "    <tr>\n",
       "      <th>7</th>\n",
       "      <td>0.8</td>\n",
       "      <td>0.903214</td>\n",
       "      <td>0.979651</td>\n",
       "      <td>0.725121</td>\n",
       "    </tr>\n",
       "    <tr>\n",
       "      <th>8</th>\n",
       "      <td>0.9</td>\n",
       "      <td>0.894595</td>\n",
       "      <td>0.991499</td>\n",
       "      <td>0.690156</td>\n",
       "    </tr>\n",
       "  </tbody>\n",
       "</table>\n",
       "</div>"
      ],
      "text/plain": [
       "   Cutoff  Accuracy  Precision    Recall\n",
       "0     0.1  0.791884   0.629918  0.912856\n",
       "1     0.2  0.870174   0.782869  0.845616\n",
       "2     0.3  0.889747   0.851100  0.811727\n",
       "3     0.4  0.901598   0.898480  0.795051\n",
       "4     0.5  0.905549   0.928617  0.776762\n",
       "5     0.6  0.906806   0.949664  0.761162\n",
       "6     0.7  0.905010   0.964385  0.742873\n",
       "7     0.8  0.903214   0.979651  0.725121\n",
       "8     0.9  0.894595   0.991499  0.690156"
      ]
     },
     "execution_count": 67,
     "metadata": {},
     "output_type": "execute_result"
    }
   ],
   "source": [
    "# First we start by creating a range of values from 0.1 to 0.9, with 0.1 gap between each value\n",
    "default_cutoff = list(np.arange(0.1, 1, 0.1))\n",
    "\n",
    "# Notice that we are using numpy's a-range function instead of range function of base python. This is because range\n",
    "# of base python can only create a range among integers. So we are using the numpy function. The problem with the \n",
    "# numpy function is that it returns arrays, another data format. But that can easily be fixed by forcing it to be list\n",
    "# by adding a list() in front\n",
    "\n",
    "# Next we create the empty variables of Accuracy, Precision and Recall\n",
    "Accuracy = []\n",
    "Precision = []\n",
    "Recall = []\n",
    "\n",
    "# Next we create our loop\n",
    "\n",
    "for cutoff in default_cutoff:\n",
    "    preds = pd.cut(prob_preds[\"Default\"], bins = [0, cutoff, 1], labels = [0,1])\n",
    "    class_report = classification_report(y_true = Y_test, y_pred = preds, output_dict = True)\n",
    "    Accuracy.append(class_report[\"accuracy\"])\n",
    "    Precision.append(class_report[\"1.0\"][\"precision\"])\n",
    "    Recall.append(class_report[\"1.0\"][\"recall\"])\n",
    "\n",
    "\n",
    "# Next we create a dictionary where we store these lists\n",
    "metrics_dict = {\"Cutoff\" : default_cutoff, \"Accuracy\" : Accuracy, \"Precision\" : Precision, \"Recall\" : Recall}\n",
    "\n",
    "# Converting the dictionary to a dataframe\n",
    "metrics = pd.DataFrame(metrics_dict)\n",
    "\n",
    "# Taking a look at the dataframe\n",
    "metrics"
   ]
  },
  {
   "cell_type": "markdown",
   "id": "218faaae",
   "metadata": {},
   "source": [
    "We can draw a line chart with this dataset to get an idea of where should we draw the line of which of the loans will be a default and which will be non defaulting"
   ]
  },
  {
   "cell_type": "code",
   "execution_count": 76,
   "id": "8eabd9f8",
   "metadata": {},
   "outputs": [
    {
     "name": "stderr",
     "output_type": "stream",
     "text": [
      "/var/folders/ch/knjch20d5hs4_jb_jrm51rgw0000gq/T/ipykernel_91171/2201321781.py:3: UserWarning: FixedFormatter should only be used together with FixedLocator\n",
      "  chart.set_xticklabels(round(metrics[\"Cutoff\"], ndigits=2))\n"
     ]
    },
    {
     "data": {
      "text/plain": [
       "[Text(-1.0, 0, '0.1'),\n",
       " Text(0.0, 0, '0.2'),\n",
       " Text(1.0, 0, '0.3'),\n",
       " Text(2.0, 0, '0.4'),\n",
       " Text(3.0, 0, '0.5'),\n",
       " Text(4.0, 0, '0.6'),\n",
       " Text(5.0, 0, '0.7'),\n",
       " Text(6.0, 0, '0.8'),\n",
       " Text(7.0, 0, '0.9'),\n",
       " Text(8.0, 0, ''),\n",
       " Text(9.0, 0, '')]"
      ]
     },
     "execution_count": 76,
     "metadata": {},
     "output_type": "execute_result"
    },
    {
     "data": {
      "image/png": "[encoded data removed]",
      "text/plain": [
       "<Figure size 640x480 with 1 Axes>"
      ]
     },
     "metadata": {},
     "output_type": "display_data"
    }
   ],
   "source": [
    "# Lineplot of the metrics\n",
    "chart = sns.lineplot(data = metrics.drop(\"Cutoff\", axis = 1))\n",
    "chart.set_xticklabels(round(metrics[\"Cutoff\"], ndigits=2))"
   ]
  },
  {
   "cell_type": "markdown",
   "id": "2225d2c3",
   "metadata": {},
   "source": [
    "This chart actually confirms that if Recall and Accuracy are an issue, then we should be decalring anyone above 30% chance of default to be a defaulter. On the other hand, if Precision and Accuracy is our focus, then we can cut off at 0.5. Finally if we are focused on making sure that we do not miss out a good loan, focusing only on precision, then we should be marking those with 90% chance of above as defaulters only, in which case we will not overkill many loans (less than 5%) but will be giving out loans to many people who are potentially defaulters (almost 25%)"
   ]
  },
  {
   "cell_type": "code",
   "execution_count": null,
   "id": "948cccd4",
   "metadata": {},
   "outputs": [],
   "source": []
  }
 ],
 "metadata": {
  "kernelspec": {
   "display_name": "Python 3 (ipykernel)",
   "language": "python",
   "name": "python3"
  },
  "language_info": {
   "codemirror_mode": {
    "name": "ipython",
    "version": 3
   },
   "file_extension": ".py",
   "mimetype": "text/x-python",
   "name": "python",
   "nbconvert_exporter": "python",
   "pygments_lexer": "ipython3",
   "version": "3.9.13"
  }
 },
 "nbformat": 4,
 "nbformat_minor": 5
}
