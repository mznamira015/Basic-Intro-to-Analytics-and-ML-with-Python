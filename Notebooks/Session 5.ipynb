{
 "cells": [
  {
   "cell_type": "markdown",
   "id": "989a4a86",
   "metadata": {},
   "source": [
    "# Statistics with Python"
   ]
  },
  {
   "cell_type": "markdown",
   "id": "8f6c1b07",
   "metadata": {},
   "source": [
    "So far we have looked into loading, transforming and visualizing datasets with python. Todays session we will look at how we can do statistical tests with python. We will start with generating the basic stats for data we have, very similar to the our 6th session, and then move to carry out the statistical tests. First let us load the initial libraries and load the data and summarize the data for us"
   ]
  },
  {
   "cell_type": "code",
   "execution_count": 1,
   "id": "cdac01b9",
   "metadata": {},
   "outputs": [
    {
     "data": {
      "text/html": [
       "<div>\n",
       "<style scoped>\n",
       "    .dataframe tbody tr th:only-of-type {\n",
       "        vertical-align: middle;\n",
       "    }\n",
       "\n",
       "    .dataframe tbody tr th {\n",
       "        vertical-align: top;\n",
       "    }\n",
       "\n",
       "    .dataframe thead th {\n",
       "        text-align: right;\n",
       "    }\n",
       "</style>\n",
       "<table border=\"1\" class=\"dataframe\">\n",
       "  <thead>\n",
       "    <tr style=\"text-align: right;\">\n",
       "      <th></th>\n",
       "      <th>Age</th>\n",
       "      <th>Gender</th>\n",
       "      <th>OwnHome</th>\n",
       "      <th>Married</th>\n",
       "      <th>Location</th>\n",
       "      <th>Salary</th>\n",
       "      <th>Children</th>\n",
       "      <th>History</th>\n",
       "      <th>Catalogs</th>\n",
       "      <th>AmountSpent</th>\n",
       "    </tr>\n",
       "  </thead>\n",
       "  <tbody>\n",
       "    <tr>\n",
       "      <th>0</th>\n",
       "      <td>Old</td>\n",
       "      <td>Female</td>\n",
       "      <td>Own</td>\n",
       "      <td>Single</td>\n",
       "      <td>Far</td>\n",
       "      <td>47500</td>\n",
       "      <td>0</td>\n",
       "      <td>High</td>\n",
       "      <td>6</td>\n",
       "      <td>755</td>\n",
       "    </tr>\n",
       "    <tr>\n",
       "      <th>1</th>\n",
       "      <td>Middle</td>\n",
       "      <td>Male</td>\n",
       "      <td>Rent</td>\n",
       "      <td>Single</td>\n",
       "      <td>Close</td>\n",
       "      <td>63600</td>\n",
       "      <td>0</td>\n",
       "      <td>High</td>\n",
       "      <td>6</td>\n",
       "      <td>1318</td>\n",
       "    </tr>\n",
       "    <tr>\n",
       "      <th>2</th>\n",
       "      <td>Young</td>\n",
       "      <td>Female</td>\n",
       "      <td>Rent</td>\n",
       "      <td>Single</td>\n",
       "      <td>Close</td>\n",
       "      <td>13500</td>\n",
       "      <td>0</td>\n",
       "      <td>Low</td>\n",
       "      <td>18</td>\n",
       "      <td>296</td>\n",
       "    </tr>\n",
       "    <tr>\n",
       "      <th>3</th>\n",
       "      <td>Middle</td>\n",
       "      <td>Male</td>\n",
       "      <td>Own</td>\n",
       "      <td>Married</td>\n",
       "      <td>Close</td>\n",
       "      <td>85600</td>\n",
       "      <td>1</td>\n",
       "      <td>High</td>\n",
       "      <td>18</td>\n",
       "      <td>2436</td>\n",
       "    </tr>\n",
       "    <tr>\n",
       "      <th>4</th>\n",
       "      <td>Middle</td>\n",
       "      <td>Female</td>\n",
       "      <td>Own</td>\n",
       "      <td>Single</td>\n",
       "      <td>Close</td>\n",
       "      <td>68400</td>\n",
       "      <td>0</td>\n",
       "      <td>High</td>\n",
       "      <td>12</td>\n",
       "      <td>1304</td>\n",
       "    </tr>\n",
       "  </tbody>\n",
       "</table>\n",
       "</div>"
      ],
      "text/plain": [
       "      Age  Gender OwnHome  Married Location  Salary  Children History  \\\n",
       "0     Old  Female     Own   Single      Far   47500         0    High   \n",
       "1  Middle    Male    Rent   Single    Close   63600         0    High   \n",
       "2   Young  Female    Rent   Single    Close   13500         0     Low   \n",
       "3  Middle    Male     Own  Married    Close   85600         1    High   \n",
       "4  Middle  Female     Own   Single    Close   68400         0    High   \n",
       "\n",
       "   Catalogs  AmountSpent  \n",
       "0         6          755  \n",
       "1         6         1318  \n",
       "2        18          296  \n",
       "3        18         2436  \n",
       "4        12         1304  "
      ]
     },
     "execution_count": 1,
     "metadata": {},
     "output_type": "execute_result"
    }
   ],
   "source": [
    "# Loading Pandas\n",
    "import pandas as pd\n",
    "\n",
    "# Loading the dataset\n",
    "dm = pd.read_csv(\"/Users/muhammadsaqifulalam/Dropbox/My Mac (FVFD1URVP3XY)/Desktop/DirectMarketing.csv\")\n",
    "\n",
    "# Checking if we have our job properly\n",
    "dm.head()"
   ]
  },
  {
   "cell_type": "code",
   "execution_count": 2,
   "id": "7e7d761a",
   "metadata": {},
   "outputs": [
    {
     "data": {
      "text/html": [
       "<div>\n",
       "<style scoped>\n",
       "    .dataframe tbody tr th:only-of-type {\n",
       "        vertical-align: middle;\n",
       "    }\n",
       "\n",
       "    .dataframe tbody tr th {\n",
       "        vertical-align: top;\n",
       "    }\n",
       "\n",
       "    .dataframe thead th {\n",
       "        text-align: right;\n",
       "    }\n",
       "</style>\n",
       "<table border=\"1\" class=\"dataframe\">\n",
       "  <thead>\n",
       "    <tr style=\"text-align: right;\">\n",
       "      <th></th>\n",
       "      <th>Salary</th>\n",
       "      <th>Children</th>\n",
       "      <th>Catalogs</th>\n",
       "      <th>AmountSpent</th>\n",
       "    </tr>\n",
       "  </thead>\n",
       "  <tbody>\n",
       "    <tr>\n",
       "      <th>count</th>\n",
       "      <td>1000.000000</td>\n",
       "      <td>1000.00000</td>\n",
       "      <td>1000.000000</td>\n",
       "      <td>1000.000000</td>\n",
       "    </tr>\n",
       "    <tr>\n",
       "      <th>mean</th>\n",
       "      <td>56103.900000</td>\n",
       "      <td>0.93400</td>\n",
       "      <td>14.682000</td>\n",
       "      <td>1216.770000</td>\n",
       "    </tr>\n",
       "    <tr>\n",
       "      <th>std</th>\n",
       "      <td>30616.314826</td>\n",
       "      <td>1.05107</td>\n",
       "      <td>6.622895</td>\n",
       "      <td>961.068613</td>\n",
       "    </tr>\n",
       "    <tr>\n",
       "      <th>min</th>\n",
       "      <td>10100.000000</td>\n",
       "      <td>0.00000</td>\n",
       "      <td>6.000000</td>\n",
       "      <td>38.000000</td>\n",
       "    </tr>\n",
       "    <tr>\n",
       "      <th>25%</th>\n",
       "      <td>29975.000000</td>\n",
       "      <td>0.00000</td>\n",
       "      <td>6.000000</td>\n",
       "      <td>488.250000</td>\n",
       "    </tr>\n",
       "    <tr>\n",
       "      <th>50%</th>\n",
       "      <td>53700.000000</td>\n",
       "      <td>1.00000</td>\n",
       "      <td>12.000000</td>\n",
       "      <td>962.000000</td>\n",
       "    </tr>\n",
       "    <tr>\n",
       "      <th>75%</th>\n",
       "      <td>77025.000000</td>\n",
       "      <td>2.00000</td>\n",
       "      <td>18.000000</td>\n",
       "      <td>1688.500000</td>\n",
       "    </tr>\n",
       "    <tr>\n",
       "      <th>max</th>\n",
       "      <td>168800.000000</td>\n",
       "      <td>3.00000</td>\n",
       "      <td>24.000000</td>\n",
       "      <td>6217.000000</td>\n",
       "    </tr>\n",
       "  </tbody>\n",
       "</table>\n",
       "</div>"
      ],
      "text/plain": [
       "              Salary    Children     Catalogs  AmountSpent\n",
       "count    1000.000000  1000.00000  1000.000000  1000.000000\n",
       "mean    56103.900000     0.93400    14.682000  1216.770000\n",
       "std     30616.314826     1.05107     6.622895   961.068613\n",
       "min     10100.000000     0.00000     6.000000    38.000000\n",
       "25%     29975.000000     0.00000     6.000000   488.250000\n",
       "50%     53700.000000     1.00000    12.000000   962.000000\n",
       "75%     77025.000000     2.00000    18.000000  1688.500000\n",
       "max    168800.000000     3.00000    24.000000  6217.000000"
      ]
     },
     "execution_count": 2,
     "metadata": {},
     "output_type": "execute_result"
    }
   ],
   "source": [
    "# To generate a quick summary of the numeric variables\n",
    "dm.describe()"
   ]
  },
  {
   "cell_type": "code",
   "execution_count": 3,
   "id": "4d075818",
   "metadata": {},
   "outputs": [
    {
     "data": {
      "text/html": [
       "<div>\n",
       "<style scoped>\n",
       "    .dataframe tbody tr th:only-of-type {\n",
       "        vertical-align: middle;\n",
       "    }\n",
       "\n",
       "    .dataframe tbody tr th {\n",
       "        vertical-align: top;\n",
       "    }\n",
       "\n",
       "    .dataframe thead th {\n",
       "        text-align: right;\n",
       "    }\n",
       "</style>\n",
       "<table border=\"1\" class=\"dataframe\">\n",
       "  <thead>\n",
       "    <tr style=\"text-align: right;\">\n",
       "      <th></th>\n",
       "      <th></th>\n",
       "      <th>min</th>\n",
       "      <th>max</th>\n",
       "      <th>mean</th>\n",
       "      <th>median</th>\n",
       "      <th>std</th>\n",
       "      <th>count</th>\n",
       "    </tr>\n",
       "    <tr>\n",
       "      <th>Age</th>\n",
       "      <th>History</th>\n",
       "      <th></th>\n",
       "      <th></th>\n",
       "      <th></th>\n",
       "      <th></th>\n",
       "      <th></th>\n",
       "      <th></th>\n",
       "    </tr>\n",
       "  </thead>\n",
       "  <tbody>\n",
       "    <tr>\n",
       "      <th rowspan=\"3\" valign=\"top\">Middle</th>\n",
       "      <th>High</th>\n",
       "      <td>701</td>\n",
       "      <td>5878</td>\n",
       "      <td>2156.778443</td>\n",
       "      <td>1944.0</td>\n",
       "      <td>936.240948</td>\n",
       "      <td>167</td>\n",
       "    </tr>\n",
       "    <tr>\n",
       "      <th>Low</th>\n",
       "      <td>157</td>\n",
       "      <td>1102</td>\n",
       "      <td>403.086957</td>\n",
       "      <td>356.0</td>\n",
       "      <td>214.691142</td>\n",
       "      <td>69</td>\n",
       "    </tr>\n",
       "    <tr>\n",
       "      <th>Medium</th>\n",
       "      <td>448</td>\n",
       "      <td>2090</td>\n",
       "      <td>981.905512</td>\n",
       "      <td>927.0</td>\n",
       "      <td>345.285445</td>\n",
       "      <td>127</td>\n",
       "    </tr>\n",
       "    <tr>\n",
       "      <th rowspan=\"3\" valign=\"top\">Old</th>\n",
       "      <th>High</th>\n",
       "      <td>565</td>\n",
       "      <td>6217</td>\n",
       "      <td>2277.666667</td>\n",
       "      <td>2057.0</td>\n",
       "      <td>1043.197093</td>\n",
       "      <td>81</td>\n",
       "    </tr>\n",
       "    <tr>\n",
       "      <th>Low</th>\n",
       "      <td>65</td>\n",
       "      <td>1120</td>\n",
       "      <td>433.210526</td>\n",
       "      <td>436.5</td>\n",
       "      <td>230.830247</td>\n",
       "      <td>38</td>\n",
       "    </tr>\n",
       "    <tr>\n",
       "      <th>Medium</th>\n",
       "      <td>438</td>\n",
       "      <td>1645</td>\n",
       "      <td>923.580000</td>\n",
       "      <td>884.5</td>\n",
       "      <td>297.199314</td>\n",
       "      <td>50</td>\n",
       "    </tr>\n",
       "    <tr>\n",
       "      <th rowspan=\"3\" valign=\"top\">Young</th>\n",
       "      <th>High</th>\n",
       "      <td>979</td>\n",
       "      <td>3688</td>\n",
       "      <td>1827.428571</td>\n",
       "      <td>1512.0</td>\n",
       "      <td>959.409863</td>\n",
       "      <td>7</td>\n",
       "    </tr>\n",
       "    <tr>\n",
       "      <th>Low</th>\n",
       "      <td>38</td>\n",
       "      <td>991</td>\n",
       "      <td>307.764228</td>\n",
       "      <td>268.0</td>\n",
       "      <td>174.384683</td>\n",
       "      <td>123</td>\n",
       "    </tr>\n",
       "    <tr>\n",
       "      <th>Medium</th>\n",
       "      <td>486</td>\n",
       "      <td>1560</td>\n",
       "      <td>874.400000</td>\n",
       "      <td>833.0</td>\n",
       "      <td>290.441672</td>\n",
       "      <td>35</td>\n",
       "    </tr>\n",
       "  </tbody>\n",
       "</table>\n",
       "</div>"
      ],
      "text/plain": [
       "                min   max         mean  median          std  count\n",
       "Age    History                                                    \n",
       "Middle High     701  5878  2156.778443  1944.0   936.240948    167\n",
       "       Low      157  1102   403.086957   356.0   214.691142     69\n",
       "       Medium   448  2090   981.905512   927.0   345.285445    127\n",
       "Old    High     565  6217  2277.666667  2057.0  1043.197093     81\n",
       "       Low       65  1120   433.210526   436.5   230.830247     38\n",
       "       Medium   438  1645   923.580000   884.5   297.199314     50\n",
       "Young  High     979  3688  1827.428571  1512.0   959.409863      7\n",
       "       Low       38   991   307.764228   268.0   174.384683    123\n",
       "       Medium   486  1560   874.400000   833.0   290.441672     35"
      ]
     },
     "execution_count": 3,
     "metadata": {},
     "output_type": "execute_result"
    }
   ],
   "source": [
    "# If we want to generate a summary of Amount Spent across age groups and History\n",
    "dm.groupby([\"Age\", \"History\"]).AmountSpent.agg([\"min\", \"max\", \"mean\", \"median\", \"std\", \"count\"])"
   ]
  },
  {
   "cell_type": "code",
   "execution_count": 4,
   "id": "02bcdc2b",
   "metadata": {},
   "outputs": [
    {
     "data": {
      "text/html": [
       "<div>\n",
       "<style scoped>\n",
       "    .dataframe tbody tr th:only-of-type {\n",
       "        vertical-align: middle;\n",
       "    }\n",
       "\n",
       "    .dataframe tbody tr th {\n",
       "        vertical-align: top;\n",
       "    }\n",
       "\n",
       "    .dataframe thead tr th {\n",
       "        text-align: left;\n",
       "    }\n",
       "\n",
       "    .dataframe thead tr:last-of-type th {\n",
       "        text-align: right;\n",
       "    }\n",
       "</style>\n",
       "<table border=\"1\" class=\"dataframe\">\n",
       "  <thead>\n",
       "    <tr>\n",
       "      <th></th>\n",
       "      <th></th>\n",
       "      <th colspan=\"2\" halign=\"left\">AmountSpent</th>\n",
       "      <th colspan=\"2\" halign=\"left\">Salary</th>\n",
       "    </tr>\n",
       "    <tr>\n",
       "      <th></th>\n",
       "      <th></th>\n",
       "      <th>mean</th>\n",
       "      <th>median</th>\n",
       "      <th>mean</th>\n",
       "      <th>median</th>\n",
       "    </tr>\n",
       "    <tr>\n",
       "      <th>Age</th>\n",
       "      <th>Location</th>\n",
       "      <th></th>\n",
       "      <th></th>\n",
       "      <th></th>\n",
       "      <th></th>\n",
       "    </tr>\n",
       "  </thead>\n",
       "  <tbody>\n",
       "    <tr>\n",
       "      <th rowspan=\"2\" valign=\"top\">Middle</th>\n",
       "      <th>Close</th>\n",
       "      <td>1285.508108</td>\n",
       "      <td>1143.5</td>\n",
       "      <td>71827.297297</td>\n",
       "      <td>68400.0</td>\n",
       "    </tr>\n",
       "    <tr>\n",
       "      <th>Far</th>\n",
       "      <td>2081.311594</td>\n",
       "      <td>1907.0</td>\n",
       "      <td>72597.101449</td>\n",
       "      <td>69350.0</td>\n",
       "    </tr>\n",
       "    <tr>\n",
       "      <th rowspan=\"2\" valign=\"top\">Old</th>\n",
       "      <th>Close</th>\n",
       "      <td>1257.643357</td>\n",
       "      <td>1006.0</td>\n",
       "      <td>57361.538462</td>\n",
       "      <td>52200.0</td>\n",
       "    </tr>\n",
       "    <tr>\n",
       "      <th>Far</th>\n",
       "      <td>1834.564516</td>\n",
       "      <td>1830.5</td>\n",
       "      <td>54069.354839</td>\n",
       "      <td>58800.0</td>\n",
       "    </tr>\n",
       "    <tr>\n",
       "      <th rowspan=\"2\" valign=\"top\">Young</th>\n",
       "      <th>Close</th>\n",
       "      <td>499.065990</td>\n",
       "      <td>387.0</td>\n",
       "      <td>28276.649746</td>\n",
       "      <td>21700.0</td>\n",
       "    </tr>\n",
       "    <tr>\n",
       "      <th>Far</th>\n",
       "      <td>688.988889</td>\n",
       "      <td>556.5</td>\n",
       "      <td>26487.777778</td>\n",
       "      <td>20750.0</td>\n",
       "    </tr>\n",
       "  </tbody>\n",
       "</table>\n",
       "</div>"
      ],
      "text/plain": [
       "                 AmountSpent                Salary         \n",
       "                        mean  median          mean   median\n",
       "Age    Location                                            \n",
       "Middle Close     1285.508108  1143.5  71827.297297  68400.0\n",
       "       Far       2081.311594  1907.0  72597.101449  69350.0\n",
       "Old    Close     1257.643357  1006.0  57361.538462  52200.0\n",
       "       Far       1834.564516  1830.5  54069.354839  58800.0\n",
       "Young  Close      499.065990   387.0  28276.649746  21700.0\n",
       "       Far        688.988889   556.5  26487.777778  20750.0"
      ]
     },
     "execution_count": 4,
     "metadata": {},
     "output_type": "execute_result"
    }
   ],
   "source": [
    "# If we want to see how the mean and median vary across Amount Spent and Salary for different age and location groups\n",
    "dm.groupby([\"Age\", \"Location\"]).agg({\"AmountSpent\" : [\"mean\", \"median\"], \"Salary\" : [\"mean\", \"median\"]})\n"
   ]
  },
  {
   "cell_type": "code",
   "execution_count": 5,
   "id": "581e1b54",
   "metadata": {},
   "outputs": [
    {
     "data": {
      "text/html": [
       "<div>\n",
       "<style scoped>\n",
       "    .dataframe tbody tr th:only-of-type {\n",
       "        vertical-align: middle;\n",
       "    }\n",
       "\n",
       "    .dataframe tbody tr th {\n",
       "        vertical-align: top;\n",
       "    }\n",
       "\n",
       "    .dataframe thead th {\n",
       "        text-align: right;\n",
       "    }\n",
       "</style>\n",
       "<table border=\"1\" class=\"dataframe\">\n",
       "  <thead>\n",
       "    <tr style=\"text-align: right;\">\n",
       "      <th>History</th>\n",
       "      <th>High</th>\n",
       "      <th>Low</th>\n",
       "      <th>Medium</th>\n",
       "      <th>All</th>\n",
       "    </tr>\n",
       "    <tr>\n",
       "      <th>Age</th>\n",
       "      <th></th>\n",
       "      <th></th>\n",
       "      <th></th>\n",
       "      <th></th>\n",
       "    </tr>\n",
       "  </thead>\n",
       "  <tbody>\n",
       "    <tr>\n",
       "      <th>Middle</th>\n",
       "      <td>167</td>\n",
       "      <td>69</td>\n",
       "      <td>127</td>\n",
       "      <td>363</td>\n",
       "    </tr>\n",
       "    <tr>\n",
       "      <th>Old</th>\n",
       "      <td>81</td>\n",
       "      <td>38</td>\n",
       "      <td>50</td>\n",
       "      <td>169</td>\n",
       "    </tr>\n",
       "    <tr>\n",
       "      <th>Young</th>\n",
       "      <td>7</td>\n",
       "      <td>123</td>\n",
       "      <td>35</td>\n",
       "      <td>165</td>\n",
       "    </tr>\n",
       "    <tr>\n",
       "      <th>All</th>\n",
       "      <td>255</td>\n",
       "      <td>230</td>\n",
       "      <td>212</td>\n",
       "      <td>697</td>\n",
       "    </tr>\n",
       "  </tbody>\n",
       "</table>\n",
       "</div>"
      ],
      "text/plain": [
       "History  High  Low  Medium  All\n",
       "Age                            \n",
       "Middle    167   69     127  363\n",
       "Old        81   38      50  169\n",
       "Young       7  123      35  165\n",
       "All       255  230     212  697"
      ]
     },
     "execution_count": 5,
     "metadata": {},
     "output_type": "execute_result"
    }
   ],
   "source": [
    "# To check how frequently each age group comes to the shop\n",
    "pd.crosstab(dm[\"Age\"], dm[\"History\"], margins = True)"
   ]
  },
  {
   "cell_type": "code",
   "execution_count": 6,
   "id": "d4e6b62c",
   "metadata": {},
   "outputs": [
    {
     "data": {
      "text/html": [
       "<div>\n",
       "<style scoped>\n",
       "    .dataframe tbody tr th:only-of-type {\n",
       "        vertical-align: middle;\n",
       "    }\n",
       "\n",
       "    .dataframe tbody tr th {\n",
       "        vertical-align: top;\n",
       "    }\n",
       "\n",
       "    .dataframe thead th {\n",
       "        text-align: right;\n",
       "    }\n",
       "</style>\n",
       "<table border=\"1\" class=\"dataframe\">\n",
       "  <thead>\n",
       "    <tr style=\"text-align: right;\">\n",
       "      <th>History</th>\n",
       "      <th>High</th>\n",
       "      <th>Low</th>\n",
       "      <th>Medium</th>\n",
       "      <th>All</th>\n",
       "    </tr>\n",
       "    <tr>\n",
       "      <th>Age</th>\n",
       "      <th></th>\n",
       "      <th></th>\n",
       "      <th></th>\n",
       "      <th></th>\n",
       "    </tr>\n",
       "  </thead>\n",
       "  <tbody>\n",
       "    <tr>\n",
       "      <th>Middle</th>\n",
       "      <td>0.239598</td>\n",
       "      <td>0.098996</td>\n",
       "      <td>0.182209</td>\n",
       "      <td>0.520803</td>\n",
       "    </tr>\n",
       "    <tr>\n",
       "      <th>Old</th>\n",
       "      <td>0.116212</td>\n",
       "      <td>0.054519</td>\n",
       "      <td>0.071736</td>\n",
       "      <td>0.242468</td>\n",
       "    </tr>\n",
       "    <tr>\n",
       "      <th>Young</th>\n",
       "      <td>0.010043</td>\n",
       "      <td>0.176471</td>\n",
       "      <td>0.050215</td>\n",
       "      <td>0.236729</td>\n",
       "    </tr>\n",
       "    <tr>\n",
       "      <th>All</th>\n",
       "      <td>0.365854</td>\n",
       "      <td>0.329986</td>\n",
       "      <td>0.304161</td>\n",
       "      <td>1.000000</td>\n",
       "    </tr>\n",
       "  </tbody>\n",
       "</table>\n",
       "</div>"
      ],
      "text/plain": [
       "History      High       Low    Medium       All\n",
       "Age                                            \n",
       "Middle   0.239598  0.098996  0.182209  0.520803\n",
       "Old      0.116212  0.054519  0.071736  0.242468\n",
       "Young    0.010043  0.176471  0.050215  0.236729\n",
       "All      0.365854  0.329986  0.304161  1.000000"
      ]
     },
     "execution_count": 6,
     "metadata": {},
     "output_type": "execute_result"
    }
   ],
   "source": [
    "# If we want to see the same thing , but now we want to see percentages of the total number of customers instead of counts\n",
    "pd.crosstab(dm[\"Age\"], dm[\"History\"], margins = True, normalize = True)\n"
   ]
  },
  {
   "cell_type": "markdown",
   "id": "c8326c75",
   "metadata": {},
   "source": [
    "What does this table tell us about the relationshp between frequency of visit and age group?"
   ]
  },
  {
   "cell_type": "code",
   "execution_count": 7,
   "id": "4c08ad2a",
   "metadata": {},
   "outputs": [
    {
     "data": {
      "text/html": [
       "<div>\n",
       "<style scoped>\n",
       "    .dataframe tbody tr th:only-of-type {\n",
       "        vertical-align: middle;\n",
       "    }\n",
       "\n",
       "    .dataframe tbody tr th {\n",
       "        vertical-align: top;\n",
       "    }\n",
       "\n",
       "    .dataframe thead th {\n",
       "        text-align: right;\n",
       "    }\n",
       "</style>\n",
       "<table border=\"1\" class=\"dataframe\">\n",
       "  <thead>\n",
       "    <tr style=\"text-align: right;\">\n",
       "      <th>Location</th>\n",
       "      <th>Close</th>\n",
       "      <th>Far</th>\n",
       "      <th>All</th>\n",
       "    </tr>\n",
       "    <tr>\n",
       "      <th>History</th>\n",
       "      <th></th>\n",
       "      <th></th>\n",
       "      <th></th>\n",
       "    </tr>\n",
       "  </thead>\n",
       "  <tbody>\n",
       "    <tr>\n",
       "      <th>High</th>\n",
       "      <td>0.314323</td>\n",
       "      <td>0.348473</td>\n",
       "      <td>0.662797</td>\n",
       "    </tr>\n",
       "    <tr>\n",
       "      <th>Low</th>\n",
       "      <td>0.076339</td>\n",
       "      <td>0.021310</td>\n",
       "      <td>0.097648</td>\n",
       "    </tr>\n",
       "    <tr>\n",
       "      <th>Medium</th>\n",
       "      <td>0.184412</td>\n",
       "      <td>0.055143</td>\n",
       "      <td>0.239555</td>\n",
       "    </tr>\n",
       "    <tr>\n",
       "      <th>All</th>\n",
       "      <td>0.575074</td>\n",
       "      <td>0.424926</td>\n",
       "      <td>1.000000</td>\n",
       "    </tr>\n",
       "  </tbody>\n",
       "</table>\n",
       "</div>"
      ],
      "text/plain": [
       "Location     Close       Far       All\n",
       "History                               \n",
       "High      0.314323  0.348473  0.662797\n",
       "Low       0.076339  0.021310  0.097648\n",
       "Medium    0.184412  0.055143  0.239555\n",
       "All       0.575074  0.424926  1.000000"
      ]
     },
     "execution_count": 7,
     "metadata": {},
     "output_type": "execute_result"
    }
   ],
   "source": [
    "# What if we want to know how frequency of visit and distance from the shop, impact total spending\n",
    "pd.crosstab(dm[\"History\"], dm[\"Location\"], values = dm[\"AmountSpent\"], aggfunc = \"sum\", margins = True, normalize = True)"
   ]
  },
  {
   "cell_type": "markdown",
   "id": "74933296",
   "metadata": {},
   "source": [
    "Insight - 35% of the total spending is contributed by people who visit us regularly, and from far away. In fact people who visit us regularly contribute to 66% of the total spending!!!"
   ]
  },
  {
   "cell_type": "markdown",
   "id": "4178eb22",
   "metadata": {},
   "source": [
    "Now that we have looked into quickly getting summary stats and other insights from the dataset, what about running some statistical tests?"
   ]
  },
  {
   "cell_type": "markdown",
   "id": "5154eb66",
   "metadata": {},
   "source": [
    "## T Tests of Comparison of Mean"
   ]
  },
  {
   "cell_type": "markdown",
   "id": "5c2ac500",
   "metadata": {},
   "source": [
    "What if we want to know answer to these following questions:\n",
    "1. Is there a difference in spending among the genders?\n",
    "2. Does married people spend more compared to unmarried people?\n",
    "3. Does people with children spend more than people without children?\n",
    "\n",
    "To carry out these tests, we would need sub-library from the larger library scipy, stas. Scipy is a massive library that gets downloaded with anaconda, which gives you access to all science calculations, including stats. Loading the whole library would just slow the whole system down"
   ]
  },
  {
   "cell_type": "code",
   "execution_count": 8,
   "id": "55d9eb89",
   "metadata": {},
   "outputs": [],
   "source": [
    "# Loading a sub library from a larger library in python\n",
    "from scipy import stats"
   ]
  },
  {
   "cell_type": "code",
   "execution_count": 9,
   "id": "f0eb0476",
   "metadata": {},
   "outputs": [
    {
     "data": {
      "text/plain": [
       "Ttest_indResult(statistic=6.505311639117184, pvalue=1.224352575593024e-10)"
      ]
     },
     "execution_count": 9,
     "metadata": {},
     "output_type": "execute_result"
    }
   ],
   "source": [
    "# Now to run the Independent 2 sample t test to check the answer of the first question\n",
    "\n",
    "stats.ttest_ind(dm[dm[\"Gender\"] == \"Male\"].AmountSpent, dm[dm[\"Gender\"] == \"Female\"].AmountSpent)"
   ]
  },
  {
   "cell_type": "markdown",
   "id": "4acbd630",
   "metadata": {},
   "source": [
    "As you can see, the t value came out to be 6.5, and the p values is very very small, less than 0.05 significance, which means that the chances of the two means being equal is very very low. But the concern with this type of T Test result is its very bare, and if we are reporting for research journals, then its too less to create any value. For more detailed results, we will need to install a new library, bioinfokit"
   ]
  },
  {
   "cell_type": "code",
   "execution_count": 10,
   "id": "177f1bf6",
   "metadata": {},
   "outputs": [
    {
     "name": "stdout",
     "output_type": "stream",
     "text": [
      "Requirement already satisfied: bioinfokit in ./opt/anaconda3/lib/python3.9/site-packages (2.1.0)\n",
      "Requirement already satisfied: scikit-learn in ./opt/anaconda3/lib/python3.9/site-packages (from bioinfokit) (1.1.2)\n",
      "Requirement already satisfied: pandas in ./opt/anaconda3/lib/python3.9/site-packages (from bioinfokit) (1.4.3)\n",
      "Requirement already satisfied: adjustText in ./opt/anaconda3/lib/python3.9/site-packages (from bioinfokit) (0.7.3)\n",
      "Requirement already satisfied: matplotlib-venn in ./opt/anaconda3/lib/python3.9/site-packages (from bioinfokit) (0.11.7)\n",
      "Requirement already satisfied: tabulate in ./opt/anaconda3/lib/python3.9/site-packages (from bioinfokit) (0.8.10)\n",
      "Requirement already satisfied: textwrap3 in ./opt/anaconda3/lib/python3.9/site-packages (from bioinfokit) (0.9.2)\n",
      "Requirement already satisfied: numpy in ./opt/anaconda3/lib/python3.9/site-packages (from bioinfokit) (1.23.1)\n",
      "Requirement already satisfied: matplotlib in ./opt/anaconda3/lib/python3.9/site-packages (from bioinfokit) (3.5.3)\n",
      "Requirement already satisfied: seaborn in ./opt/anaconda3/lib/python3.9/site-packages (from bioinfokit) (0.11.2)\n",
      "Requirement already satisfied: statsmodels in ./opt/anaconda3/lib/python3.9/site-packages (from bioinfokit) (0.13.2)\n",
      "Requirement already satisfied: scipy in ./opt/anaconda3/lib/python3.9/site-packages (from bioinfokit) (1.9.1)\n",
      "Requirement already satisfied: fonttools>=4.22.0 in ./opt/anaconda3/lib/python3.9/site-packages (from matplotlib->bioinfokit) (4.37.1)\n",
      "Requirement already satisfied: python-dateutil>=2.7 in ./opt/anaconda3/lib/python3.9/site-packages (from matplotlib->bioinfokit) (2.8.2)\n",
      "Requirement already satisfied: pillow>=6.2.0 in ./opt/anaconda3/lib/python3.9/site-packages (from matplotlib->bioinfokit) (9.2.0)\n",
      "Requirement already satisfied: cycler>=0.10 in ./opt/anaconda3/lib/python3.9/site-packages (from matplotlib->bioinfokit) (0.11.0)\n",
      "Requirement already satisfied: pyparsing>=2.2.1 in ./opt/anaconda3/lib/python3.9/site-packages (from matplotlib->bioinfokit) (3.0.9)\n",
      "Requirement already satisfied: kiwisolver>=1.0.1 in ./opt/anaconda3/lib/python3.9/site-packages (from matplotlib->bioinfokit) (1.4.4)\n",
      "Requirement already satisfied: packaging>=20.0 in ./opt/anaconda3/lib/python3.9/site-packages (from matplotlib->bioinfokit) (21.3)\n",
      "Requirement already satisfied: pytz>=2020.1 in ./opt/anaconda3/lib/python3.9/site-packages (from pandas->bioinfokit) (2022.1)\n",
      "Requirement already satisfied: threadpoolctl>=2.0.0 in ./opt/anaconda3/lib/python3.9/site-packages (from scikit-learn->bioinfokit) (3.1.0)\n",
      "Requirement already satisfied: joblib>=1.0.0 in ./opt/anaconda3/lib/python3.9/site-packages (from scikit-learn->bioinfokit) (1.1.0)\n",
      "Requirement already satisfied: patsy>=0.5.2 in ./opt/anaconda3/lib/python3.9/site-packages (from statsmodels->bioinfokit) (0.5.2)\n",
      "Requirement already satisfied: six in ./opt/anaconda3/lib/python3.9/site-packages (from patsy>=0.5.2->statsmodels->bioinfokit) (1.16.0)\n"
     ]
    }
   ],
   "source": [
    "# lets set up python for installing the new library\n",
    "import sys\n",
    "\n",
    "# Lets install the new library\n",
    "!{sys.executable} -m pip install bioinfokit"
   ]
  },
  {
   "cell_type": "code",
   "execution_count": 11,
   "id": "e5a1f5ff",
   "metadata": {},
   "outputs": [
    {
     "name": "stdout",
     "output_type": "stream",
     "text": [
      "\n",
      "Two sample t-test with equal variance\n",
      "\n",
      "------------------  --------------\n",
      "Mean diff           -387.51\n",
      "t                     -6.50531\n",
      "Std Error             59.5683\n",
      "df                   998\n",
      "p value (one-tail)     6.12176e-11\n",
      "p value (two-tail)     1.22435e-10\n",
      "Lower 95.0%         -504.404\n",
      "Upper 95.0%         -270.617\n",
      "------------------  --------------\n",
      "\n",
      "Parameter estimates\n",
      "\n",
      "Level      Number     Mean    Std Dev    Std Error    Lower 95.0%    Upper 95.0%\n",
      "-------  --------  -------  ---------  -----------  -------------  -------------\n",
      "Female        506  1025.34    910.529       40.478        945.814        1104.87\n",
      "Male          494  1412.85    972.77        43.767       1326.86         1498.84\n",
      "\n"
     ]
    }
   ],
   "source": [
    "# Loading the funtion we will need from bioinfokit library\n",
    "from bioinfokit.analys import stat\n",
    "\n",
    "# For this library, we will need to create a new object which we will use to run the tests\n",
    "res = stat()\n",
    "\n",
    "# Now running the t test\n",
    "res.ttest(df = dm, xfac = \"Gender\", res = \"AmountSpent\", test_type = 2)\n",
    "\n",
    "print(res.summary)"
   ]
  },
  {
   "cell_type": "code",
   "execution_count": 12,
   "id": "5fd5657e",
   "metadata": {},
   "outputs": [
    {
     "name": "stdout",
     "output_type": "stream",
     "text": [
      "\n",
      "Warning: the two group variance are not equal. Rerun the test with evar=False\n",
      "\n",
      "\n",
      "Two sample t-test with equal variance\n",
      "\n",
      "------------------  --------------\n",
      "Mean diff            914.256\n",
      "t                     17.0931\n",
      "Std Error             53.4868\n",
      "df                   998\n",
      "p value (one-tail)     5.95225e-58\n",
      "p value (two-tail)     1.19045e-57\n",
      "Lower 95.0%          809.297\n",
      "Upper 95.0%         1019.22\n",
      "------------------  --------------\n",
      "\n",
      "Parameter estimates\n",
      "\n",
      "Level      Number      Mean    Std Dev    Std Error    Lower 95.0%    Upper 95.0%\n",
      "-------  --------  --------  ---------  -----------  -------------  -------------\n",
      "Married       502  1672.07    1037.68       46.314        1581.08        1763.06\n",
      "Single        498   757.813    592.201      26.5372        705.674        809.952\n",
      "\n"
     ]
    }
   ],
   "source": [
    "# Now we can look at the second question\n",
    "res.ttest(df = dm, xfac = \"Married\", res = \"AmountSpent\", test_type = 2)\n",
    "\n",
    "print(res.summary)"
   ]
  },
  {
   "cell_type": "markdown",
   "id": "452253eb",
   "metadata": {},
   "source": [
    "The warning suggests that the variance among the two groups are not equal. It also suggests us a solution to correct for the unequal variance and lets do that!"
   ]
  },
  {
   "cell_type": "code",
   "execution_count": 13,
   "id": "b849fe58",
   "metadata": {},
   "outputs": [
    {
     "name": "stdout",
     "output_type": "stream",
     "text": [
      "\n",
      "Warning: the two group variance are not equal. Rerun the test with evar=False\n",
      "\n",
      "\n",
      "Two sample t-test with unequal variance (Welch's t-test)\n",
      "\n",
      "------------------  --------------\n",
      "Mean diff            914.256\n",
      "t                     17.128\n",
      "Std Error             53.3779\n",
      "df                   797.334\n",
      "p value (one-tail)     1.54417e-56\n",
      "p value (two-tail)     3.08834e-56\n",
      "Lower 95.0%          809.479\n",
      "Upper 95.0%         1019.03\n",
      "------------------  --------------\n",
      "\n",
      "Parameter estimates\n",
      "\n",
      "Level      Number      Mean    Std Dev    Std Error    Lower 95.0%    Upper 95.0%\n",
      "-------  --------  --------  ---------  -----------  -------------  -------------\n",
      "Married       502  1672.07    1037.68       46.314        1581.08        1763.06\n",
      "Single        498   757.813    592.201      26.5372        705.674        809.952\n",
      "\n"
     ]
    }
   ],
   "source": [
    "# Correcting for unequal variance\n",
    "res.ttest(df = dm, xfac = \"Married\", res = \"AmountSpent\", test_type = 2, evar = False)\n",
    "\n",
    "print(res.summary)"
   ]
  },
  {
   "cell_type": "markdown",
   "id": "2d3e5408",
   "metadata": {},
   "source": [
    "Now lets get about running the test for the third question. The problem with this question is that there is no specific variable in the dataset that highlights whether there the customer has a child or not. We have a variable thats called number of children. Lets use if then else structure to create the variable we want"
   ]
  },
  {
   "cell_type": "code",
   "execution_count": 14,
   "id": "a7e7b80b",
   "metadata": {},
   "outputs": [
    {
     "data": {
      "text/html": [
       "<div>\n",
       "<style scoped>\n",
       "    .dataframe tbody tr th:only-of-type {\n",
       "        vertical-align: middle;\n",
       "    }\n",
       "\n",
       "    .dataframe tbody tr th {\n",
       "        vertical-align: top;\n",
       "    }\n",
       "\n",
       "    .dataframe thead th {\n",
       "        text-align: right;\n",
       "    }\n",
       "</style>\n",
       "<table border=\"1\" class=\"dataframe\">\n",
       "  <thead>\n",
       "    <tr style=\"text-align: right;\">\n",
       "      <th></th>\n",
       "      <th>Age</th>\n",
       "      <th>Gender</th>\n",
       "      <th>OwnHome</th>\n",
       "      <th>Married</th>\n",
       "      <th>Location</th>\n",
       "      <th>Salary</th>\n",
       "      <th>Children</th>\n",
       "      <th>History</th>\n",
       "      <th>Catalogs</th>\n",
       "      <th>AmountSpent</th>\n",
       "      <th>Children_Y_N</th>\n",
       "    </tr>\n",
       "  </thead>\n",
       "  <tbody>\n",
       "    <tr>\n",
       "      <th>0</th>\n",
       "      <td>Old</td>\n",
       "      <td>Female</td>\n",
       "      <td>Own</td>\n",
       "      <td>Single</td>\n",
       "      <td>Far</td>\n",
       "      <td>47500</td>\n",
       "      <td>0</td>\n",
       "      <td>High</td>\n",
       "      <td>6</td>\n",
       "      <td>755</td>\n",
       "      <td>No</td>\n",
       "    </tr>\n",
       "    <tr>\n",
       "      <th>1</th>\n",
       "      <td>Middle</td>\n",
       "      <td>Male</td>\n",
       "      <td>Rent</td>\n",
       "      <td>Single</td>\n",
       "      <td>Close</td>\n",
       "      <td>63600</td>\n",
       "      <td>0</td>\n",
       "      <td>High</td>\n",
       "      <td>6</td>\n",
       "      <td>1318</td>\n",
       "      <td>No</td>\n",
       "    </tr>\n",
       "    <tr>\n",
       "      <th>2</th>\n",
       "      <td>Young</td>\n",
       "      <td>Female</td>\n",
       "      <td>Rent</td>\n",
       "      <td>Single</td>\n",
       "      <td>Close</td>\n",
       "      <td>13500</td>\n",
       "      <td>0</td>\n",
       "      <td>Low</td>\n",
       "      <td>18</td>\n",
       "      <td>296</td>\n",
       "      <td>No</td>\n",
       "    </tr>\n",
       "    <tr>\n",
       "      <th>3</th>\n",
       "      <td>Middle</td>\n",
       "      <td>Male</td>\n",
       "      <td>Own</td>\n",
       "      <td>Married</td>\n",
       "      <td>Close</td>\n",
       "      <td>85600</td>\n",
       "      <td>1</td>\n",
       "      <td>High</td>\n",
       "      <td>18</td>\n",
       "      <td>2436</td>\n",
       "      <td>Yes</td>\n",
       "    </tr>\n",
       "    <tr>\n",
       "      <th>4</th>\n",
       "      <td>Middle</td>\n",
       "      <td>Female</td>\n",
       "      <td>Own</td>\n",
       "      <td>Single</td>\n",
       "      <td>Close</td>\n",
       "      <td>68400</td>\n",
       "      <td>0</td>\n",
       "      <td>High</td>\n",
       "      <td>12</td>\n",
       "      <td>1304</td>\n",
       "      <td>No</td>\n",
       "    </tr>\n",
       "  </tbody>\n",
       "</table>\n",
       "</div>"
      ],
      "text/plain": [
       "      Age  Gender OwnHome  Married Location  Salary  Children History  \\\n",
       "0     Old  Female     Own   Single      Far   47500         0    High   \n",
       "1  Middle    Male    Rent   Single    Close   63600         0    High   \n",
       "2   Young  Female    Rent   Single    Close   13500         0     Low   \n",
       "3  Middle    Male     Own  Married    Close   85600         1    High   \n",
       "4  Middle  Female     Own   Single    Close   68400         0    High   \n",
       "\n",
       "   Catalogs  AmountSpent Children_Y_N  \n",
       "0         6          755           No  \n",
       "1         6         1318           No  \n",
       "2        18          296           No  \n",
       "3        18         2436          Yes  \n",
       "4        12         1304           No  "
      ]
     },
     "execution_count": 14,
     "metadata": {},
     "output_type": "execute_result"
    }
   ],
   "source": [
    "# Creating a new variable saying whether the customer has a children or not\n",
    "\n",
    "# First we create an empty list\n",
    "children_y_n = []\n",
    "\n",
    "# Next we use our for loop and if then else to populate the list with values of Yes and No for whether the customer has children or not\n",
    "for value in dm[\"Children\"]:\n",
    "    if value == 0:\n",
    "        children_y_n.append(\"No\")\n",
    "    else:\n",
    "        children_y_n.append(\"Yes\")\n",
    "\n",
    "# Now we would need to add this list as a column in our dm dataframe\n",
    "\n",
    "dm[\"Children_Y_N\"] = children_y_n\n",
    "\n",
    "# To check if this worked\n",
    "dm.head()\n",
    "    "
   ]
  },
  {
   "cell_type": "markdown",
   "id": "c5e958fc",
   "metadata": {},
   "source": [
    "It worked! See this is how what we have learned in our coding so far is coming to use. Now lets run the t test"
   ]
  },
  {
   "cell_type": "code",
   "execution_count": 15,
   "id": "6e4d6834",
   "metadata": {},
   "outputs": [
    {
     "name": "stdout",
     "output_type": "stream",
     "text": [
      "\n",
      "Two sample t-test with equal variance\n",
      "\n",
      "------------------  -------------\n",
      "Mean diff           352.92\n",
      "t                     5.88608\n",
      "Std Error            59.9583\n",
      "df                  998\n",
      "p value (one-tail)    2.69794e-09\n",
      "p value (two-tail)    5.39587e-09\n",
      "Lower 95.0%         235.261\n",
      "Upper 95.0%         470.578\n",
      "------------------  -------------\n",
      "\n",
      "Parameter estimates\n",
      "\n",
      "Level      Number     Mean    Std Dev    Std Error    Lower 95.0%    Upper 95.0%\n",
      "-------  --------  -------  ---------  -----------  -------------  -------------\n",
      "No            462  1406.64    986.843      45.9121       1316.42         1496.86\n",
      "Yes           538  1053.72    908.087      39.1504        976.814        1130.63\n",
      "\n"
     ]
    }
   ],
   "source": [
    "# To check if the spending amount of people who have children is statistically different from those who dont\n",
    "res.ttest(df = dm, xfac = \"Children_Y_N\", res = \"AmountSpent\", test_type = 2)\n",
    "\n",
    "print(res.summary)"
   ]
  },
  {
   "cell_type": "markdown",
   "id": "e9126646",
   "metadata": {},
   "source": [
    "In fact people with children do spend less than people without children"
   ]
  },
  {
   "cell_type": "markdown",
   "id": "e1998d8d",
   "metadata": {},
   "source": [
    "## ANOVA"
   ]
  },
  {
   "cell_type": "markdown",
   "id": "4ed73e1a",
   "metadata": {},
   "source": [
    "For categorical data with multiple levels (Age, History), comparison is means using T Test is not possible. This is where we will need to rely on Analysis of Variance also known as ANOVA. Lets see how we can work with ANOVA in Python"
   ]
  },
  {
   "cell_type": "code",
   "execution_count": 16,
   "id": "8149e2c3",
   "metadata": {},
   "outputs": [
    {
     "data": {
      "text/plain": [
       "F_onewayResult(statistic=116.72170301924436, pvalue=2.8431990903622653e-46)"
      ]
     },
     "execution_count": 16,
     "metadata": {},
     "output_type": "execute_result"
    }
   ],
   "source": [
    "# First we use the stats module from SciPy. Lets test if the spending is statistically different among different age groups\n",
    "stats.f_oneway(dm[dm[\"Age\"] == \"Young\"].AmountSpent, dm[dm[\"Age\"] == \"Old\"].AmountSpent, dm[dm[\"Age\"] == \"Middle\"].AmountSpent)\n",
    "\n"
   ]
  },
  {
   "cell_type": "markdown",
   "id": "e7fe18fd",
   "metadata": {},
   "source": [
    "Agian, other than proving that the three groups average income is not equal, this is a very concise and short output actually. We can go back and rely on  bioinformatik library"
   ]
  },
  {
   "cell_type": "code",
   "execution_count": 17,
   "id": "eab74622",
   "metadata": {},
   "outputs": [
    {
     "name": "stdout",
     "output_type": "stream",
     "text": [
      "             df        sum_sq       mean_sq           F        PR(>F)\n",
      "Age         2.0  1.750630e+08  8.753148e+07  116.721703  2.843199e-46\n",
      "Residual  997.0  7.476663e+08  7.499160e+05         NaN           NaN\n"
     ]
    }
   ],
   "source": [
    "# To check the above ANOVA using bioinformatiks stat package\n",
    "res.anova_stat(df = dm, res_var = \"AmountSpent\", anova_model = \"AmountSpent ~ Age\")\n",
    "\n",
    "print(res.anova_summary)"
   ]
  },
  {
   "cell_type": "markdown",
   "id": "616c0df1",
   "metadata": {},
   "source": [
    "Now this gives us a bit more detail. It gives us both the variance between the groups and the variance within the groups, and helps us capture the F value and then lets us see the P value. And based on the P value we can conclude that the spending of each of the age groups are different. In fact we can confirm this by looking at the spending boxplots, that we learned in the previous session"
   ]
  },
  {
   "cell_type": "code",
   "execution_count": 18,
   "id": "1ecafa6d",
   "metadata": {},
   "outputs": [
    {
     "data": {
      "text/plain": [
       "<AxesSubplot:xlabel='Age', ylabel='AmountSpent'>"
      ]
     },
     "execution_count": 18,
     "metadata": {},
     "output_type": "execute_result"
    },
    {
     "data": {
      "image/png": "[encoded data removed]",
      "text/plain": [
       "<Figure size 640x480 with 1 Axes>"
      ]
     },
     "metadata": {},
     "output_type": "display_data"
    }
   ],
   "source": [
    "# To get the spending distribution based on the age group\n",
    "pd.plotting.register_matplotlib_converters()\n",
    "import seaborn as sns\n",
    "import matplotlib.pyplot as plt\n",
    "%matplotlib inline\n",
    "\n",
    "sns.boxplot(x = \"Age\", y = \"AmountSpent\", data = dm)"
   ]
  },
  {
   "cell_type": "markdown",
   "id": "90f0da38",
   "metadata": {},
   "source": [
    "But we can test this statistically as well, using a test called Tukeys HSD. This calculates the confidence interval of the different of means of each of the group. If there is any chance that there is no difference in the average of amountspent among the two groups, there will be a chance that the difference is zero, and it tells us what is that chance."
   ]
  },
  {
   "cell_type": "code",
   "execution_count": 19,
   "id": "d31cae19",
   "metadata": {},
   "outputs": [
    {
     "name": "stderr",
     "output_type": "stream",
     "text": [
      "/Users/muhammadsaqifulalam/opt/anaconda3/lib/python3.9/site-packages/bioinfokit/analys.py:402: FutureWarning: Dropping of nuisance columns in DataFrame reductions (with 'numeric_only=None') is deprecated; in a future version this will raise TypeError.  Select only valid columns before calling the reduction.\n",
      "  mult_group[ele] = df[df[xfac_var] == ele].mean().loc[res_var]\n"
     ]
    },
    {
     "data": {
      "text/html": [
       "<div>\n",
       "<style scoped>\n",
       "    .dataframe tbody tr th:only-of-type {\n",
       "        vertical-align: middle;\n",
       "    }\n",
       "\n",
       "    .dataframe tbody tr th {\n",
       "        vertical-align: top;\n",
       "    }\n",
       "\n",
       "    .dataframe thead th {\n",
       "        text-align: right;\n",
       "    }\n",
       "</style>\n",
       "<table border=\"1\" class=\"dataframe\">\n",
       "  <thead>\n",
       "    <tr style=\"text-align: right;\">\n",
       "      <th></th>\n",
       "      <th>group1</th>\n",
       "      <th>group2</th>\n",
       "      <th>Diff</th>\n",
       "      <th>Lower</th>\n",
       "      <th>Upper</th>\n",
       "      <th>q-value</th>\n",
       "      <th>p-value</th>\n",
       "    </tr>\n",
       "  </thead>\n",
       "  <tbody>\n",
       "    <tr>\n",
       "      <th>0</th>\n",
       "      <td>Old</td>\n",
       "      <td>Middle</td>\n",
       "      <td>49.931097</td>\n",
       "      <td>-151.037077</td>\n",
       "      <td>250.899271</td>\n",
       "      <td>0.825291</td>\n",
       "      <td>0.810001</td>\n",
       "    </tr>\n",
       "    <tr>\n",
       "      <th>1</th>\n",
       "      <td>Old</td>\n",
       "      <td>Young</td>\n",
       "      <td>969.889224</td>\n",
       "      <td>733.702194</td>\n",
       "      <td>1206.076253</td>\n",
       "      <td>13.640467</td>\n",
       "      <td>0.001000</td>\n",
       "    </tr>\n",
       "    <tr>\n",
       "      <th>2</th>\n",
       "      <td>Middle</td>\n",
       "      <td>Young</td>\n",
       "      <td>919.958127</td>\n",
       "      <td>717.334627</td>\n",
       "      <td>1122.581626</td>\n",
       "      <td>15.081391</td>\n",
       "      <td>0.001000</td>\n",
       "    </tr>\n",
       "  </tbody>\n",
       "</table>\n",
       "</div>"
      ],
      "text/plain": [
       "   group1  group2        Diff       Lower        Upper    q-value   p-value\n",
       "0     Old  Middle   49.931097 -151.037077   250.899271   0.825291  0.810001\n",
       "1     Old   Young  969.889224  733.702194  1206.076253  13.640467  0.001000\n",
       "2  Middle   Young  919.958127  717.334627  1122.581626  15.081391  0.001000"
      ]
     },
     "execution_count": 19,
     "metadata": {},
     "output_type": "execute_result"
    }
   ],
   "source": [
    "# To do the TukeyHSD\n",
    "res.tukey_hsd(df = dm, res_var = \"AmountSpent\", xfac_var = \"Age\", anova_model = \"AmountSpent ~ Age\")\n",
    "\n",
    "res.tukey_summary"
   ]
  },
  {
   "cell_type": "markdown",
   "id": "30f3b498",
   "metadata": {},
   "source": [
    "This shows that there is 81% chance that there is no difference of spending between the Old and Middle groups. But there onle 0.1% chance that there is no difference in spendng between Old vs Young and Middle vs Young age groups. Focus on the p-value column."
   ]
  },
  {
   "cell_type": "code",
   "execution_count": 20,
   "id": "225b070f",
   "metadata": {},
   "outputs": [
    {
     "name": "stdout",
     "output_type": "stream",
     "text": [
      "             df        sum_sq       mean_sq           F         PR(>F)\n",
      "History     2.0  4.245707e+08  2.122853e+08  541.884463  1.757938e-142\n",
      "Residual  694.0  2.718772e+08  3.917539e+05         NaN            NaN\n",
      "  group1  group2         Diff        Lower        Upper    q-value  p-value\n",
      "0   High     Low  1829.050298  1695.362537  1962.738060  45.446154    0.001\n",
      "1   High  Medium  1235.736312  1099.097143  1372.375480  30.040955    0.001\n",
      "2    Low  Medium   593.313987   453.344272   733.283702  14.080357    0.001\n"
     ]
    },
    {
     "name": "stderr",
     "output_type": "stream",
     "text": [
      "/Users/muhammadsaqifulalam/opt/anaconda3/lib/python3.9/site-packages/bioinfokit/analys.py:402: FutureWarning: Dropping of nuisance columns in DataFrame reductions (with 'numeric_only=None') is deprecated; in a future version this will raise TypeError.  Select only valid columns before calling the reduction.\n",
      "  mult_group[ele] = df[df[xfac_var] == ele].mean().loc[res_var]\n"
     ]
    }
   ],
   "source": [
    "# To repeat the same for whether there is a difference in average spenidng between the differnt frequency of visit groups\n",
    "res.anova_stat(df = dm, res_var = \"AmountSpent\", anova_model = \"AmountSpent ~ History\")\n",
    "\n",
    "print(res.anova_summary)\n",
    "\n",
    "# To get the tukeys HSD\n",
    "res.tukey_hsd(df = dm, res_var = \"AmountSpent\", xfac_var = \"History\", anova_model = \"AmountSpent ~ History\")\n",
    "\n",
    "print(res.tukey_summary)\n",
    "\n"
   ]
  },
  {
   "cell_type": "markdown",
   "id": "0845170d",
   "metadata": {},
   "source": [
    "This shows that the three groups have very different average spending!"
   ]
  },
  {
   "cell_type": "markdown",
   "id": "3c70cd76",
   "metadata": {},
   "source": [
    "## Chi Square tests"
   ]
  },
  {
   "cell_type": "markdown",
   "id": "248a8a6e",
   "metadata": {},
   "source": [
    "We have looked in how numeric values differ across groups, and statistically tested whether the values are statistically different among them. But what about cluster of non numeric values. For example, earlier in the session, we saw how customers frequency of visit varied across age groups. We can see thse data and ask, is there a relationship between the two variables. Does belonging to an age group makes you more likely to come to the shop? We can test this question using Chi Square test of Independence."
   ]
  },
  {
   "cell_type": "code",
   "execution_count": 21,
   "id": "70749934",
   "metadata": {},
   "outputs": [
    {
     "data": {
      "text/html": [
       "<div>\n",
       "<style scoped>\n",
       "    .dataframe tbody tr th:only-of-type {\n",
       "        vertical-align: middle;\n",
       "    }\n",
       "\n",
       "    .dataframe tbody tr th {\n",
       "        vertical-align: top;\n",
       "    }\n",
       "\n",
       "    .dataframe thead th {\n",
       "        text-align: right;\n",
       "    }\n",
       "</style>\n",
       "<table border=\"1\" class=\"dataframe\">\n",
       "  <thead>\n",
       "    <tr style=\"text-align: right;\">\n",
       "      <th>History</th>\n",
       "      <th>High</th>\n",
       "      <th>Low</th>\n",
       "      <th>Medium</th>\n",
       "      <th>All</th>\n",
       "    </tr>\n",
       "    <tr>\n",
       "      <th>Age</th>\n",
       "      <th></th>\n",
       "      <th></th>\n",
       "      <th></th>\n",
       "      <th></th>\n",
       "    </tr>\n",
       "  </thead>\n",
       "  <tbody>\n",
       "    <tr>\n",
       "      <th>Middle</th>\n",
       "      <td>167</td>\n",
       "      <td>69</td>\n",
       "      <td>127</td>\n",
       "      <td>363</td>\n",
       "    </tr>\n",
       "    <tr>\n",
       "      <th>Old</th>\n",
       "      <td>81</td>\n",
       "      <td>38</td>\n",
       "      <td>50</td>\n",
       "      <td>169</td>\n",
       "    </tr>\n",
       "    <tr>\n",
       "      <th>Young</th>\n",
       "      <td>7</td>\n",
       "      <td>123</td>\n",
       "      <td>35</td>\n",
       "      <td>165</td>\n",
       "    </tr>\n",
       "    <tr>\n",
       "      <th>All</th>\n",
       "      <td>255</td>\n",
       "      <td>230</td>\n",
       "      <td>212</td>\n",
       "      <td>697</td>\n",
       "    </tr>\n",
       "  </tbody>\n",
       "</table>\n",
       "</div>"
      ],
      "text/plain": [
       "History  High  Low  Medium  All\n",
       "Age                            \n",
       "Middle    167   69     127  363\n",
       "Old        81   38      50  169\n",
       "Young       7  123      35  165\n",
       "All       255  230     212  697"
      ]
     },
     "execution_count": 21,
     "metadata": {},
     "output_type": "execute_result"
    }
   ],
   "source": [
    "# First, lets look at the crosstab of age and history\n",
    "pd.crosstab(dm[\"Age\"], dm[\"History\"], margins = True)"
   ]
  },
  {
   "cell_type": "markdown",
   "id": "aba7228b",
   "metadata": {},
   "source": [
    "This shows that the middle aged group is more likely to come many times, and young age group is less likely to come many times. Now lets test this statistically"
   ]
  },
  {
   "cell_type": "code",
   "execution_count": 22,
   "id": "428f3d83",
   "metadata": {},
   "outputs": [
    {
     "data": {
      "text/plain": [
       "(182.5555493915048,\n",
       " 2.106993724345617e-38,\n",
       " 4,\n",
       " array([[132.80487805, 119.78479197, 110.41032999],\n",
       "        [ 61.82926829,  55.76757532,  51.40315638],\n",
       "        [ 60.36585366,  54.44763271,  50.18651363]]))"
      ]
     },
     "execution_count": 22,
     "metadata": {},
     "output_type": "execute_result"
    }
   ],
   "source": [
    "# We will using the basic scipy stats to start with\n",
    "\n",
    "# first we will be creating a crosstab and storing it in an object\n",
    "crosstab = pd.crosstab(dm[\"Age\"], dm[\"History\"])\n",
    "\n",
    "# Next, we will be running the chi square test\n",
    "stats.chi2_contingency(crosstab)"
   ]
  },
  {
   "cell_type": "markdown",
   "id": "b8647d7b",
   "metadata": {},
   "source": [
    "The first entry tells us about the chi square value, the second entry tells us about the p value of the chance of these two groups are being independent, and the third value tells us of the degree of freedom. Finally it shows us the expected values for each of the age groups and history, if they were actually independent. From this we can see that the chance of two variables being indepedent is almost 0, which means that the two variables are dependent. Interpretaion - the frequency of visit is related to the age group the customer belongs to.\n",
    "\n",
    "But these results are again hard to understand. Lets see if we can use some other library to get more descriptive results"
   ]
  },
  {
   "cell_type": "code",
   "execution_count": 23,
   "id": "06392a72",
   "metadata": {},
   "outputs": [
    {
     "name": "stdout",
     "output_type": "stream",
     "text": [
      "Requirement already satisfied: researchpy in ./opt/anaconda3/lib/python3.9/site-packages (0.3.5)\r\n",
      "Requirement already satisfied: numpy in ./opt/anaconda3/lib/python3.9/site-packages (from researchpy) (1.23.1)\r\n",
      "Requirement already satisfied: statsmodels in ./opt/anaconda3/lib/python3.9/site-packages (from researchpy) (0.13.2)\r\n",
      "Requirement already satisfied: patsy in ./opt/anaconda3/lib/python3.9/site-packages (from researchpy) (0.5.2)\r\n",
      "Requirement already satisfied: pandas in ./opt/anaconda3/lib/python3.9/site-packages (from researchpy) (1.4.3)\r\n",
      "Requirement already satisfied: scipy in ./opt/anaconda3/lib/python3.9/site-packages (from researchpy) (1.9.1)\r\n",
      "Requirement already satisfied: python-dateutil>=2.8.1 in ./opt/anaconda3/lib/python3.9/site-packages (from pandas->researchpy) (2.8.2)\r\n",
      "Requirement already satisfied: pytz>=2020.1 in ./opt/anaconda3/lib/python3.9/site-packages (from pandas->researchpy) (2022.1)\r\n",
      "Requirement already satisfied: six in ./opt/anaconda3/lib/python3.9/site-packages (from patsy->researchpy) (1.16.0)\r\n",
      "Requirement already satisfied: packaging>=21.3 in ./opt/anaconda3/lib/python3.9/site-packages (from statsmodels->researchpy) (21.3)\r\n",
      "Requirement already satisfied: pyparsing!=3.0.5,>=2.0.2 in ./opt/anaconda3/lib/python3.9/site-packages (from packaging>=21.3->statsmodels->researchpy) (3.0.9)\r\n"
     ]
    }
   ],
   "source": [
    "# Another library to help with statistical tests is researchpy. Lets install the library in our system and then load it\n",
    "\n",
    "!{sys.executable} -m pip install researchpy\n",
    "\n",
    "import researchpy as rp\n"
   ]
  },
  {
   "cell_type": "code",
   "execution_count": 24,
   "id": "753ca8db",
   "metadata": {},
   "outputs": [
    {
     "data": {
      "text/plain": [
       "(        History                      \n",
       " History    High    Low Medium     All\n",
       " Age                                  \n",
       " Middle    23.96   9.90  18.22   52.08\n",
       " Old       11.62   5.45   7.17   24.25\n",
       " Young      1.00  17.65   5.02   23.67\n",
       " All       36.59  33.00  30.42  100.00,\n",
       "                 Chi-square test   results\n",
       " 0  Pearson Chi-square ( 4.0) =   182.5555\n",
       " 1                    p-value =     0.0000\n",
       " 2                 Cramer's V =     0.3619,\n",
       "             History                        \n",
       " History        High         Low      Medium\n",
       " Age                                        \n",
       " Middle   132.804878  119.784792  110.410330\n",
       " Old       61.829268   55.767575   51.403156\n",
       " Young     60.365854   54.447633   50.186514)"
      ]
     },
     "execution_count": 24,
     "metadata": {},
     "output_type": "execute_result"
    }
   ],
   "source": [
    "# Now lets carry out the Chi Square test with researchpy\n",
    "rp.crosstab(dm[\"Age\"], dm[\"History\"], test = \"chi-square\", expected_freqs = True, prop = \"cell\")"
   ]
  },
  {
   "cell_type": "markdown",
   "id": "8198a5a6",
   "metadata": {},
   "source": [
    "This gives me a much more detailed summary of the result of the Chi Square Test! Feel free to test such test of dependence with other variables as well"
   ]
  },
  {
   "cell_type": "markdown",
   "id": "c98b319e",
   "metadata": {},
   "source": [
    "## Correlations"
   ]
  },
  {
   "cell_type": "markdown",
   "id": "33d9a6c2",
   "metadata": {},
   "source": [
    "Another statistical analysis that would be very helpful is to look at how the numeric variables are correlated with each other. In the session where we loaded the data and looked at some summaries, we saw some of the pakages created quick correlation matrices for us, as part of the report. But now lets focus on creating the actual correlation matrix, and see how we can visualize it!"
   ]
  },
  {
   "cell_type": "code",
   "execution_count": 25,
   "id": "4c549624",
   "metadata": {},
   "outputs": [
    {
     "data": {
      "text/html": [
       "<div>\n",
       "<style scoped>\n",
       "    .dataframe tbody tr th:only-of-type {\n",
       "        vertical-align: middle;\n",
       "    }\n",
       "\n",
       "    .dataframe tbody tr th {\n",
       "        vertical-align: top;\n",
       "    }\n",
       "\n",
       "    .dataframe thead th {\n",
       "        text-align: right;\n",
       "    }\n",
       "</style>\n",
       "<table border=\"1\" class=\"dataframe\">\n",
       "  <thead>\n",
       "    <tr style=\"text-align: right;\">\n",
       "      <th></th>\n",
       "      <th>Salary</th>\n",
       "      <th>Children</th>\n",
       "      <th>Catalogs</th>\n",
       "      <th>AmountSpent</th>\n",
       "    </tr>\n",
       "  </thead>\n",
       "  <tbody>\n",
       "    <tr>\n",
       "      <th>Salary</th>\n",
       "      <td>1.000000</td>\n",
       "      <td>0.049663</td>\n",
       "      <td>0.183551</td>\n",
       "      <td>0.699596</td>\n",
       "    </tr>\n",
       "    <tr>\n",
       "      <th>Children</th>\n",
       "      <td>0.049663</td>\n",
       "      <td>1.000000</td>\n",
       "      <td>-0.113455</td>\n",
       "      <td>-0.222308</td>\n",
       "    </tr>\n",
       "    <tr>\n",
       "      <th>Catalogs</th>\n",
       "      <td>0.183551</td>\n",
       "      <td>-0.113455</td>\n",
       "      <td>1.000000</td>\n",
       "      <td>0.472650</td>\n",
       "    </tr>\n",
       "    <tr>\n",
       "      <th>AmountSpent</th>\n",
       "      <td>0.699596</td>\n",
       "      <td>-0.222308</td>\n",
       "      <td>0.472650</td>\n",
       "      <td>1.000000</td>\n",
       "    </tr>\n",
       "  </tbody>\n",
       "</table>\n",
       "</div>"
      ],
      "text/plain": [
       "               Salary  Children  Catalogs  AmountSpent\n",
       "Salary       1.000000  0.049663  0.183551     0.699596\n",
       "Children     0.049663  1.000000 -0.113455    -0.222308\n",
       "Catalogs     0.183551 -0.113455  1.000000     0.472650\n",
       "AmountSpent  0.699596 -0.222308  0.472650     1.000000"
      ]
     },
     "execution_count": 25,
     "metadata": {},
     "output_type": "execute_result"
    }
   ],
   "source": [
    "# The quickest way to generate a correlation matrix\n",
    "dm.corr()"
   ]
  },
  {
   "cell_type": "markdown",
   "id": "796a7369",
   "metadata": {},
   "source": [
    "We can see that there is strong positive correlation between Salary and Amount Spent (as expected). But at the same time, there is a moderate positive correlation among Catalogs and Amount Spent and a slight negative correlation among number of Children and Amount Spent"
   ]
  },
  {
   "cell_type": "markdown",
   "id": "f9462d0f",
   "metadata": {},
   "source": [
    "Now lets see if we can visualize this correlation matrix. We have already loading Seaborn and Matplotlib, so the task is pretty straightforward"
   ]
  },
  {
   "cell_type": "code",
   "execution_count": 26,
   "id": "183c9461",
   "metadata": {},
   "outputs": [
    {
     "data": {
      "text/plain": [
       "<AxesSubplot:>"
      ]
     },
     "execution_count": 26,
     "metadata": {},
     "output_type": "execute_result"
    },
    {
     "data": {
      "image/png": "[encoded data removed]",
      "text/plain": [
       "<Figure size 640x480 with 2 Axes>"
      ]
     },
     "metadata": {},
     "output_type": "display_data"
    }
   ],
   "source": [
    "# Creating a correlation viz with the help of Seaborn\n",
    "sns.heatmap(dm.corr(), annot = True)"
   ]
  },
  {
   "cell_type": "markdown",
   "id": "69675058",
   "metadata": {},
   "source": [
    "We use the \"annot = True\" to get the correlation number along with the matrix"
   ]
  },
  {
   "cell_type": "markdown",
   "id": "87d6a66d",
   "metadata": {},
   "source": [
    "## Regression Analysis with Python"
   ]
  },
  {
   "cell_type": "markdown",
   "id": "506a296b",
   "metadata": {},
   "source": [
    "The last part of our statistical analysis would be regression. We will be covering simple linear regression and multiple linear regression. In python we can do more than just linear regression, such as probit and logit regression, and non linear regression, but unfortunately we do not have enough time cover them."
   ]
  },
  {
   "cell_type": "markdown",
   "id": "3c1248ad",
   "metadata": {},
   "source": [
    "Lets start with a simple linear regression of how salary impacts spending amount. The libraries we will use carry out the regression numpy and another is statsmodel. Normally numpy is stored within anaconda, so we dont need to donwload numby, but we will install statsmodels first"
   ]
  },
  {
   "cell_type": "code",
   "execution_count": 27,
   "id": "255c06c3",
   "metadata": {},
   "outputs": [
    {
     "name": "stdout",
     "output_type": "stream",
     "text": [
      "Requirement already satisfied: statsmodels in ./opt/anaconda3/lib/python3.9/site-packages (0.13.2)\r\n",
      "Requirement already satisfied: patsy>=0.5.2 in ./opt/anaconda3/lib/python3.9/site-packages (from statsmodels) (0.5.2)\r\n",
      "Requirement already satisfied: packaging>=21.3 in ./opt/anaconda3/lib/python3.9/site-packages (from statsmodels) (21.3)\r\n",
      "Requirement already satisfied: numpy>=1.17 in ./opt/anaconda3/lib/python3.9/site-packages (from statsmodels) (1.23.1)\r\n",
      "Requirement already satisfied: scipy>=1.3 in ./opt/anaconda3/lib/python3.9/site-packages (from statsmodels) (1.9.1)\r\n",
      "Requirement already satisfied: pandas>=0.25 in ./opt/anaconda3/lib/python3.9/site-packages (from statsmodels) (1.4.3)\r\n",
      "Requirement already satisfied: pyparsing!=3.0.5,>=2.0.2 in ./opt/anaconda3/lib/python3.9/site-packages (from packaging>=21.3->statsmodels) (3.0.9)\r\n",
      "Requirement already satisfied: python-dateutil>=2.8.1 in ./opt/anaconda3/lib/python3.9/site-packages (from pandas>=0.25->statsmodels) (2.8.2)\r\n",
      "Requirement already satisfied: pytz>=2020.1 in ./opt/anaconda3/lib/python3.9/site-packages (from pandas>=0.25->statsmodels) (2022.1)\r\n",
      "Requirement already satisfied: six in ./opt/anaconda3/lib/python3.9/site-packages (from patsy>=0.5.2->statsmodels) (1.16.0)\r\n"
     ]
    }
   ],
   "source": [
    "# Installing statsmodel\n",
    "!{sys.executable} -m pip install statsmodels"
   ]
  },
  {
   "cell_type": "code",
   "execution_count": 28,
   "id": "42616e5d",
   "metadata": {},
   "outputs": [],
   "source": [
    "# Now loading both the libraries\n",
    "import numpy as np\n",
    "import statsmodels.formula.api as smf\n",
    "import statsmodels.api as sm"
   ]
  },
  {
   "cell_type": "code",
   "execution_count": 29,
   "id": "6b211826",
   "metadata": {},
   "outputs": [
    {
     "data": {
      "text/html": [
       "<table class=\"simpletable\">\n",
       "<caption>OLS Regression Results</caption>\n",
       "<tr>\n",
       "  <th>Dep. Variable:</th>       <td>AmountSpent</td>   <th>  R-squared:         </th> <td>   0.489</td> \n",
       "</tr>\n",
       "<tr>\n",
       "  <th>Model:</th>                   <td>OLS</td>       <th>  Adj. R-squared:    </th> <td>   0.489</td> \n",
       "</tr>\n",
       "<tr>\n",
       "  <th>Method:</th>             <td>Least Squares</td>  <th>  F-statistic:       </th> <td>   956.7</td> \n",
       "</tr>\n",
       "<tr>\n",
       "  <th>Date:</th>             <td>Tue, 20 Sep 2022</td> <th>  Prob (F-statistic):</th> <td>7.50e-148</td>\n",
       "</tr>\n",
       "<tr>\n",
       "  <th>Time:</th>                 <td>20:06:54</td>     <th>  Log-Likelihood:    </th> <td> -7950.4</td> \n",
       "</tr>\n",
       "<tr>\n",
       "  <th>No. Observations:</th>      <td>  1000</td>      <th>  AIC:               </th> <td>1.590e+04</td>\n",
       "</tr>\n",
       "<tr>\n",
       "  <th>Df Residuals:</th>          <td>   998</td>      <th>  BIC:               </th> <td>1.591e+04</td>\n",
       "</tr>\n",
       "<tr>\n",
       "  <th>Df Model:</th>              <td>     1</td>      <th>                     </th>     <td> </td>    \n",
       "</tr>\n",
       "<tr>\n",
       "  <th>Covariance Type:</th>      <td>nonrobust</td>    <th>                     </th>     <td> </td>    \n",
       "</tr>\n",
       "</table>\n",
       "<table class=\"simpletable\">\n",
       "<tr>\n",
       "      <td></td>         <th>coef</th>     <th>std err</th>      <th>t</th>      <th>P>|t|</th>  <th>[0.025</th>    <th>0.975]</th>  \n",
       "</tr>\n",
       "<tr>\n",
       "  <th>Intercept</th> <td>  -15.3178</td> <td>   45.374</td> <td>   -0.338</td> <td> 0.736</td> <td> -104.358</td> <td>   73.722</td>\n",
       "</tr>\n",
       "<tr>\n",
       "  <th>Salary</th>    <td>    0.0220</td> <td>    0.001</td> <td>   30.930</td> <td> 0.000</td> <td>    0.021</td> <td>    0.023</td>\n",
       "</tr>\n",
       "</table>\n",
       "<table class=\"simpletable\">\n",
       "<tr>\n",
       "  <th>Omnibus:</th>       <td>189.162</td> <th>  Durbin-Watson:     </th> <td>   2.003</td> \n",
       "</tr>\n",
       "<tr>\n",
       "  <th>Prob(Omnibus):</th> <td> 0.000</td>  <th>  Jarque-Bera (JB):  </th> <td> 704.029</td> \n",
       "</tr>\n",
       "<tr>\n",
       "  <th>Skew:</th>          <td> 0.868</td>  <th>  Prob(JB):          </th> <td>1.32e-153</td>\n",
       "</tr>\n",
       "<tr>\n",
       "  <th>Kurtosis:</th>      <td> 6.726</td>  <th>  Cond. No.          </th> <td>1.33e+05</td> \n",
       "</tr>\n",
       "</table><br/><br/>Notes:<br/>[1] Standard Errors assume that the covariance matrix of the errors is correctly specified.<br/>[2] The condition number is large, 1.33e+05. This might indicate that there are<br/>strong multicollinearity or other numerical problems."
      ],
      "text/plain": [
       "<class 'statsmodels.iolib.summary.Summary'>\n",
       "\"\"\"\n",
       "                            OLS Regression Results                            \n",
       "==============================================================================\n",
       "Dep. Variable:            AmountSpent   R-squared:                       0.489\n",
       "Model:                            OLS   Adj. R-squared:                  0.489\n",
       "Method:                 Least Squares   F-statistic:                     956.7\n",
       "Date:                Tue, 20 Sep 2022   Prob (F-statistic):          7.50e-148\n",
       "Time:                        20:06:54   Log-Likelihood:                -7950.4\n",
       "No. Observations:                1000   AIC:                         1.590e+04\n",
       "Df Residuals:                     998   BIC:                         1.591e+04\n",
       "Df Model:                           1                                         \n",
       "Covariance Type:            nonrobust                                         \n",
       "==============================================================================\n",
       "                 coef    std err          t      P>|t|      [0.025      0.975]\n",
       "------------------------------------------------------------------------------\n",
       "Intercept    -15.3178     45.374     -0.338      0.736    -104.358      73.722\n",
       "Salary         0.0220      0.001     30.930      0.000       0.021       0.023\n",
       "==============================================================================\n",
       "Omnibus:                      189.162   Durbin-Watson:                   2.003\n",
       "Prob(Omnibus):                  0.000   Jarque-Bera (JB):              704.029\n",
       "Skew:                           0.868   Prob(JB):                    1.32e-153\n",
       "Kurtosis:                       6.726   Cond. No.                     1.33e+05\n",
       "==============================================================================\n",
       "\n",
       "Notes:\n",
       "[1] Standard Errors assume that the covariance matrix of the errors is correctly specified.\n",
       "[2] The condition number is large, 1.33e+05. This might indicate that there are\n",
       "strong multicollinearity or other numerical problems.\n",
       "\"\"\""
      ]
     },
     "execution_count": 29,
     "metadata": {},
     "output_type": "execute_result"
    }
   ],
   "source": [
    "# Now we will be creating our model\n",
    "\n",
    "# First we will create a model object\n",
    "simple_model = smf.ols(formula = \"AmountSpent ~ Salary\", data = dm)\n",
    "\n",
    "simple_model_result = simple_model.fit()\n",
    "\n",
    "simple_model_result.summary()"
   ]
  },
  {
   "cell_type": "markdown",
   "id": "e16383ec",
   "metadata": {},
   "source": [
    "Thats it, we have run a simple linear regression with python. This shows that with increase of salary by 1000 BDT, the spending increases by 22 BDT. From the R square we can see that the model explains 49% of real life variation. Now lets see what happens if we run multiple regression, with Salary, Catelogs and Number of Children"
   ]
  },
  {
   "cell_type": "code",
   "execution_count": 30,
   "id": "8a8ce148",
   "metadata": {},
   "outputs": [
    {
     "data": {
      "text/html": [
       "<table class=\"simpletable\">\n",
       "<caption>OLS Regression Results</caption>\n",
       "<tr>\n",
       "  <th>Dep. Variable:</th>       <td>AmountSpent</td>   <th>  R-squared:         </th> <td>   0.658</td> \n",
       "</tr>\n",
       "<tr>\n",
       "  <th>Model:</th>                   <td>OLS</td>       <th>  Adj. R-squared:    </th> <td>   0.657</td> \n",
       "</tr>\n",
       "<tr>\n",
       "  <th>Method:</th>             <td>Least Squares</td>  <th>  F-statistic:       </th> <td>   640.0</td> \n",
       "</tr>\n",
       "<tr>\n",
       "  <th>Date:</th>             <td>Tue, 20 Sep 2022</td> <th>  Prob (F-statistic):</th> <td>9.56e-232</td>\n",
       "</tr>\n",
       "<tr>\n",
       "  <th>Time:</th>                 <td>20:06:54</td>     <th>  Log-Likelihood:    </th> <td> -7749.4</td> \n",
       "</tr>\n",
       "<tr>\n",
       "  <th>No. Observations:</th>      <td>  1000</td>      <th>  AIC:               </th> <td>1.551e+04</td>\n",
       "</tr>\n",
       "<tr>\n",
       "  <th>Df Residuals:</th>          <td>   996</td>      <th>  BIC:               </th> <td>1.553e+04</td>\n",
       "</tr>\n",
       "<tr>\n",
       "  <th>Df Model:</th>              <td>     3</td>      <th>                     </th>     <td> </td>    \n",
       "</tr>\n",
       "<tr>\n",
       "  <th>Covariance Type:</th>      <td>nonrobust</td>    <th>                     </th>     <td> </td>    \n",
       "</tr>\n",
       "</table>\n",
       "<table class=\"simpletable\">\n",
       "<tr>\n",
       "      <td></td>         <th>coef</th>     <th>std err</th>      <th>t</th>      <th>P>|t|</th>  <th>[0.025</th>    <th>0.975]</th>  \n",
       "</tr>\n",
       "<tr>\n",
       "  <th>Intercept</th> <td> -442.7579</td> <td>   53.718</td> <td>   -8.242</td> <td> 0.000</td> <td> -548.171</td> <td> -337.345</td>\n",
       "</tr>\n",
       "<tr>\n",
       "  <th>Salary</th>    <td>    0.0204</td> <td>    0.001</td> <td>   34.417</td> <td> 0.000</td> <td>    0.019</td> <td>    0.022</td>\n",
       "</tr>\n",
       "<tr>\n",
       "  <th>Catalogs</th>  <td>   47.6953</td> <td>    2.755</td> <td>   17.310</td> <td> 0.000</td> <td>   42.288</td> <td>   53.102</td>\n",
       "</tr>\n",
       "<tr>\n",
       "  <th>Children</th>  <td> -198.6947</td> <td>   17.087</td> <td>  -11.628</td> <td> 0.000</td> <td> -232.226</td> <td> -165.163</td>\n",
       "</tr>\n",
       "</table>\n",
       "<table class=\"simpletable\">\n",
       "<tr>\n",
       "  <th>Omnibus:</th>       <td>258.685</td> <th>  Durbin-Watson:     </th> <td>   1.983</td> \n",
       "</tr>\n",
       "<tr>\n",
       "  <th>Prob(Omnibus):</th> <td> 0.000</td>  <th>  Jarque-Bera (JB):  </th> <td>1001.795</td> \n",
       "</tr>\n",
       "<tr>\n",
       "  <th>Skew:</th>          <td> 1.185</td>  <th>  Prob(JB):          </th> <td>2.90e-218</td>\n",
       "</tr>\n",
       "<tr>\n",
       "  <th>Kurtosis:</th>      <td> 7.292</td>  <th>  Cond. No.          </th> <td>1.94e+05</td> \n",
       "</tr>\n",
       "</table><br/><br/>Notes:<br/>[1] Standard Errors assume that the covariance matrix of the errors is correctly specified.<br/>[2] The condition number is large, 1.94e+05. This might indicate that there are<br/>strong multicollinearity or other numerical problems."
      ],
      "text/plain": [
       "<class 'statsmodels.iolib.summary.Summary'>\n",
       "\"\"\"\n",
       "                            OLS Regression Results                            \n",
       "==============================================================================\n",
       "Dep. Variable:            AmountSpent   R-squared:                       0.658\n",
       "Model:                            OLS   Adj. R-squared:                  0.657\n",
       "Method:                 Least Squares   F-statistic:                     640.0\n",
       "Date:                Tue, 20 Sep 2022   Prob (F-statistic):          9.56e-232\n",
       "Time:                        20:06:54   Log-Likelihood:                -7749.4\n",
       "No. Observations:                1000   AIC:                         1.551e+04\n",
       "Df Residuals:                     996   BIC:                         1.553e+04\n",
       "Df Model:                           3                                         \n",
       "Covariance Type:            nonrobust                                         \n",
       "==============================================================================\n",
       "                 coef    std err          t      P>|t|      [0.025      0.975]\n",
       "------------------------------------------------------------------------------\n",
       "Intercept   -442.7579     53.718     -8.242      0.000    -548.171    -337.345\n",
       "Salary         0.0204      0.001     34.417      0.000       0.019       0.022\n",
       "Catalogs      47.6953      2.755     17.310      0.000      42.288      53.102\n",
       "Children    -198.6947     17.087    -11.628      0.000    -232.226    -165.163\n",
       "==============================================================================\n",
       "Omnibus:                      258.685   Durbin-Watson:                   1.983\n",
       "Prob(Omnibus):                  0.000   Jarque-Bera (JB):             1001.795\n",
       "Skew:                           1.185   Prob(JB):                    2.90e-218\n",
       "Kurtosis:                       7.292   Cond. No.                     1.94e+05\n",
       "==============================================================================\n",
       "\n",
       "Notes:\n",
       "[1] Standard Errors assume that the covariance matrix of the errors is correctly specified.\n",
       "[2] The condition number is large, 1.94e+05. This might indicate that there are\n",
       "strong multicollinearity or other numerical problems.\n",
       "\"\"\""
      ]
     },
     "execution_count": 30,
     "metadata": {},
     "output_type": "execute_result"
    }
   ],
   "source": [
    "# Creating the model object\n",
    "mult_model1 = smf.ols(formula = \"AmountSpent ~ Salary + Catalogs + Children\", data = dm)\n",
    "\n",
    "# Generating the results\n",
    "mult_model1_res = mult_model1.fit()\n",
    "\n",
    "# Printing the results\n",
    "mult_model1_res.summary()"
   ]
  },
  {
   "cell_type": "markdown",
   "id": "824334e7",
   "metadata": {},
   "source": [
    "This model is capable of explaining 66% of the real life variation, and tells us that with every 1000 BDT increase in Salary, spending goes up by 20 BDT, with every single catalog given to customer, the spending goes up by 48 BDT, and with every extra children a customer has, spending goews down by 199 BDT."
   ]
  },
  {
   "cell_type": "code",
   "execution_count": 31,
   "id": "228ed9c2",
   "metadata": {},
   "outputs": [
    {
     "data": {
      "text/html": [
       "<table class=\"simpletable\">\n",
       "<caption>OLS Regression Results</caption>\n",
       "<tr>\n",
       "  <th>Dep. Variable:</th>       <td>AmountSpent</td>   <th>  R-squared:         </th> <td>   0.789</td> \n",
       "</tr>\n",
       "<tr>\n",
       "  <th>Model:</th>                   <td>OLS</td>       <th>  Adj. R-squared:    </th> <td>   0.785</td> \n",
       "</tr>\n",
       "<tr>\n",
       "  <th>Method:</th>             <td>Least Squares</td>  <th>  F-statistic:       </th> <td>   232.5</td> \n",
       "</tr>\n",
       "<tr>\n",
       "  <th>Date:</th>             <td>Tue, 20 Sep 2022</td> <th>  Prob (F-statistic):</th> <td>9.81e-223</td>\n",
       "</tr>\n",
       "<tr>\n",
       "  <th>Time:</th>                 <td>20:06:54</td>     <th>  Log-Likelihood:    </th> <td> -5261.6</td> \n",
       "</tr>\n",
       "<tr>\n",
       "  <th>No. Observations:</th>      <td>   697</td>      <th>  AIC:               </th> <td>1.055e+04</td>\n",
       "</tr>\n",
       "<tr>\n",
       "  <th>Df Residuals:</th>          <td>   685</td>      <th>  BIC:               </th> <td>1.060e+04</td>\n",
       "</tr>\n",
       "<tr>\n",
       "  <th>Df Model:</th>              <td>    11</td>      <th>                     </th>     <td> </td>    \n",
       "</tr>\n",
       "<tr>\n",
       "  <th>Covariance Type:</th>      <td>nonrobust</td>    <th>                     </th>     <td> </td>    \n",
       "</tr>\n",
       "</table>\n",
       "<table class=\"simpletable\">\n",
       "<tr>\n",
       "          <td></td>             <th>coef</th>     <th>std err</th>      <th>t</th>      <th>P>|t|</th>  <th>[0.025</th>    <th>0.975]</th>  \n",
       "</tr>\n",
       "<tr>\n",
       "  <th>Intercept</th>         <td> -249.5792</td> <td>  134.031</td> <td>   -1.862</td> <td> 0.063</td> <td> -512.740</td> <td>   13.581</td>\n",
       "</tr>\n",
       "<tr>\n",
       "  <th>Age[T.Old]</th>        <td>   41.3855</td> <td>   52.764</td> <td>    0.784</td> <td> 0.433</td> <td>  -62.213</td> <td>  144.984</td>\n",
       "</tr>\n",
       "<tr>\n",
       "  <th>Age[T.Young]</th>      <td>   89.6540</td> <td>   58.741</td> <td>    1.526</td> <td> 0.127</td> <td>  -25.679</td> <td>  204.987</td>\n",
       "</tr>\n",
       "<tr>\n",
       "  <th>Gender[T.Male]</th>    <td>  -53.7006</td> <td>   38.016</td> <td>   -1.413</td> <td> 0.158</td> <td> -128.342</td> <td>   20.941</td>\n",
       "</tr>\n",
       "<tr>\n",
       "  <th>Married[T.Single]</th> <td>   19.5026</td> <td>   49.812</td> <td>    0.392</td> <td> 0.696</td> <td>  -78.299</td> <td>  117.305</td>\n",
       "</tr>\n",
       "<tr>\n",
       "  <th>Location[T.Far]</th>   <td>  608.9925</td> <td>   43.985</td> <td>   13.845</td> <td> 0.000</td> <td>  522.630</td> <td>  695.355</td>\n",
       "</tr>\n",
       "<tr>\n",
       "  <th>History[T.Low]</th>    <td> -267.5142</td> <td>   88.617</td> <td>   -3.019</td> <td> 0.003</td> <td> -441.507</td> <td>  -93.521</td>\n",
       "</tr>\n",
       "<tr>\n",
       "  <th>History[T.Medium]</th> <td> -344.5525</td> <td>   59.964</td> <td>   -5.746</td> <td> 0.000</td> <td> -462.288</td> <td> -226.817</td>\n",
       "</tr>\n",
       "<tr>\n",
       "  <th>OwnHome[T.Rent]</th>   <td>  -18.2885</td> <td>   41.512</td> <td>   -0.441</td> <td> 0.660</td> <td>  -99.794</td> <td>   63.217</td>\n",
       "</tr>\n",
       "<tr>\n",
       "  <th>Catalogs</th>          <td>   40.5208</td> <td>    2.868</td> <td>   14.128</td> <td> 0.000</td> <td>   34.889</td> <td>   46.152</td>\n",
       "</tr>\n",
       "<tr>\n",
       "  <th>Children</th>          <td> -268.2835</td> <td>   25.019</td> <td>  -10.723</td> <td> 0.000</td> <td> -317.407</td> <td> -219.160</td>\n",
       "</tr>\n",
       "<tr>\n",
       "  <th>Salary</th>            <td>    0.0188</td> <td>    0.001</td> <td>   15.124</td> <td> 0.000</td> <td>    0.016</td> <td>    0.021</td>\n",
       "</tr>\n",
       "</table>\n",
       "<table class=\"simpletable\">\n",
       "<tr>\n",
       "  <th>Omnibus:</th>       <td>265.717</td> <th>  Durbin-Watson:     </th> <td>   2.016</td>\n",
       "</tr>\n",
       "<tr>\n",
       "  <th>Prob(Omnibus):</th> <td> 0.000</td>  <th>  Jarque-Bera (JB):  </th> <td>1645.241</td>\n",
       "</tr>\n",
       "<tr>\n",
       "  <th>Skew:</th>          <td> 1.581</td>  <th>  Prob(JB):          </th> <td>    0.00</td>\n",
       "</tr>\n",
       "<tr>\n",
       "  <th>Kurtosis:</th>      <td> 9.831</td>  <th>  Cond. No.          </th> <td>5.83e+05</td>\n",
       "</tr>\n",
       "</table><br/><br/>Notes:<br/>[1] Standard Errors assume that the covariance matrix of the errors is correctly specified.<br/>[2] The condition number is large, 5.83e+05. This might indicate that there are<br/>strong multicollinearity or other numerical problems."
      ],
      "text/plain": [
       "<class 'statsmodels.iolib.summary.Summary'>\n",
       "\"\"\"\n",
       "                            OLS Regression Results                            \n",
       "==============================================================================\n",
       "Dep. Variable:            AmountSpent   R-squared:                       0.789\n",
       "Model:                            OLS   Adj. R-squared:                  0.785\n",
       "Method:                 Least Squares   F-statistic:                     232.5\n",
       "Date:                Tue, 20 Sep 2022   Prob (F-statistic):          9.81e-223\n",
       "Time:                        20:06:54   Log-Likelihood:                -5261.6\n",
       "No. Observations:                 697   AIC:                         1.055e+04\n",
       "Df Residuals:                     685   BIC:                         1.060e+04\n",
       "Df Model:                          11                                         \n",
       "Covariance Type:            nonrobust                                         \n",
       "=====================================================================================\n",
       "                        coef    std err          t      P>|t|      [0.025      0.975]\n",
       "-------------------------------------------------------------------------------------\n",
       "Intercept          -249.5792    134.031     -1.862      0.063    -512.740      13.581\n",
       "Age[T.Old]           41.3855     52.764      0.784      0.433     -62.213     144.984\n",
       "Age[T.Young]         89.6540     58.741      1.526      0.127     -25.679     204.987\n",
       "Gender[T.Male]      -53.7006     38.016     -1.413      0.158    -128.342      20.941\n",
       "Married[T.Single]    19.5026     49.812      0.392      0.696     -78.299     117.305\n",
       "Location[T.Far]     608.9925     43.985     13.845      0.000     522.630     695.355\n",
       "History[T.Low]     -267.5142     88.617     -3.019      0.003    -441.507     -93.521\n",
       "History[T.Medium]  -344.5525     59.964     -5.746      0.000    -462.288    -226.817\n",
       "OwnHome[T.Rent]     -18.2885     41.512     -0.441      0.660     -99.794      63.217\n",
       "Catalogs             40.5208      2.868     14.128      0.000      34.889      46.152\n",
       "Children           -268.2835     25.019    -10.723      0.000    -317.407    -219.160\n",
       "Salary                0.0188      0.001     15.124      0.000       0.016       0.021\n",
       "==============================================================================\n",
       "Omnibus:                      265.717   Durbin-Watson:                   2.016\n",
       "Prob(Omnibus):                  0.000   Jarque-Bera (JB):             1645.241\n",
       "Skew:                           1.581   Prob(JB):                         0.00\n",
       "Kurtosis:                       9.831   Cond. No.                     5.83e+05\n",
       "==============================================================================\n",
       "\n",
       "Notes:\n",
       "[1] Standard Errors assume that the covariance matrix of the errors is correctly specified.\n",
       "[2] The condition number is large, 5.83e+05. This might indicate that there are\n",
       "strong multicollinearity or other numerical problems.\n",
       "\"\"\""
      ]
     },
     "execution_count": 31,
     "metadata": {},
     "output_type": "execute_result"
    }
   ],
   "source": [
    "# How about we check for all the variables in the dataset and how they impact sending amount\n",
    "\n",
    "# First creating the model\n",
    "mult_reg_all = smf.ols(formula = \"AmountSpent ~ Age + Gender + Married + Location + Catalogs + History + Children + Salary + OwnHome\", data = dm)\n",
    "\n",
    "# The lets fit the model and get the result\n",
    "mult_reg_all_result = mult_reg_all.fit()\n",
    "\n",
    "# Finally printing out the summary\n",
    "mult_reg_all_result.summary()\n",
    "     "
   ]
  },
  {
   "cell_type": "markdown",
   "id": "c5892f97",
   "metadata": {},
   "source": [
    "How about you give it a try to explain the regression output! End of this session"
   ]
  },
  {
   "cell_type": "code",
   "execution_count": null,
   "id": "1001485a",
   "metadata": {},
   "outputs": [],
   "source": []
  }
 ],
 "metadata": {
  "kernelspec": {
   "display_name": "Python 3 (ipykernel)",
   "language": "python",
   "name": "python3"
  },
  "language_info": {
   "codemirror_mode": {
    "name": "ipython",
    "version": 3
   },
   "file_extension": ".py",
   "mimetype": "text/x-python",
   "name": "python",
   "nbconvert_exporter": "python",
   "pygments_lexer": "ipython3",
   "version": "3.9.13"
  }
 },
 "nbformat": 4,
 "nbformat_minor": 5
}
