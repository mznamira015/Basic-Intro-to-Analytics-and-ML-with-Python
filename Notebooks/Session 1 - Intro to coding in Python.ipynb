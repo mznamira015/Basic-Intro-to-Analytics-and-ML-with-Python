{
 "cells": [
  {
   "cell_type": "markdown",
   "metadata": {},
   "source": [
    "# Your First Python Jupyter Notebook"
   ]
  },
  {
   "cell_type": "markdown",
   "metadata": {},
   "source": [
    "In this notebook, you will run your first codes with Python. This field is known as a markdown file, where we use texts without any code. These markdowns are used to explain why we are doing something, what is the reason of running a code, and if we get results, what are the implications of the results"
   ]
  },
  {
   "cell_type": "code",
   "execution_count": 1,
   "metadata": {},
   "outputs": [],
   "source": [
    "# This is a comment within a code. This line will not be executed. Its good to have comments with the code,\n",
    "# as they help in explaining the code. To write a comment, we start the first line with a '#'"
   ]
  },
  {
   "cell_type": "markdown",
   "metadata": {},
   "source": [
    "Now we will run our first line of code - 'Hello World'"
   ]
  },
  {
   "cell_type": "code",
   "execution_count": 3,
   "metadata": {},
   "outputs": [
    {
     "name": "stdout",
     "output_type": "stream",
     "text": [
      "Hello World!\n"
     ]
    }
   ],
   "source": [
    "print(\"Hello World!\")"
   ]
  },
  {
   "cell_type": "markdown",
   "metadata": {},
   "source": [
    "Notice that we are using \"\". This is because in most coding languages, we need to have a system to differentiate between numeric input vs non numeric input. Anything we put within \"\" is considered non numeric. Following is an example"
   ]
  },
  {
   "cell_type": "code",
   "execution_count": 8,
   "metadata": {},
   "outputs": [
    {
     "data": {
      "text/plain": [
       "2"
      ]
     },
     "execution_count": 8,
     "metadata": {},
     "output_type": "execute_result"
    }
   ],
   "source": [
    "# numeric code\n",
    "\n",
    "1 + 1"
   ]
  },
  {
   "cell_type": "code",
   "execution_count": 6,
   "metadata": {},
   "outputs": [
    {
     "data": {
      "text/plain": [
       "'AB'"
      ]
     },
     "execution_count": 6,
     "metadata": {},
     "output_type": "execute_result"
    }
   ],
   "source": [
    "# non_numeric code\n",
    "\n",
    "\"A\" + \"B\""
   ]
  },
  {
   "cell_type": "code",
   "execution_count": 7,
   "metadata": {},
   "outputs": [
    {
     "data": {
      "text/plain": [
       "'11'"
      ]
     },
     "execution_count": 7,
     "metadata": {},
     "output_type": "execute_result"
    }
   ],
   "source": [
    "# non_numberic code involving numbers\n",
    "\n",
    "\"1\" + \"1\""
   ]
  },
  {
   "cell_type": "markdown",
   "metadata": {},
   "source": [
    "An additonal thing we need to understand is the 'print()' code covering the \"Hello World!\". Python, similar to R and many other coding languages, uses functions to get its job done. So 'print()' is a function. To know more about a certain function we can run a help on the function"
   ]
  },
  {
   "cell_type": "code",
   "execution_count": 11,
   "metadata": {},
   "outputs": [
    {
     "name": "stdout",
     "output_type": "stream",
     "text": [
      "Help on built-in function print in module builtins:\n",
      "\n",
      "print(...)\n",
      "    print(value, ..., sep=' ', end='\\n', file=sys.stdout, flush=False)\n",
      "    \n",
      "    Prints the values to a stream, or to sys.stdout by default.\n",
      "    Optional keyword arguments:\n",
      "    file:  a file-like object (stream); defaults to the current sys.stdout.\n",
      "    sep:   string inserted between values, default a space.\n",
      "    end:   string appended after the last value, default a newline.\n",
      "    flush: whether to forcibly flush the stream.\n",
      "\n"
     ]
    }
   ],
   "source": [
    "help(print)"
   ]
  },
  {
   "cell_type": "markdown",
   "metadata": {},
   "source": [
    "Might seem a lot of information, but we will over time get used to reading the details. For now, we focus on the Arithmetic operations using Python"
   ]
  },
  {
   "cell_type": "markdown",
   "metadata": {},
   "source": [
    "The following are the basic numeric opeartions in Python"
   ]
  },
  {
   "cell_type": "code",
   "execution_count": 12,
   "metadata": {},
   "outputs": [
    {
     "data": {
      "text/plain": [
       "2.4"
      ]
     },
     "execution_count": 12,
     "metadata": {},
     "output_type": "execute_result"
    }
   ],
   "source": [
    "#addition\n",
    "10 + 5\n",
    "\n",
    "#substraction\n",
    "10 - 5\n",
    "\n",
    "#multiplication\n",
    "10 * 5\n",
    "\n",
    "#division\n",
    "12 / 5"
   ]
  },
  {
   "cell_type": "markdown",
   "metadata": {},
   "source": [
    "As you can see, only the outcome of the last line of code is shown in the output. We can either run each line of code or fix this issue as follows"
   ]
  },
  {
   "cell_type": "code",
   "execution_count": 13,
   "metadata": {},
   "outputs": [
    {
     "name": "stdout",
     "output_type": "stream",
     "text": [
      "15\n",
      "5\n",
      "50\n",
      "2.4\n"
     ]
    }
   ],
   "source": [
    "#addition\n",
    "print(10 + 5)\n",
    "\n",
    "#substraction\n",
    "print(10 - 5)\n",
    "\n",
    "#multiplication\n",
    "print(10 * 5)\n",
    "\n",
    "#division\n",
    "print(12 / 5)"
   ]
  },
  {
   "cell_type": "markdown",
   "metadata": {},
   "source": [
    "Some advanced arithmatic operations:"
   ]
  },
  {
   "cell_type": "code",
   "execution_count": 16,
   "metadata": {},
   "outputs": [
    {
     "name": "stdout",
     "output_type": "stream",
     "text": [
      "8\n",
      "3\n",
      "2\n"
     ]
    }
   ],
   "source": [
    "#exponent\n",
    "\n",
    "print(2 ** 3)\n",
    "\n",
    "#modulo - remainder\n",
    "print(13 % 5)\n",
    "\n",
    "#integer output of the division\n",
    "print(13 // 5)"
   ]
  },
  {
   "cell_type": "markdown",
   "metadata": {},
   "source": [
    "But we dont use python to only do calculations, do we? We can assign values to variables and then work with them!"
   ]
  },
  {
   "cell_type": "code",
   "execution_count": 18,
   "metadata": {},
   "outputs": [
    {
     "name": "stdout",
     "output_type": "stream",
     "text": [
      "300\n",
      "20\n"
     ]
    }
   ],
   "source": [
    "#assigning values to variables\n",
    "A = 10\n",
    "B = 30\n",
    "\n",
    "#making a calculation with the variables\n",
    "print(A * B)\n",
    "\n",
    "#storing result of a calculation in another variable\n",
    "C = B - A\n",
    "print(C)\n"
   ]
  },
  {
   "cell_type": "markdown",
   "metadata": {},
   "source": [
    "In python, when we are working with many variables (and we call them objects), things might go out of hand if we loose track of what the variables are and what we have stored in them. So there is an easy code to check what variables we have created so far"
   ]
  },
  {
   "cell_type": "code",
   "execution_count": 19,
   "metadata": {},
   "outputs": [
    {
     "name": "stdout",
     "output_type": "stream",
     "text": [
      "Variable   Type    Data/Info\n",
      "----------------------------\n",
      "A          int     10\n",
      "B          int     30\n",
      "C          int     20\n"
     ]
    }
   ],
   "source": [
    "%whos"
   ]
  },
  {
   "cell_type": "markdown",
   "metadata": {},
   "source": [
    "Suppose we made a mistake with a variable calculation. Instead of C = B - A, it should have been C = B / A. Very easy to correct in Python"
   ]
  },
  {
   "cell_type": "code",
   "execution_count": 20,
   "metadata": {},
   "outputs": [
    {
     "name": "stdout",
     "output_type": "stream",
     "text": [
      "3.0\n"
     ]
    }
   ],
   "source": [
    "C = B / A\n",
    "print(C)"
   ]
  },
  {
   "cell_type": "code",
   "execution_count": 21,
   "metadata": {},
   "outputs": [
    {
     "name": "stdout",
     "output_type": "stream",
     "text": [
      "Variable   Type     Data/Info\n",
      "-----------------------------\n",
      "A          int      10\n",
      "B          int      30\n",
      "C          float    3.0\n"
     ]
    }
   ],
   "source": [
    "%whos"
   ]
  },
  {
   "cell_type": "markdown",
   "metadata": {},
   "source": [
    "Instead of an float (coding jargon for numbers with decimal points), say we know that B will always be divisible by A, and by that virtue, C will always be integer. We can just decide to store C as an integer!"
   ]
  },
  {
   "cell_type": "code",
   "execution_count": 24,
   "metadata": {},
   "outputs": [
    {
     "name": "stdout",
     "output_type": "stream",
     "text": [
      "3\n",
      "3\n"
     ]
    }
   ],
   "source": [
    "#converting C to integer\n",
    "print(int(C))\n",
    "\n",
    "#storing C as integer\n",
    "C = int(C)\n",
    "print(C)"
   ]
  },
  {
   "cell_type": "markdown",
   "metadata": {},
   "source": [
    "We have so far only worked with numeric variable values. But variables can also be text. We call them 'string' (another coding jargon). Lets see how they work"
   ]
  },
  {
   "cell_type": "code",
   "execution_count": 26,
   "metadata": {},
   "outputs": [
    {
     "name": "stdout",
     "output_type": "stream",
     "text": [
      "Wasim\n",
      "Akram\n"
     ]
    }
   ],
   "source": [
    "#lets create two text variables\n",
    "X = \"Wasim\"\n",
    "Y = \"Akram\"\n",
    "\n",
    "print(X)\n",
    "print(Y)"
   ]
  },
  {
   "cell_type": "markdown",
   "metadata": {},
   "source": [
    "What happens when we want to do calculations with strings?"
   ]
  },
  {
   "cell_type": "code",
   "execution_count": 27,
   "metadata": {},
   "outputs": [
    {
     "name": "stdout",
     "output_type": "stream",
     "text": [
      "WasimAkram\n"
     ]
    },
    {
     "ename": "TypeError",
     "evalue": "unsupported operand type(s) for -: 'str' and 'str'",
     "output_type": "error",
     "traceback": [
      "\u001b[0;31m---------------------------------------------------------------------------\u001b[0m",
      "\u001b[0;31mTypeError\u001b[0m                                 Traceback (most recent call last)",
      "\u001b[0;32m<ipython-input-27-8d576e615361>\u001b[0m in \u001b[0;36m<module>\u001b[0;34m\u001b[0m\n\u001b[1;32m      3\u001b[0m \u001b[0;34m\u001b[0m\u001b[0m\n\u001b[1;32m      4\u001b[0m \u001b[0;31m#and then check with substraction\u001b[0m\u001b[0;34m\u001b[0m\u001b[0;34m\u001b[0m\u001b[0;34m\u001b[0m\u001b[0m\n\u001b[0;32m----> 5\u001b[0;31m \u001b[0mprint\u001b[0m\u001b[0;34m(\u001b[0m\u001b[0mX\u001b[0m \u001b[0;34m-\u001b[0m \u001b[0mY\u001b[0m\u001b[0;34m)\u001b[0m\u001b[0;34m\u001b[0m\u001b[0;34m\u001b[0m\u001b[0m\n\u001b[0m",
      "\u001b[0;31mTypeError\u001b[0m: unsupported operand type(s) for -: 'str' and 'str'"
     ]
    }
   ],
   "source": [
    "#lets start with addition\n",
    "print(X + Y)\n",
    "\n",
    "#and then check with substraction\n",
    "print(X - Y)"
   ]
  },
  {
   "cell_type": "markdown",
   "metadata": {},
   "source": [
    "The error in the last line tells us that we cannot do substraction between X and Y as both are stored as str - strings. Basically arithmatic operations do not work on string. '+' worked because it is the short form for concatenating two text variables. Other ways we can do that are"
   ]
  },
  {
   "cell_type": "code",
   "execution_count": 28,
   "metadata": {},
   "outputs": [
    {
     "name": "stdout",
     "output_type": "stream",
     "text": [
      "Wasim Akram\n"
     ]
    }
   ],
   "source": [
    "#concatenating X and Y\n",
    "print(X,Y)"
   ]
  },
  {
   "cell_type": "markdown",
   "metadata": {},
   "source": [
    "You notice that python has auto put in a space between the two texts. For this example, this was very useful. But not always. Someties, we might need to join texts together  without space, where we can use the '+' sign, or we can try this:"
   ]
  },
  {
   "cell_type": "code",
   "execution_count": 30,
   "metadata": {},
   "outputs": [
    {
     "name": "stdout",
     "output_type": "stream",
     "text": [
      "WasimAkram\n"
     ]
    }
   ],
   "source": [
    "#concatenating X and Y without space\n",
    "print(X, Y, sep = '')"
   ]
  },
  {
   "cell_type": "markdown",
   "metadata": {},
   "source": [
    "This is a good example of the use of parameters. Parameters are arguements in a function. the print() function has few parameters. If you want to know more about these parameters, you can run the help() code on print function, or go back to the code line earlier in the notebook, and run the code, and see the help documentation on print.\n",
    "\n",
    "The separator parameter of the print() function is very helpful in that it allows multiple options of concatenatic text. Lets see one more example:"
   ]
  },
  {
   "cell_type": "code",
   "execution_count": 32,
   "metadata": {},
   "outputs": [
    {
     "name": "stdout",
     "output_type": "stream",
     "text": [
      "Akram; Wasim\n"
     ]
    }
   ],
   "source": [
    "#concatenating using a ;\n",
    "print(Y, X, sep = '; ')"
   ]
  },
  {
   "cell_type": "markdown",
   "metadata": {},
   "source": [
    "How are the strings stored in Python? Why not find out"
   ]
  },
  {
   "cell_type": "code",
   "execution_count": 33,
   "metadata": {},
   "outputs": [
    {
     "name": "stdout",
     "output_type": "stream",
     "text": [
      "Variable   Type    Data/Info\n",
      "----------------------------\n",
      "A          int     10\n",
      "B          int     30\n",
      "C          int     3\n",
      "X          str     Wasim\n",
      "Y          str     Akram\n"
     ]
    }
   ],
   "source": [
    "%whos"
   ]
  },
  {
   "cell_type": "markdown",
   "metadata": {},
   "source": [
    "We are almost reaching the end of our intro session. Besides string and numeric variables, there is another way information is stored in Python - the Boolean. Boolean data type has two values - TRUE or FALSE. They are normally the result of conditional statements such as is A > B? Or say, which days in a week we had temperatures higher than 36 degrees. We will look into conditional statemenst in the next weeks lesson, but for now, let us look into boolean variables. For now let us start by creating three variables in boolean"
   ]
  },
  {
   "cell_type": "code",
   "execution_count": 34,
   "metadata": {},
   "outputs": [
    {
     "name": "stdout",
     "output_type": "stream",
     "text": [
      "True True False\n"
     ]
    }
   ],
   "source": [
    "# boolean variables having the value true\n",
    "healthy_food = True\n",
    "exercise = True\n",
    "\n",
    "#boolean values having the value false\n",
    "sugar = False\n",
    "\n",
    "print(healthy_food, exercise, sugar)"
   ]
  },
  {
   "cell_type": "markdown",
   "metadata": {},
   "source": [
    "From just the look of it, boolean values look very similar to text, but notice that we are not putting any \"\" around the True or False, as these are not strings. A quick calculation using booleans will show how they are different from strings"
   ]
  },
  {
   "cell_type": "code",
   "execution_count": 37,
   "metadata": {},
   "outputs": [
    {
     "name": "stdout",
     "output_type": "stream",
     "text": [
      "2\n",
      "2\n"
     ]
    }
   ],
   "source": [
    "#what is the total of healthy_food and exercise?\n",
    "print(healthy_food + exercise)\n",
    "\n",
    "#what is the total of healthy_food, exercise and sugar\n",
    "print(healthy_food + exercise + sugar)"
   ]
  },
  {
   "cell_type": "markdown",
   "metadata": {},
   "source": [
    "So whats happening here??? Technically, a boolean number is stored both a boolean and numeric. That is, you can do numeric calculations with booleans. True means - 1, False means - 0. This comes in super handy when we are working with conditional statements such as - In a month, how many days did the profit go below 0 (there was a loss) in a store? The way to answer that is to compare every day sales in a month with 0, and get true for those which were less than zero and false for which were more than 0. Then adding these Trues and Falses will give us - the total number of days where the store was making a loss. If this is too much for you to grasp now, then dont panic, we will show one situation by example in the next week"
   ]
  },
  {
   "cell_type": "markdown",
   "metadata": {},
   "source": [
    "One last thing we will focus on todays lesson is type conversion. If we want we can convert a numeric value to string or to boolean, given certain conditions. Lets see the following codes"
   ]
  },
  {
   "cell_type": "code",
   "execution_count": 39,
   "metadata": {},
   "outputs": [
    {
     "name": "stdout",
     "output_type": "stream",
     "text": [
      "55\n",
      "Variable                  Type    Data/Info\n",
      "-------------------------------------------\n",
      "A                         int     10\n",
      "B                         int     30\n",
      "C                         int     3\n",
      "X                         str     Wasim\n",
      "Y                         str     Akram\n",
      "exercise                  bool    True\n",
      "healthy_food              bool    True\n",
      "numeric_variable          int     55\n",
      "string_numeric_variable   str     55\n",
      "sugar                     bool    False\n"
     ]
    }
   ],
   "source": [
    "#Converting numeric to string\n",
    "numeric_variable = 55\n",
    "string_numeric_variable = str(numeric_variable)\n",
    "print(string_numeric_variable)\n",
    "%whos"
   ]
  },
  {
   "cell_type": "code",
   "execution_count": 41,
   "metadata": {},
   "outputs": [
    {
     "name": "stdout",
     "output_type": "stream",
     "text": [
      "Variable                      Type    Data/Info\n",
      "-----------------------------------------------\n",
      "A                             int     10\n",
      "B                             int     30\n",
      "C                             int     3\n",
      "X                             str     Wasim\n",
      "Y                             str     Akram\n",
      "exercise                      bool    True\n",
      "healthy_food                  bool    True\n",
      "numeric_variable              int     55\n",
      "string_converted_to_numeric   int     55\n",
      "string_numeric_variable       str     55\n",
      "sugar                         bool    False\n"
     ]
    }
   ],
   "source": [
    "#converting string to numeric\n",
    "string_converted_to_numeric = int(string_numeric_variable)\n",
    "%whos"
   ]
  },
  {
   "cell_type": "code",
   "execution_count": 42,
   "metadata": {},
   "outputs": [
    {
     "ename": "ValueError",
     "evalue": "invalid literal for int() with base 10: 'hello'",
     "output_type": "error",
     "traceback": [
      "\u001b[0;31m---------------------------------------------------------------------------\u001b[0m",
      "\u001b[0;31mValueError\u001b[0m                                Traceback (most recent call last)",
      "\u001b[0;32m<ipython-input-42-87f2ec88884b>\u001b[0m in \u001b[0;36m<module>\u001b[0;34m\u001b[0m\n\u001b[1;32m      1\u001b[0m \u001b[0;31m#but what happens when we try to convert a text string to numeric\u001b[0m\u001b[0;34m\u001b[0m\u001b[0;34m\u001b[0m\u001b[0;34m\u001b[0m\u001b[0m\n\u001b[1;32m      2\u001b[0m \u001b[0mstring_variable\u001b[0m \u001b[0;34m=\u001b[0m \u001b[0;34m\"hello\"\u001b[0m\u001b[0;34m\u001b[0m\u001b[0;34m\u001b[0m\u001b[0m\n\u001b[0;32m----> 3\u001b[0;31m \u001b[0mint\u001b[0m\u001b[0;34m(\u001b[0m\u001b[0mstring_variable\u001b[0m\u001b[0;34m)\u001b[0m\u001b[0;34m\u001b[0m\u001b[0;34m\u001b[0m\u001b[0m\n\u001b[0m",
      "\u001b[0;31mValueError\u001b[0m: invalid literal for int() with base 10: 'hello'"
     ]
    }
   ],
   "source": [
    "#but what happens when we try to convert a text string to numeric\n",
    "string_variable = \"hello\"\n",
    "int(string_variable)"
   ]
  },
  {
   "cell_type": "code",
   "execution_count": 43,
   "metadata": {
    "scrolled": true
   },
   "outputs": [
    {
     "name": "stdout",
     "output_type": "stream",
     "text": [
      "Variable                      Type    Data/Info\n",
      "-----------------------------------------------\n",
      "A                             int     10\n",
      "B                             int     30\n",
      "C                             int     3\n",
      "X                             str     Wasim\n",
      "Y                             str     Akram\n",
      "boolean_to_numeric_false      int     0\n",
      "boolean_to_numeric_true       int     1\n",
      "boolean_variable_false        bool    False\n",
      "boolean_variable_true         bool    True\n",
      "exercise                      bool    True\n",
      "healthy_food                  bool    True\n",
      "numeric_variable              int     55\n",
      "string_converted_to_numeric   int     55\n",
      "string_numeric_variable       str     55\n",
      "string_variable               str     hello\n",
      "sugar                         bool    False\n"
     ]
    }
   ],
   "source": [
    "#converting boolean to numeric\n",
    "boolean_variable_true = True\n",
    "boolean_variable_false = False\n",
    "\n",
    "boolean_to_numeric_true = int(boolean_variable_true)\n",
    "boolean_to_numeric_false = int(boolean_variable_false)\n",
    "\n",
    "%whos"
   ]
  },
  {
   "cell_type": "markdown",
   "metadata": {},
   "source": [
    "This also explains why we can quickly do arithmatic ops using booleans!"
   ]
  }
 ],
 "metadata": {
  "kernelspec": {
   "display_name": "Python 3",
   "language": "python",
   "name": "python3"
  },
  "language_info": {
   "codemirror_mode": {
    "name": "ipython",
    "version": 3
   },
   "file_extension": ".py",
   "mimetype": "text/x-python",
   "name": "python",
   "nbconvert_exporter": "python",
   "pygments_lexer": "ipython3",
   "version": "3.8.3"
  }
 },
 "nbformat": 4,
 "nbformat_minor": 4
}
